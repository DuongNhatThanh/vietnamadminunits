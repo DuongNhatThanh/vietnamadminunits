{
 "cells": [
  {
   "cell_type": "code",
   "id": "initial_id",
   "metadata": {
    "collapsed": true,
    "ExecuteTime": {
     "end_time": "2025-07-17T14:00:00.902252Z",
     "start_time": "2025-07-17T14:00:00.899711Z"
    }
   },
   "source": [
    "import pandas as pd\n",
    "import requests\n",
    "from tqdm import tqdm\n",
    "import numpy as np"
   ],
   "outputs": [],
   "execution_count": 67
  },
  {
   "metadata": {
    "ExecuteTime": {
     "end_time": "2025-07-17T14:02:22.818635Z",
     "start_time": "2025-07-17T14:02:22.816311Z"
    }
   },
   "cell_type": "code",
   "source": [
    "def cap_first(text):\n",
    "    split_text = text.split()\n",
    "    split_text = [i.capitalize() if split_text.index(i)==0 else i for i in split_text]\n",
    "    return ' '.join(split_text)\n",
    "\n",
    "def is_number(value):\n",
    "    try:\n",
    "        float(value)\n",
    "        return True\n",
    "    except (ValueError, TypeError):\n",
    "        return False"
   ],
   "id": "fa28e4d3c219ec52",
   "outputs": [],
   "execution_count": 76
  },
  {
   "metadata": {
    "ExecuteTime": {
     "end_time": "2025-07-17T14:03:44.053041Z",
     "start_time": "2025-07-17T14:03:43.940100Z"
    }
   },
   "cell_type": "code",
   "source": [
    "# Scrap Province\n",
    "res = requests.post('https://sapnhap.bando.com.vn/pcotinh', data={'id': 0})\n",
    "res.raise_for_status()\n",
    "data_province = res.json()\n",
    "df_province = pd.DataFrame(data_province)\n",
    "df_province = df_province[[col for col in df_province.columns if not is_number(col)]]\n",
    "df_province.to_csv('data/sapnhap.bando.com.vn_province.csv', index=False)"
   ],
   "id": "1bb98bd847d5b5bd",
   "outputs": [],
   "execution_count": 81
  },
  {
   "metadata": {
    "ExecuteTime": {
     "end_time": "2025-07-17T14:04:47.747843Z",
     "start_time": "2025-07-17T14:04:43.436433Z"
    }
   },
   "cell_type": "code",
   "source": [
    "# Scrap Ward\n",
    "df_wards = []\n",
    "for i in tqdm(range(1, 37)):\n",
    "    res = requests.post('https://sapnhap.bando.com.vn/ptracuu', data={'id': i})\n",
    "    res.raise_for_status()\n",
    "    data_ward = res.json()\n",
    "    _df_ward = pd.DataFrame(data_ward)\n",
    "    df_wards.append(_df_ward)\n",
    "\n",
    "df_ward = pd.concat(df_wards)\n",
    "df_ward = df_ward[[col for col in df_ward.columns if not is_number(col)]]\n",
    "df_ward.to_csv('data/sapnhap.bando.com.vn_ward.csv', index=False)"
   ],
   "id": "e33e5e2bef3a2a3c",
   "outputs": [
    {
     "name": "stderr",
     "output_type": "stream",
     "text": [
      "100%|██████████| 36/36 [00:04<00:00,  8.37it/s]\n"
     ]
    }
   ],
   "execution_count": 85
  }
 ],
 "metadata": {
  "kernelspec": {
   "display_name": "Python [conda env:base] *",
   "language": "python",
   "name": "conda-base-py"
  },
  "language_info": {
   "codemirror_mode": {
    "name": "ipython",
    "version": 2
   },
   "file_extension": ".py",
   "mimetype": "text/x-python",
   "name": "python",
   "nbconvert_exporter": "python",
   "pygments_lexer": "ipython2",
   "version": "2.7.6"
  }
 },
 "nbformat": 4,
 "nbformat_minor": 5
}
