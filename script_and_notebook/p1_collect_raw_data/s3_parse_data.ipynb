{
 "cells": [
  {
   "cell_type": "code",
   "id": "initial_id",
   "metadata": {
    "collapsed": true,
    "ExecuteTime": {
     "end_time": "2025-07-24T16:20:16.911203Z",
     "start_time": "2025-07-24T16:20:16.909661Z"
    }
   },
   "source": [
    "import sqlite3\n",
    "import pandas as pd\n",
    "import json"
   ],
   "outputs": [],
   "execution_count": 7
  },
  {
   "metadata": {
    "ExecuteTime": {
     "end_time": "2025-07-24T16:17:24.499576Z",
     "start_time": "2025-07-24T16:17:21.852610Z"
    }
   },
   "cell_type": "code",
   "source": [
    "with sqlite3.connect('../../data/63_provinces_ward_location.db') as conn:\n",
    "    conn.row_factory = sqlite3.Row\n",
    "    cursor = conn.cursor()\n",
    "    rows = cursor.execute('SELECT * FROM location')\n",
    "    records = [dict(r) for r in rows.fetchall()]"
   ],
   "id": "dd36808a33408f8e",
   "outputs": [],
   "execution_count": 2
  },
  {
   "metadata": {
    "ExecuteTime": {
     "end_time": "2025-07-24T16:22:15.857568Z",
     "start_time": "2025-07-24T16:22:11.831052Z"
    }
   },
   "cell_type": "code",
   "source": [
    "data = [json.loads(r['location']) for r in records]\n",
    "df = pd.DataFrame(data)\n",
    "df.drop_duplicates(inplace=True)\n",
    "df.to_csv('../../data/raw/63_provinces_ward_location_2025-07-24.csv', index=False)"
   ],
   "id": "c6b3e92d433f1e54",
   "outputs": [],
   "execution_count": 8
  }
 ],
 "metadata": {
  "kernelspec": {
   "display_name": "Python [conda env:base] *",
   "language": "python",
   "name": "conda-base-py"
  },
  "language_info": {
   "codemirror_mode": {
    "name": "ipython",
    "version": 2
   },
   "file_extension": ".py",
   "mimetype": "text/x-python",
   "name": "python",
   "nbconvert_exporter": "python",
   "pygments_lexer": "ipython2",
   "version": "2.7.6"
  }
 },
 "nbformat": 4,
 "nbformat_minor": 5
}
