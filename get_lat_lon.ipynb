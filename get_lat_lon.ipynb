{
 "cells": [
  {
   "cell_type": "code",
   "id": "initial_id",
   "metadata": {
    "collapsed": true,
    "ExecuteTime": {
     "end_time": "2025-07-21T13:30:30.457445Z",
     "start_time": "2025-07-21T13:30:30.106982Z"
    }
   },
   "source": [
    "import pandas as pd\n",
    "from shapely.geometry import Polygon, Point\n",
    "from geopy.distance import distance\n",
    "from geopy.geocoders import ArcGIS\n",
    "\n",
    "def generate_square_polygon(center_lat, center_lon, area_km2):\n",
    "    side_km = area_km2 ** 0.5\n",
    "    half_side_km = side_km / 2\n",
    "\n",
    "    # Tạo 4 góc vuông quanh tâm (theo các hướng chính)\n",
    "    north = distance(kilometers=half_side_km).destination((center_lat, center_lon), 0).latitude\n",
    "    south = distance(kilometers=half_side_km).destination((center_lat, center_lon), 180).latitude\n",
    "    east  = distance(kilometers=half_side_km).destination((center_lat, center_lon), 90).longitude\n",
    "    west  = distance(kilometers=half_side_km).destination((center_lat, center_lon), 270).longitude\n",
    "\n",
    "    # Theo thứ tự (lon, lat) nếu dùng GeoJSON hoặc shapely\n",
    "    polygon_coords = [\n",
    "        (west, south),\n",
    "        (west, north),\n",
    "        (east, north),\n",
    "        (east, south),\n",
    "        (west, south),  # Đóng polygon\n",
    "    ]\n",
    "\n",
    "    return Polygon(polygon_coords)\n",
    "\n",
    "geolocator = ArcGIS()"
   ],
   "outputs": [],
   "execution_count": 15
  },
  {
   "metadata": {
    "ExecuteTime": {
     "end_time": "2025-07-21T13:32:58.398510Z",
     "start_time": "2025-07-21T13:32:58.188649Z"
    }
   },
   "cell_type": "code",
   "source": [
    "# 1. Tạo polygon từ tâm và diện tích\n",
    "kinhdo = 106.650\n",
    "vido = 10.8224\n",
    "dientichkm2 = 10.12\n",
    "address = 'Trường Chinh, Phường 15, Quận Tân Bình, Hồ Chí Minh'\n",
    "polygon = generate_square_polygon(vido, kinhdo, dientichkm2)\n",
    "location = geolocator.geocode(address)\n",
    "point = Point(location.longitude, location.latitude)\n",
    "# 3. Kiểm tra\n",
    "print(\"✅ Nằm trong polygon\") if polygon.contains(point) else print(\"❌ Không nằm trong polygon\")"
   ],
   "id": "2c900fd5d0a1dd81",
   "outputs": [
    {
     "name": "stdout",
     "output_type": "stream",
     "text": [
      "❌ Không nằm trong polygon\n"
     ]
    }
   ],
   "execution_count": 26
  },
  {
   "metadata": {
    "ExecuteTime": {
     "end_time": "2025-07-21T13:48:59.317949Z",
     "start_time": "2025-07-21T13:48:59.217376Z"
    }
   },
   "cell_type": "code",
   "source": "not_sure_district_street = pd.read_csv('data/address-converter.io.vn_not_sure_district_street')",
   "id": "2a7212e325fe2184",
   "outputs": [],
   "execution_count": 31
  },
  {
   "metadata": {
    "ExecuteTime": {
     "end_time": "2025-07-21T13:48:59.458225Z",
     "start_time": "2025-07-21T13:48:59.452794Z"
    }
   },
   "cell_type": "code",
   "source": "not_sure_district_street",
   "id": "e6fafacb14d2878",
   "outputs": [
    {
     "data": {
      "text/plain": [
       "           old_province           old_district  \\\n",
       "0     Thành phố Cần Thơ         Quận Bình Thuỷ   \n",
       "1     Thành phố Cần Thơ         Quận Bình Thuỷ   \n",
       "2     Thành phố Cần Thơ         Quận Bình Thuỷ   \n",
       "3     Thành phố Cần Thơ         Quận Bình Thuỷ   \n",
       "4     Thành phố Cần Thơ         Quận Bình Thuỷ   \n",
       "...                 ...                    ...   \n",
       "2329   Tỉnh Thái Nguyên  Thành phố Thái Nguyên   \n",
       "2330   Tỉnh Thái Nguyên  Thành phố Thái Nguyên   \n",
       "2331   Tỉnh Thái Nguyên  Thành phố Thái Nguyên   \n",
       "2332   Tỉnh Thái Nguyên  Thành phố Thái Nguyên   \n",
       "2333   Tỉnh Thái Nguyên  Thành phố Thái Nguyên   \n",
       "\n",
       "                                              wikipedia  \\\n",
       "0     https://vi.wikipedia.org/wiki/B%C3%ACnh_Th%E1%...   \n",
       "1     https://vi.wikipedia.org/wiki/B%C3%ACnh_Th%E1%...   \n",
       "2     https://vi.wikipedia.org/wiki/B%C3%ACnh_Th%E1%...   \n",
       "3     https://vi.wikipedia.org/wiki/B%C3%ACnh_Th%E1%...   \n",
       "4     https://vi.wikipedia.org/wiki/B%C3%ACnh_Th%E1%...   \n",
       "...                                                 ...   \n",
       "2329  https://vi.wikipedia.org/wiki/Th%C3%A1i_Nguy%C...   \n",
       "2330  https://vi.wikipedia.org/wiki/Th%C3%A1i_Nguy%C...   \n",
       "2331  https://vi.wikipedia.org/wiki/Th%C3%A1i_Nguy%C...   \n",
       "2332  https://vi.wikipedia.org/wiki/Th%C3%A1i_Nguy%C...   \n",
       "2333  https://vi.wikipedia.org/wiki/Th%C3%A1i_Nguy%C...   \n",
       "\n",
       "                                                element               street  \n",
       "0     <ul><li>Bùi Hữu Nghĩa</li>\\n<li>Cách Mạng Thán...        Bùi Hữu Nghĩa  \n",
       "1     <ul><li>Bùi Hữu Nghĩa</li>\\n<li>Cách Mạng Thán...  Cách Mạng Tháng Tám  \n",
       "2     <ul><li>Bùi Hữu Nghĩa</li>\\n<li>Cách Mạng Thán...      Đặng Thị Nhường  \n",
       "3     <ul><li>Bùi Hữu Nghĩa</li>\\n<li>Cách Mạng Thán...       Đặng Thùy Trâm  \n",
       "4     <ul><li>Bùi Hữu Nghĩa</li>\\n<li>Cách Mạng Thán...         Đặng Văn Dầy  \n",
       "...                                                 ...                  ...  \n",
       "2329  <ul><li>Thanh Niên (thuộc khu Quảng trường Võ ...            Túc Duyên  \n",
       "2330  <ul><li>Thanh Niên (thuộc khu Quảng trường Võ ...               Tố Hữu  \n",
       "2331  <ul><li>Thanh Niên (thuộc khu Quảng trường Võ ...             Việt Bắc  \n",
       "2332  <ul><li>Thanh Niên (thuộc khu Quảng trường Võ ...             Xuân Hòa  \n",
       "2333  <ul><li>Thanh Niên (thuộc khu Quảng trường Võ ...                 Z115  \n",
       "\n",
       "[2334 rows x 5 columns]"
      ],
      "text/html": [
       "<div>\n",
       "<style scoped>\n",
       "    .dataframe tbody tr th:only-of-type {\n",
       "        vertical-align: middle;\n",
       "    }\n",
       "\n",
       "    .dataframe tbody tr th {\n",
       "        vertical-align: top;\n",
       "    }\n",
       "\n",
       "    .dataframe thead th {\n",
       "        text-align: right;\n",
       "    }\n",
       "</style>\n",
       "<table border=\"1\" class=\"dataframe\">\n",
       "  <thead>\n",
       "    <tr style=\"text-align: right;\">\n",
       "      <th></th>\n",
       "      <th>old_province</th>\n",
       "      <th>old_district</th>\n",
       "      <th>wikipedia</th>\n",
       "      <th>element</th>\n",
       "      <th>street</th>\n",
       "    </tr>\n",
       "  </thead>\n",
       "  <tbody>\n",
       "    <tr>\n",
       "      <th>0</th>\n",
       "      <td>Thành phố Cần Thơ</td>\n",
       "      <td>Quận Bình Thuỷ</td>\n",
       "      <td>https://vi.wikipedia.org/wiki/B%C3%ACnh_Th%E1%...</td>\n",
       "      <td>&lt;ul&gt;&lt;li&gt;Bùi Hữu Nghĩa&lt;/li&gt;\\n&lt;li&gt;Cách Mạng Thán...</td>\n",
       "      <td>Bùi Hữu Nghĩa</td>\n",
       "    </tr>\n",
       "    <tr>\n",
       "      <th>1</th>\n",
       "      <td>Thành phố Cần Thơ</td>\n",
       "      <td>Quận Bình Thuỷ</td>\n",
       "      <td>https://vi.wikipedia.org/wiki/B%C3%ACnh_Th%E1%...</td>\n",
       "      <td>&lt;ul&gt;&lt;li&gt;Bùi Hữu Nghĩa&lt;/li&gt;\\n&lt;li&gt;Cách Mạng Thán...</td>\n",
       "      <td>Cách Mạng Tháng Tám</td>\n",
       "    </tr>\n",
       "    <tr>\n",
       "      <th>2</th>\n",
       "      <td>Thành phố Cần Thơ</td>\n",
       "      <td>Quận Bình Thuỷ</td>\n",
       "      <td>https://vi.wikipedia.org/wiki/B%C3%ACnh_Th%E1%...</td>\n",
       "      <td>&lt;ul&gt;&lt;li&gt;Bùi Hữu Nghĩa&lt;/li&gt;\\n&lt;li&gt;Cách Mạng Thán...</td>\n",
       "      <td>Đặng Thị Nhường</td>\n",
       "    </tr>\n",
       "    <tr>\n",
       "      <th>3</th>\n",
       "      <td>Thành phố Cần Thơ</td>\n",
       "      <td>Quận Bình Thuỷ</td>\n",
       "      <td>https://vi.wikipedia.org/wiki/B%C3%ACnh_Th%E1%...</td>\n",
       "      <td>&lt;ul&gt;&lt;li&gt;Bùi Hữu Nghĩa&lt;/li&gt;\\n&lt;li&gt;Cách Mạng Thán...</td>\n",
       "      <td>Đặng Thùy Trâm</td>\n",
       "    </tr>\n",
       "    <tr>\n",
       "      <th>4</th>\n",
       "      <td>Thành phố Cần Thơ</td>\n",
       "      <td>Quận Bình Thuỷ</td>\n",
       "      <td>https://vi.wikipedia.org/wiki/B%C3%ACnh_Th%E1%...</td>\n",
       "      <td>&lt;ul&gt;&lt;li&gt;Bùi Hữu Nghĩa&lt;/li&gt;\\n&lt;li&gt;Cách Mạng Thán...</td>\n",
       "      <td>Đặng Văn Dầy</td>\n",
       "    </tr>\n",
       "    <tr>\n",
       "      <th>...</th>\n",
       "      <td>...</td>\n",
       "      <td>...</td>\n",
       "      <td>...</td>\n",
       "      <td>...</td>\n",
       "      <td>...</td>\n",
       "    </tr>\n",
       "    <tr>\n",
       "      <th>2329</th>\n",
       "      <td>Tỉnh Thái Nguyên</td>\n",
       "      <td>Thành phố Thái Nguyên</td>\n",
       "      <td>https://vi.wikipedia.org/wiki/Th%C3%A1i_Nguy%C...</td>\n",
       "      <td>&lt;ul&gt;&lt;li&gt;Thanh Niên (thuộc khu Quảng trường Võ ...</td>\n",
       "      <td>Túc Duyên</td>\n",
       "    </tr>\n",
       "    <tr>\n",
       "      <th>2330</th>\n",
       "      <td>Tỉnh Thái Nguyên</td>\n",
       "      <td>Thành phố Thái Nguyên</td>\n",
       "      <td>https://vi.wikipedia.org/wiki/Th%C3%A1i_Nguy%C...</td>\n",
       "      <td>&lt;ul&gt;&lt;li&gt;Thanh Niên (thuộc khu Quảng trường Võ ...</td>\n",
       "      <td>Tố Hữu</td>\n",
       "    </tr>\n",
       "    <tr>\n",
       "      <th>2331</th>\n",
       "      <td>Tỉnh Thái Nguyên</td>\n",
       "      <td>Thành phố Thái Nguyên</td>\n",
       "      <td>https://vi.wikipedia.org/wiki/Th%C3%A1i_Nguy%C...</td>\n",
       "      <td>&lt;ul&gt;&lt;li&gt;Thanh Niên (thuộc khu Quảng trường Võ ...</td>\n",
       "      <td>Việt Bắc</td>\n",
       "    </tr>\n",
       "    <tr>\n",
       "      <th>2332</th>\n",
       "      <td>Tỉnh Thái Nguyên</td>\n",
       "      <td>Thành phố Thái Nguyên</td>\n",
       "      <td>https://vi.wikipedia.org/wiki/Th%C3%A1i_Nguy%C...</td>\n",
       "      <td>&lt;ul&gt;&lt;li&gt;Thanh Niên (thuộc khu Quảng trường Võ ...</td>\n",
       "      <td>Xuân Hòa</td>\n",
       "    </tr>\n",
       "    <tr>\n",
       "      <th>2333</th>\n",
       "      <td>Tỉnh Thái Nguyên</td>\n",
       "      <td>Thành phố Thái Nguyên</td>\n",
       "      <td>https://vi.wikipedia.org/wiki/Th%C3%A1i_Nguy%C...</td>\n",
       "      <td>&lt;ul&gt;&lt;li&gt;Thanh Niên (thuộc khu Quảng trường Võ ...</td>\n",
       "      <td>Z115</td>\n",
       "    </tr>\n",
       "  </tbody>\n",
       "</table>\n",
       "<p>2334 rows × 5 columns</p>\n",
       "</div>"
      ]
     },
     "execution_count": 32,
     "metadata": {},
     "output_type": "execute_result"
    }
   ],
   "execution_count": 32
  },
  {
   "metadata": {
    "ExecuteTime": {
     "end_time": "2025-07-17T16:41:27.949812Z",
     "start_time": "2025-07-17T16:41:27.943753Z"
    }
   },
   "cell_type": "code",
   "source": "from tqdm import tqdm",
   "id": "b6786a8ebc38b88e",
   "outputs": [],
   "execution_count": 7
  },
  {
   "metadata": {
    "ExecuteTime": {
     "end_time": "2025-07-17T17:14:54.525149Z",
     "start_time": "2025-07-17T16:41:43.638593Z"
    }
   },
   "cell_type": "code",
   "source": [
    "for index, row in tqdm(not_sure_district_street.iterrows(), total=len(not_sure_district_street)):\n",
    "    address = f\"{row['street']}, {row['old_district']}, {row['old_province']}\"\n",
    "    location = geolocator.geocode(address)\n",
    "\n",
    "    if location:\n",
    "        not_sure_district_street.at[index, 'lat'] = location.latitude\n",
    "        not_sure_district_street.at[index, 'lon'] = location.longitude\n",
    "    else:\n",
    "        not_sure_district_street.at[index, 'lat'] = None\n",
    "        not_sure_district_street.at[index, 'lon'] = None"
   ],
   "id": "c69e9897c33b6b6f",
   "outputs": [
    {
     "name": "stderr",
     "output_type": "stream",
     "text": [
      "100%|██████████| 2334/2334 [33:10<00:00,  1.17it/s] \n"
     ]
    }
   ],
   "execution_count": 8
  },
  {
   "metadata": {
    "ExecuteTime": {
     "end_time": "2025-07-17T17:37:02.420814Z",
     "start_time": "2025-07-17T17:37:02.204063Z"
    }
   },
   "cell_type": "code",
   "source": "not_sure_district_street.to_csv('data/address-converter.io.vn_not_sure_district_street_lat_lon.csv', index=False)",
   "id": "bcee63617ee30f6a",
   "outputs": [],
   "execution_count": 10
  },
  {
   "metadata": {
    "ExecuteTime": {
     "end_time": "2025-07-17T17:44:20.363479Z",
     "start_time": "2025-07-17T17:44:20.358266Z"
    }
   },
   "cell_type": "code",
   "source": "not_sure_district_street",
   "id": "df8f923894ed367c",
   "outputs": [
    {
     "data": {
      "text/plain": [
       "           old_province           old_district  \\\n",
       "0     Thành phố Cần Thơ         Quận Bình Thuỷ   \n",
       "1     Thành phố Cần Thơ         Quận Bình Thuỷ   \n",
       "2     Thành phố Cần Thơ         Quận Bình Thuỷ   \n",
       "3     Thành phố Cần Thơ         Quận Bình Thuỷ   \n",
       "4     Thành phố Cần Thơ         Quận Bình Thuỷ   \n",
       "...                 ...                    ...   \n",
       "2329   Tỉnh Thái Nguyên  Thành phố Thái Nguyên   \n",
       "2330   Tỉnh Thái Nguyên  Thành phố Thái Nguyên   \n",
       "2331   Tỉnh Thái Nguyên  Thành phố Thái Nguyên   \n",
       "2332   Tỉnh Thái Nguyên  Thành phố Thái Nguyên   \n",
       "2333   Tỉnh Thái Nguyên  Thành phố Thái Nguyên   \n",
       "\n",
       "                                              wikipedia  \\\n",
       "0     https://vi.wikipedia.org/wiki/B%C3%ACnh_Th%E1%...   \n",
       "1     https://vi.wikipedia.org/wiki/B%C3%ACnh_Th%E1%...   \n",
       "2     https://vi.wikipedia.org/wiki/B%C3%ACnh_Th%E1%...   \n",
       "3     https://vi.wikipedia.org/wiki/B%C3%ACnh_Th%E1%...   \n",
       "4     https://vi.wikipedia.org/wiki/B%C3%ACnh_Th%E1%...   \n",
       "...                                                 ...   \n",
       "2329  https://vi.wikipedia.org/wiki/Th%C3%A1i_Nguy%C...   \n",
       "2330  https://vi.wikipedia.org/wiki/Th%C3%A1i_Nguy%C...   \n",
       "2331  https://vi.wikipedia.org/wiki/Th%C3%A1i_Nguy%C...   \n",
       "2332  https://vi.wikipedia.org/wiki/Th%C3%A1i_Nguy%C...   \n",
       "2333  https://vi.wikipedia.org/wiki/Th%C3%A1i_Nguy%C...   \n",
       "\n",
       "                                                element               street  \\\n",
       "0     <ul><li>Bùi Hữu Nghĩa</li>\\n<li>Cách Mạng Thán...        Bùi Hữu Nghĩa   \n",
       "1     <ul><li>Bùi Hữu Nghĩa</li>\\n<li>Cách Mạng Thán...  Cách Mạng Tháng Tám   \n",
       "2     <ul><li>Bùi Hữu Nghĩa</li>\\n<li>Cách Mạng Thán...      Đặng Thị Nhường   \n",
       "3     <ul><li>Bùi Hữu Nghĩa</li>\\n<li>Cách Mạng Thán...       Đặng Thùy Trâm   \n",
       "4     <ul><li>Bùi Hữu Nghĩa</li>\\n<li>Cách Mạng Thán...         Đặng Văn Dầy   \n",
       "...                                                 ...                  ...   \n",
       "2329  <ul><li>Thanh Niên (thuộc khu Quảng trường Võ ...            Túc Duyên   \n",
       "2330  <ul><li>Thanh Niên (thuộc khu Quảng trường Võ ...               Tố Hữu   \n",
       "2331  <ul><li>Thanh Niên (thuộc khu Quảng trường Võ ...             Việt Bắc   \n",
       "2332  <ul><li>Thanh Niên (thuộc khu Quảng trường Võ ...             Xuân Hòa   \n",
       "2333  <ul><li>Thanh Niên (thuộc khu Quảng trường Võ ...                 Z115   \n",
       "\n",
       "            lat         lon  \n",
       "0     10.068964  105.757265  \n",
       "1     10.066906  105.758596  \n",
       "2     10.062843  105.765838  \n",
       "3     10.063551  105.723182  \n",
       "4     10.063120  105.725904  \n",
       "...         ...         ...  \n",
       "2329  21.592597  105.847535  \n",
       "2330  21.570571  105.806240  \n",
       "2331  21.594220  105.848170  \n",
       "2332  21.594220  105.848170  \n",
       "2333  21.582997  105.810897  \n",
       "\n",
       "[2334 rows x 7 columns]"
      ],
      "text/html": [
       "<div>\n",
       "<style scoped>\n",
       "    .dataframe tbody tr th:only-of-type {\n",
       "        vertical-align: middle;\n",
       "    }\n",
       "\n",
       "    .dataframe tbody tr th {\n",
       "        vertical-align: top;\n",
       "    }\n",
       "\n",
       "    .dataframe thead th {\n",
       "        text-align: right;\n",
       "    }\n",
       "</style>\n",
       "<table border=\"1\" class=\"dataframe\">\n",
       "  <thead>\n",
       "    <tr style=\"text-align: right;\">\n",
       "      <th></th>\n",
       "      <th>old_province</th>\n",
       "      <th>old_district</th>\n",
       "      <th>wikipedia</th>\n",
       "      <th>element</th>\n",
       "      <th>street</th>\n",
       "      <th>lat</th>\n",
       "      <th>lon</th>\n",
       "    </tr>\n",
       "  </thead>\n",
       "  <tbody>\n",
       "    <tr>\n",
       "      <th>0</th>\n",
       "      <td>Thành phố Cần Thơ</td>\n",
       "      <td>Quận Bình Thuỷ</td>\n",
       "      <td>https://vi.wikipedia.org/wiki/B%C3%ACnh_Th%E1%...</td>\n",
       "      <td>&lt;ul&gt;&lt;li&gt;Bùi Hữu Nghĩa&lt;/li&gt;\\n&lt;li&gt;Cách Mạng Thán...</td>\n",
       "      <td>Bùi Hữu Nghĩa</td>\n",
       "      <td>10.068964</td>\n",
       "      <td>105.757265</td>\n",
       "    </tr>\n",
       "    <tr>\n",
       "      <th>1</th>\n",
       "      <td>Thành phố Cần Thơ</td>\n",
       "      <td>Quận Bình Thuỷ</td>\n",
       "      <td>https://vi.wikipedia.org/wiki/B%C3%ACnh_Th%E1%...</td>\n",
       "      <td>&lt;ul&gt;&lt;li&gt;Bùi Hữu Nghĩa&lt;/li&gt;\\n&lt;li&gt;Cách Mạng Thán...</td>\n",
       "      <td>Cách Mạng Tháng Tám</td>\n",
       "      <td>10.066906</td>\n",
       "      <td>105.758596</td>\n",
       "    </tr>\n",
       "    <tr>\n",
       "      <th>2</th>\n",
       "      <td>Thành phố Cần Thơ</td>\n",
       "      <td>Quận Bình Thuỷ</td>\n",
       "      <td>https://vi.wikipedia.org/wiki/B%C3%ACnh_Th%E1%...</td>\n",
       "      <td>&lt;ul&gt;&lt;li&gt;Bùi Hữu Nghĩa&lt;/li&gt;\\n&lt;li&gt;Cách Mạng Thán...</td>\n",
       "      <td>Đặng Thị Nhường</td>\n",
       "      <td>10.062843</td>\n",
       "      <td>105.765838</td>\n",
       "    </tr>\n",
       "    <tr>\n",
       "      <th>3</th>\n",
       "      <td>Thành phố Cần Thơ</td>\n",
       "      <td>Quận Bình Thuỷ</td>\n",
       "      <td>https://vi.wikipedia.org/wiki/B%C3%ACnh_Th%E1%...</td>\n",
       "      <td>&lt;ul&gt;&lt;li&gt;Bùi Hữu Nghĩa&lt;/li&gt;\\n&lt;li&gt;Cách Mạng Thán...</td>\n",
       "      <td>Đặng Thùy Trâm</td>\n",
       "      <td>10.063551</td>\n",
       "      <td>105.723182</td>\n",
       "    </tr>\n",
       "    <tr>\n",
       "      <th>4</th>\n",
       "      <td>Thành phố Cần Thơ</td>\n",
       "      <td>Quận Bình Thuỷ</td>\n",
       "      <td>https://vi.wikipedia.org/wiki/B%C3%ACnh_Th%E1%...</td>\n",
       "      <td>&lt;ul&gt;&lt;li&gt;Bùi Hữu Nghĩa&lt;/li&gt;\\n&lt;li&gt;Cách Mạng Thán...</td>\n",
       "      <td>Đặng Văn Dầy</td>\n",
       "      <td>10.063120</td>\n",
       "      <td>105.725904</td>\n",
       "    </tr>\n",
       "    <tr>\n",
       "      <th>...</th>\n",
       "      <td>...</td>\n",
       "      <td>...</td>\n",
       "      <td>...</td>\n",
       "      <td>...</td>\n",
       "      <td>...</td>\n",
       "      <td>...</td>\n",
       "      <td>...</td>\n",
       "    </tr>\n",
       "    <tr>\n",
       "      <th>2329</th>\n",
       "      <td>Tỉnh Thái Nguyên</td>\n",
       "      <td>Thành phố Thái Nguyên</td>\n",
       "      <td>https://vi.wikipedia.org/wiki/Th%C3%A1i_Nguy%C...</td>\n",
       "      <td>&lt;ul&gt;&lt;li&gt;Thanh Niên (thuộc khu Quảng trường Võ ...</td>\n",
       "      <td>Túc Duyên</td>\n",
       "      <td>21.592597</td>\n",
       "      <td>105.847535</td>\n",
       "    </tr>\n",
       "    <tr>\n",
       "      <th>2330</th>\n",
       "      <td>Tỉnh Thái Nguyên</td>\n",
       "      <td>Thành phố Thái Nguyên</td>\n",
       "      <td>https://vi.wikipedia.org/wiki/Th%C3%A1i_Nguy%C...</td>\n",
       "      <td>&lt;ul&gt;&lt;li&gt;Thanh Niên (thuộc khu Quảng trường Võ ...</td>\n",
       "      <td>Tố Hữu</td>\n",
       "      <td>21.570571</td>\n",
       "      <td>105.806240</td>\n",
       "    </tr>\n",
       "    <tr>\n",
       "      <th>2331</th>\n",
       "      <td>Tỉnh Thái Nguyên</td>\n",
       "      <td>Thành phố Thái Nguyên</td>\n",
       "      <td>https://vi.wikipedia.org/wiki/Th%C3%A1i_Nguy%C...</td>\n",
       "      <td>&lt;ul&gt;&lt;li&gt;Thanh Niên (thuộc khu Quảng trường Võ ...</td>\n",
       "      <td>Việt Bắc</td>\n",
       "      <td>21.594220</td>\n",
       "      <td>105.848170</td>\n",
       "    </tr>\n",
       "    <tr>\n",
       "      <th>2332</th>\n",
       "      <td>Tỉnh Thái Nguyên</td>\n",
       "      <td>Thành phố Thái Nguyên</td>\n",
       "      <td>https://vi.wikipedia.org/wiki/Th%C3%A1i_Nguy%C...</td>\n",
       "      <td>&lt;ul&gt;&lt;li&gt;Thanh Niên (thuộc khu Quảng trường Võ ...</td>\n",
       "      <td>Xuân Hòa</td>\n",
       "      <td>21.594220</td>\n",
       "      <td>105.848170</td>\n",
       "    </tr>\n",
       "    <tr>\n",
       "      <th>2333</th>\n",
       "      <td>Tỉnh Thái Nguyên</td>\n",
       "      <td>Thành phố Thái Nguyên</td>\n",
       "      <td>https://vi.wikipedia.org/wiki/Th%C3%A1i_Nguy%C...</td>\n",
       "      <td>&lt;ul&gt;&lt;li&gt;Thanh Niên (thuộc khu Quảng trường Võ ...</td>\n",
       "      <td>Z115</td>\n",
       "      <td>21.582997</td>\n",
       "      <td>105.810897</td>\n",
       "    </tr>\n",
       "  </tbody>\n",
       "</table>\n",
       "<p>2334 rows × 7 columns</p>\n",
       "</div>"
      ]
     },
     "execution_count": 11,
     "metadata": {},
     "output_type": "execute_result"
    }
   ],
   "execution_count": 11
  },
  {
   "metadata": {
    "ExecuteTime": {
     "end_time": "2025-07-21T13:20:45.316277Z",
     "start_time": "2025-07-21T13:20:45.282927Z"
    }
   },
   "cell_type": "code",
   "source": [
    "from geopy.geocoders import Nominatim, ArcGIS\n",
    "\n",
    "geolocator1 = Nominatim(user_agent=\"Mozilla/5.0 (Macintosh; Intel Mac OS X 10_15_7) AppleWebKit/537.36 (KHTML, like Gecko) Chrome/138.0.0.0 Safari/537.36\")\n",
    "geolocator2 = ArcGIS()\n",
    "\n",
    "\n",
    "\n",
    "\n",
    "print(\"Nominatim:\", location1.latitude, location1.longitude)\n",
    "print(\"ArcGIS:\", location2.latitude, location2.longitude)"
   ],
   "id": "d9d471eb4d230e68",
   "outputs": [
    {
     "name": "stdout",
     "output_type": "stream",
     "text": [
      "Nominatim: 21.0283334 105.854041\n",
      "ArcGIS: 10.819973742737 106.635740384249\n"
     ]
    }
   ],
   "execution_count": 12
  },
  {
   "metadata": {
    "ExecuteTime": {
     "end_time": "2025-07-21T13:20:50.998966Z",
     "start_time": "2025-07-21T13:20:46.511127Z"
    }
   },
   "cell_type": "code",
   "source": "location1 = geolocator1.geocode(\"Nguyễn Sỹ Sách, Quận Tân Bình, Hồ Chí Minh\")",
   "id": "da6ea6b9f87183b5",
   "outputs": [
    {
     "ename": "GeocoderUnavailable",
     "evalue": "HTTPSConnectionPool(host='nominatim.openstreetmap.org', port=443): Max retries exceeded with url: /search?q=Nguy%E1%BB%85n+S%E1%BB%B9+S%C3%A1ch%2C+Qu%E1%BA%ADn+T%C3%A2n+B%C3%ACnh%2C+H%E1%BB%93+Ch%C3%AD+Minh&format=json&limit=1 (Caused by ReadTimeoutError(\"HTTPSConnectionPool(host='nominatim.openstreetmap.org', port=443): Read timed out. (read timeout=1)\"))",
     "output_type": "error",
     "traceback": [
      "\u001B[0;31m---------------------------------------------------------------------------\u001B[0m",
      "\u001B[0;31mTimeoutError\u001B[0m                              Traceback (most recent call last)",
      "File \u001B[0;32m/opt/anaconda3/lib/python3.12/site-packages/urllib3/connectionpool.py:534\u001B[0m, in \u001B[0;36mHTTPConnectionPool._make_request\u001B[0;34m(self, conn, method, url, body, headers, retries, timeout, chunked, response_conn, preload_content, decode_content, enforce_content_length)\u001B[0m\n\u001B[1;32m    533\u001B[0m \u001B[38;5;28;01mtry\u001B[39;00m:\n\u001B[0;32m--> 534\u001B[0m     response \u001B[38;5;241m=\u001B[39m conn\u001B[38;5;241m.\u001B[39mgetresponse()\n\u001B[1;32m    535\u001B[0m \u001B[38;5;28;01mexcept\u001B[39;00m (BaseSSLError, \u001B[38;5;167;01mOSError\u001B[39;00m) \u001B[38;5;28;01mas\u001B[39;00m e:\n",
      "File \u001B[0;32m/opt/anaconda3/lib/python3.12/site-packages/urllib3/connection.py:516\u001B[0m, in \u001B[0;36mHTTPConnection.getresponse\u001B[0;34m(self)\u001B[0m\n\u001B[1;32m    515\u001B[0m \u001B[38;5;66;03m# Get the response from http.client.HTTPConnection\u001B[39;00m\n\u001B[0;32m--> 516\u001B[0m httplib_response \u001B[38;5;241m=\u001B[39m \u001B[38;5;28msuper\u001B[39m()\u001B[38;5;241m.\u001B[39mgetresponse()\n\u001B[1;32m    518\u001B[0m \u001B[38;5;28;01mtry\u001B[39;00m:\n",
      "File \u001B[0;32m/opt/anaconda3/lib/python3.12/http/client.py:1428\u001B[0m, in \u001B[0;36mHTTPConnection.getresponse\u001B[0;34m(self)\u001B[0m\n\u001B[1;32m   1427\u001B[0m \u001B[38;5;28;01mtry\u001B[39;00m:\n\u001B[0;32m-> 1428\u001B[0m     response\u001B[38;5;241m.\u001B[39mbegin()\n\u001B[1;32m   1429\u001B[0m \u001B[38;5;28;01mexcept\u001B[39;00m \u001B[38;5;167;01mConnectionError\u001B[39;00m:\n",
      "File \u001B[0;32m/opt/anaconda3/lib/python3.12/http/client.py:331\u001B[0m, in \u001B[0;36mHTTPResponse.begin\u001B[0;34m(self)\u001B[0m\n\u001B[1;32m    330\u001B[0m \u001B[38;5;28;01mwhile\u001B[39;00m \u001B[38;5;28;01mTrue\u001B[39;00m:\n\u001B[0;32m--> 331\u001B[0m     version, status, reason \u001B[38;5;241m=\u001B[39m \u001B[38;5;28mself\u001B[39m\u001B[38;5;241m.\u001B[39m_read_status()\n\u001B[1;32m    332\u001B[0m     \u001B[38;5;28;01mif\u001B[39;00m status \u001B[38;5;241m!=\u001B[39m CONTINUE:\n",
      "File \u001B[0;32m/opt/anaconda3/lib/python3.12/http/client.py:292\u001B[0m, in \u001B[0;36mHTTPResponse._read_status\u001B[0;34m(self)\u001B[0m\n\u001B[1;32m    291\u001B[0m \u001B[38;5;28;01mdef\u001B[39;00m\u001B[38;5;250m \u001B[39m\u001B[38;5;21m_read_status\u001B[39m(\u001B[38;5;28mself\u001B[39m):\n\u001B[0;32m--> 292\u001B[0m     line \u001B[38;5;241m=\u001B[39m \u001B[38;5;28mstr\u001B[39m(\u001B[38;5;28mself\u001B[39m\u001B[38;5;241m.\u001B[39mfp\u001B[38;5;241m.\u001B[39mreadline(_MAXLINE \u001B[38;5;241m+\u001B[39m \u001B[38;5;241m1\u001B[39m), \u001B[38;5;124m\"\u001B[39m\u001B[38;5;124miso-8859-1\u001B[39m\u001B[38;5;124m\"\u001B[39m)\n\u001B[1;32m    293\u001B[0m     \u001B[38;5;28;01mif\u001B[39;00m \u001B[38;5;28mlen\u001B[39m(line) \u001B[38;5;241m>\u001B[39m _MAXLINE:\n",
      "File \u001B[0;32m/opt/anaconda3/lib/python3.12/socket.py:720\u001B[0m, in \u001B[0;36mSocketIO.readinto\u001B[0;34m(self, b)\u001B[0m\n\u001B[1;32m    719\u001B[0m \u001B[38;5;28;01mtry\u001B[39;00m:\n\u001B[0;32m--> 720\u001B[0m     \u001B[38;5;28;01mreturn\u001B[39;00m \u001B[38;5;28mself\u001B[39m\u001B[38;5;241m.\u001B[39m_sock\u001B[38;5;241m.\u001B[39mrecv_into(b)\n\u001B[1;32m    721\u001B[0m \u001B[38;5;28;01mexcept\u001B[39;00m timeout:\n",
      "File \u001B[0;32m/opt/anaconda3/lib/python3.12/ssl.py:1251\u001B[0m, in \u001B[0;36mSSLSocket.recv_into\u001B[0;34m(self, buffer, nbytes, flags)\u001B[0m\n\u001B[1;32m   1248\u001B[0m         \u001B[38;5;28;01mraise\u001B[39;00m \u001B[38;5;167;01mValueError\u001B[39;00m(\n\u001B[1;32m   1249\u001B[0m           \u001B[38;5;124m\"\u001B[39m\u001B[38;5;124mnon-zero flags not allowed in calls to recv_into() on \u001B[39m\u001B[38;5;132;01m%s\u001B[39;00m\u001B[38;5;124m\"\u001B[39m \u001B[38;5;241m%\u001B[39m\n\u001B[1;32m   1250\u001B[0m           \u001B[38;5;28mself\u001B[39m\u001B[38;5;241m.\u001B[39m\u001B[38;5;18m__class__\u001B[39m)\n\u001B[0;32m-> 1251\u001B[0m     \u001B[38;5;28;01mreturn\u001B[39;00m \u001B[38;5;28mself\u001B[39m\u001B[38;5;241m.\u001B[39mread(nbytes, buffer)\n\u001B[1;32m   1252\u001B[0m \u001B[38;5;28;01melse\u001B[39;00m:\n",
      "File \u001B[0;32m/opt/anaconda3/lib/python3.12/ssl.py:1103\u001B[0m, in \u001B[0;36mSSLSocket.read\u001B[0;34m(self, len, buffer)\u001B[0m\n\u001B[1;32m   1102\u001B[0m \u001B[38;5;28;01mif\u001B[39;00m buffer \u001B[38;5;129;01mis\u001B[39;00m \u001B[38;5;129;01mnot\u001B[39;00m \u001B[38;5;28;01mNone\u001B[39;00m:\n\u001B[0;32m-> 1103\u001B[0m     \u001B[38;5;28;01mreturn\u001B[39;00m \u001B[38;5;28mself\u001B[39m\u001B[38;5;241m.\u001B[39m_sslobj\u001B[38;5;241m.\u001B[39mread(\u001B[38;5;28mlen\u001B[39m, buffer)\n\u001B[1;32m   1104\u001B[0m \u001B[38;5;28;01melse\u001B[39;00m:\n",
      "\u001B[0;31mTimeoutError\u001B[0m: The read operation timed out",
      "\nThe above exception was the direct cause of the following exception:\n",
      "\u001B[0;31mReadTimeoutError\u001B[0m                          Traceback (most recent call last)",
      "File \u001B[0;32m/opt/anaconda3/lib/python3.12/site-packages/urllib3/connectionpool.py:787\u001B[0m, in \u001B[0;36mHTTPConnectionPool.urlopen\u001B[0;34m(self, method, url, body, headers, retries, redirect, assert_same_host, timeout, pool_timeout, release_conn, chunked, body_pos, preload_content, decode_content, **response_kw)\u001B[0m\n\u001B[1;32m    786\u001B[0m \u001B[38;5;66;03m# Make the request on the HTTPConnection object\u001B[39;00m\n\u001B[0;32m--> 787\u001B[0m response \u001B[38;5;241m=\u001B[39m \u001B[38;5;28mself\u001B[39m\u001B[38;5;241m.\u001B[39m_make_request(\n\u001B[1;32m    788\u001B[0m     conn,\n\u001B[1;32m    789\u001B[0m     method,\n\u001B[1;32m    790\u001B[0m     url,\n\u001B[1;32m    791\u001B[0m     timeout\u001B[38;5;241m=\u001B[39mtimeout_obj,\n\u001B[1;32m    792\u001B[0m     body\u001B[38;5;241m=\u001B[39mbody,\n\u001B[1;32m    793\u001B[0m     headers\u001B[38;5;241m=\u001B[39mheaders,\n\u001B[1;32m    794\u001B[0m     chunked\u001B[38;5;241m=\u001B[39mchunked,\n\u001B[1;32m    795\u001B[0m     retries\u001B[38;5;241m=\u001B[39mretries,\n\u001B[1;32m    796\u001B[0m     response_conn\u001B[38;5;241m=\u001B[39mresponse_conn,\n\u001B[1;32m    797\u001B[0m     preload_content\u001B[38;5;241m=\u001B[39mpreload_content,\n\u001B[1;32m    798\u001B[0m     decode_content\u001B[38;5;241m=\u001B[39mdecode_content,\n\u001B[1;32m    799\u001B[0m     \u001B[38;5;241m*\u001B[39m\u001B[38;5;241m*\u001B[39mresponse_kw,\n\u001B[1;32m    800\u001B[0m )\n\u001B[1;32m    802\u001B[0m \u001B[38;5;66;03m# Everything went great!\u001B[39;00m\n",
      "File \u001B[0;32m/opt/anaconda3/lib/python3.12/site-packages/urllib3/connectionpool.py:536\u001B[0m, in \u001B[0;36mHTTPConnectionPool._make_request\u001B[0;34m(self, conn, method, url, body, headers, retries, timeout, chunked, response_conn, preload_content, decode_content, enforce_content_length)\u001B[0m\n\u001B[1;32m    535\u001B[0m \u001B[38;5;28;01mexcept\u001B[39;00m (BaseSSLError, \u001B[38;5;167;01mOSError\u001B[39;00m) \u001B[38;5;28;01mas\u001B[39;00m e:\n\u001B[0;32m--> 536\u001B[0m     \u001B[38;5;28mself\u001B[39m\u001B[38;5;241m.\u001B[39m_raise_timeout(err\u001B[38;5;241m=\u001B[39me, url\u001B[38;5;241m=\u001B[39murl, timeout_value\u001B[38;5;241m=\u001B[39mread_timeout)\n\u001B[1;32m    537\u001B[0m     \u001B[38;5;28;01mraise\u001B[39;00m\n",
      "File \u001B[0;32m/opt/anaconda3/lib/python3.12/site-packages/urllib3/connectionpool.py:367\u001B[0m, in \u001B[0;36mHTTPConnectionPool._raise_timeout\u001B[0;34m(self, err, url, timeout_value)\u001B[0m\n\u001B[1;32m    366\u001B[0m \u001B[38;5;28;01mif\u001B[39;00m \u001B[38;5;28misinstance\u001B[39m(err, SocketTimeout):\n\u001B[0;32m--> 367\u001B[0m     \u001B[38;5;28;01mraise\u001B[39;00m ReadTimeoutError(\n\u001B[1;32m    368\u001B[0m         \u001B[38;5;28mself\u001B[39m, url, \u001B[38;5;124mf\u001B[39m\u001B[38;5;124m\"\u001B[39m\u001B[38;5;124mRead timed out. (read timeout=\u001B[39m\u001B[38;5;132;01m{\u001B[39;00mtimeout_value\u001B[38;5;132;01m}\u001B[39;00m\u001B[38;5;124m)\u001B[39m\u001B[38;5;124m\"\u001B[39m\n\u001B[1;32m    369\u001B[0m     ) \u001B[38;5;28;01mfrom\u001B[39;00m\u001B[38;5;250m \u001B[39m\u001B[38;5;21;01merr\u001B[39;00m\n\u001B[1;32m    371\u001B[0m \u001B[38;5;66;03m# See the above comment about EAGAIN in Python 3.\u001B[39;00m\n",
      "\u001B[0;31mReadTimeoutError\u001B[0m: HTTPSConnectionPool(host='nominatim.openstreetmap.org', port=443): Read timed out. (read timeout=1)",
      "\nThe above exception was the direct cause of the following exception:\n",
      "\u001B[0;31mMaxRetryError\u001B[0m                             Traceback (most recent call last)",
      "File \u001B[0;32m/opt/anaconda3/lib/python3.12/site-packages/requests/adapters.py:667\u001B[0m, in \u001B[0;36mHTTPAdapter.send\u001B[0;34m(self, request, stream, timeout, verify, cert, proxies)\u001B[0m\n\u001B[1;32m    666\u001B[0m \u001B[38;5;28;01mtry\u001B[39;00m:\n\u001B[0;32m--> 667\u001B[0m     resp \u001B[38;5;241m=\u001B[39m conn\u001B[38;5;241m.\u001B[39murlopen(\n\u001B[1;32m    668\u001B[0m         method\u001B[38;5;241m=\u001B[39mrequest\u001B[38;5;241m.\u001B[39mmethod,\n\u001B[1;32m    669\u001B[0m         url\u001B[38;5;241m=\u001B[39murl,\n\u001B[1;32m    670\u001B[0m         body\u001B[38;5;241m=\u001B[39mrequest\u001B[38;5;241m.\u001B[39mbody,\n\u001B[1;32m    671\u001B[0m         headers\u001B[38;5;241m=\u001B[39mrequest\u001B[38;5;241m.\u001B[39mheaders,\n\u001B[1;32m    672\u001B[0m         redirect\u001B[38;5;241m=\u001B[39m\u001B[38;5;28;01mFalse\u001B[39;00m,\n\u001B[1;32m    673\u001B[0m         assert_same_host\u001B[38;5;241m=\u001B[39m\u001B[38;5;28;01mFalse\u001B[39;00m,\n\u001B[1;32m    674\u001B[0m         preload_content\u001B[38;5;241m=\u001B[39m\u001B[38;5;28;01mFalse\u001B[39;00m,\n\u001B[1;32m    675\u001B[0m         decode_content\u001B[38;5;241m=\u001B[39m\u001B[38;5;28;01mFalse\u001B[39;00m,\n\u001B[1;32m    676\u001B[0m         retries\u001B[38;5;241m=\u001B[39m\u001B[38;5;28mself\u001B[39m\u001B[38;5;241m.\u001B[39mmax_retries,\n\u001B[1;32m    677\u001B[0m         timeout\u001B[38;5;241m=\u001B[39mtimeout,\n\u001B[1;32m    678\u001B[0m         chunked\u001B[38;5;241m=\u001B[39mchunked,\n\u001B[1;32m    679\u001B[0m     )\n\u001B[1;32m    681\u001B[0m \u001B[38;5;28;01mexcept\u001B[39;00m (ProtocolError, \u001B[38;5;167;01mOSError\u001B[39;00m) \u001B[38;5;28;01mas\u001B[39;00m err:\n",
      "File \u001B[0;32m/opt/anaconda3/lib/python3.12/site-packages/urllib3/connectionpool.py:871\u001B[0m, in \u001B[0;36mHTTPConnectionPool.urlopen\u001B[0;34m(self, method, url, body, headers, retries, redirect, assert_same_host, timeout, pool_timeout, release_conn, chunked, body_pos, preload_content, decode_content, **response_kw)\u001B[0m\n\u001B[1;32m    868\u001B[0m     log\u001B[38;5;241m.\u001B[39mwarning(\n\u001B[1;32m    869\u001B[0m         \u001B[38;5;124m\"\u001B[39m\u001B[38;5;124mRetrying (\u001B[39m\u001B[38;5;132;01m%r\u001B[39;00m\u001B[38;5;124m) after connection broken by \u001B[39m\u001B[38;5;124m'\u001B[39m\u001B[38;5;132;01m%r\u001B[39;00m\u001B[38;5;124m'\u001B[39m\u001B[38;5;124m: \u001B[39m\u001B[38;5;132;01m%s\u001B[39;00m\u001B[38;5;124m\"\u001B[39m, retries, err, url\n\u001B[1;32m    870\u001B[0m     )\n\u001B[0;32m--> 871\u001B[0m     \u001B[38;5;28;01mreturn\u001B[39;00m \u001B[38;5;28mself\u001B[39m\u001B[38;5;241m.\u001B[39murlopen(\n\u001B[1;32m    872\u001B[0m         method,\n\u001B[1;32m    873\u001B[0m         url,\n\u001B[1;32m    874\u001B[0m         body,\n\u001B[1;32m    875\u001B[0m         headers,\n\u001B[1;32m    876\u001B[0m         retries,\n\u001B[1;32m    877\u001B[0m         redirect,\n\u001B[1;32m    878\u001B[0m         assert_same_host,\n\u001B[1;32m    879\u001B[0m         timeout\u001B[38;5;241m=\u001B[39mtimeout,\n\u001B[1;32m    880\u001B[0m         pool_timeout\u001B[38;5;241m=\u001B[39mpool_timeout,\n\u001B[1;32m    881\u001B[0m         release_conn\u001B[38;5;241m=\u001B[39mrelease_conn,\n\u001B[1;32m    882\u001B[0m         chunked\u001B[38;5;241m=\u001B[39mchunked,\n\u001B[1;32m    883\u001B[0m         body_pos\u001B[38;5;241m=\u001B[39mbody_pos,\n\u001B[1;32m    884\u001B[0m         preload_content\u001B[38;5;241m=\u001B[39mpreload_content,\n\u001B[1;32m    885\u001B[0m         decode_content\u001B[38;5;241m=\u001B[39mdecode_content,\n\u001B[1;32m    886\u001B[0m         \u001B[38;5;241m*\u001B[39m\u001B[38;5;241m*\u001B[39mresponse_kw,\n\u001B[1;32m    887\u001B[0m     )\n\u001B[1;32m    889\u001B[0m \u001B[38;5;66;03m# Handle redirect?\u001B[39;00m\n",
      "File \u001B[0;32m/opt/anaconda3/lib/python3.12/site-packages/urllib3/connectionpool.py:871\u001B[0m, in \u001B[0;36mHTTPConnectionPool.urlopen\u001B[0;34m(self, method, url, body, headers, retries, redirect, assert_same_host, timeout, pool_timeout, release_conn, chunked, body_pos, preload_content, decode_content, **response_kw)\u001B[0m\n\u001B[1;32m    868\u001B[0m     log\u001B[38;5;241m.\u001B[39mwarning(\n\u001B[1;32m    869\u001B[0m         \u001B[38;5;124m\"\u001B[39m\u001B[38;5;124mRetrying (\u001B[39m\u001B[38;5;132;01m%r\u001B[39;00m\u001B[38;5;124m) after connection broken by \u001B[39m\u001B[38;5;124m'\u001B[39m\u001B[38;5;132;01m%r\u001B[39;00m\u001B[38;5;124m'\u001B[39m\u001B[38;5;124m: \u001B[39m\u001B[38;5;132;01m%s\u001B[39;00m\u001B[38;5;124m\"\u001B[39m, retries, err, url\n\u001B[1;32m    870\u001B[0m     )\n\u001B[0;32m--> 871\u001B[0m     \u001B[38;5;28;01mreturn\u001B[39;00m \u001B[38;5;28mself\u001B[39m\u001B[38;5;241m.\u001B[39murlopen(\n\u001B[1;32m    872\u001B[0m         method,\n\u001B[1;32m    873\u001B[0m         url,\n\u001B[1;32m    874\u001B[0m         body,\n\u001B[1;32m    875\u001B[0m         headers,\n\u001B[1;32m    876\u001B[0m         retries,\n\u001B[1;32m    877\u001B[0m         redirect,\n\u001B[1;32m    878\u001B[0m         assert_same_host,\n\u001B[1;32m    879\u001B[0m         timeout\u001B[38;5;241m=\u001B[39mtimeout,\n\u001B[1;32m    880\u001B[0m         pool_timeout\u001B[38;5;241m=\u001B[39mpool_timeout,\n\u001B[1;32m    881\u001B[0m         release_conn\u001B[38;5;241m=\u001B[39mrelease_conn,\n\u001B[1;32m    882\u001B[0m         chunked\u001B[38;5;241m=\u001B[39mchunked,\n\u001B[1;32m    883\u001B[0m         body_pos\u001B[38;5;241m=\u001B[39mbody_pos,\n\u001B[1;32m    884\u001B[0m         preload_content\u001B[38;5;241m=\u001B[39mpreload_content,\n\u001B[1;32m    885\u001B[0m         decode_content\u001B[38;5;241m=\u001B[39mdecode_content,\n\u001B[1;32m    886\u001B[0m         \u001B[38;5;241m*\u001B[39m\u001B[38;5;241m*\u001B[39mresponse_kw,\n\u001B[1;32m    887\u001B[0m     )\n\u001B[1;32m    889\u001B[0m \u001B[38;5;66;03m# Handle redirect?\u001B[39;00m\n",
      "File \u001B[0;32m/opt/anaconda3/lib/python3.12/site-packages/urllib3/connectionpool.py:841\u001B[0m, in \u001B[0;36mHTTPConnectionPool.urlopen\u001B[0;34m(self, method, url, body, headers, retries, redirect, assert_same_host, timeout, pool_timeout, release_conn, chunked, body_pos, preload_content, decode_content, **response_kw)\u001B[0m\n\u001B[1;32m    839\u001B[0m     new_e \u001B[38;5;241m=\u001B[39m ProtocolError(\u001B[38;5;124m\"\u001B[39m\u001B[38;5;124mConnection aborted.\u001B[39m\u001B[38;5;124m\"\u001B[39m, new_e)\n\u001B[0;32m--> 841\u001B[0m retries \u001B[38;5;241m=\u001B[39m retries\u001B[38;5;241m.\u001B[39mincrement(\n\u001B[1;32m    842\u001B[0m     method, url, error\u001B[38;5;241m=\u001B[39mnew_e, _pool\u001B[38;5;241m=\u001B[39m\u001B[38;5;28mself\u001B[39m, _stacktrace\u001B[38;5;241m=\u001B[39msys\u001B[38;5;241m.\u001B[39mexc_info()[\u001B[38;5;241m2\u001B[39m]\n\u001B[1;32m    843\u001B[0m )\n\u001B[1;32m    844\u001B[0m retries\u001B[38;5;241m.\u001B[39msleep()\n",
      "File \u001B[0;32m/opt/anaconda3/lib/python3.12/site-packages/urllib3/util/retry.py:519\u001B[0m, in \u001B[0;36mRetry.increment\u001B[0;34m(self, method, url, response, error, _pool, _stacktrace)\u001B[0m\n\u001B[1;32m    518\u001B[0m     reason \u001B[38;5;241m=\u001B[39m error \u001B[38;5;129;01mor\u001B[39;00m ResponseError(cause)\n\u001B[0;32m--> 519\u001B[0m     \u001B[38;5;28;01mraise\u001B[39;00m MaxRetryError(_pool, url, reason) \u001B[38;5;28;01mfrom\u001B[39;00m\u001B[38;5;250m \u001B[39m\u001B[38;5;21;01mreason\u001B[39;00m  \u001B[38;5;66;03m# type: ignore[arg-type]\u001B[39;00m\n\u001B[1;32m    521\u001B[0m log\u001B[38;5;241m.\u001B[39mdebug(\u001B[38;5;124m\"\u001B[39m\u001B[38;5;124mIncremented Retry for (url=\u001B[39m\u001B[38;5;124m'\u001B[39m\u001B[38;5;132;01m%s\u001B[39;00m\u001B[38;5;124m'\u001B[39m\u001B[38;5;124m): \u001B[39m\u001B[38;5;132;01m%r\u001B[39;00m\u001B[38;5;124m\"\u001B[39m, url, new_retry)\n",
      "\u001B[0;31mMaxRetryError\u001B[0m: HTTPSConnectionPool(host='nominatim.openstreetmap.org', port=443): Max retries exceeded with url: /search?q=Nguy%E1%BB%85n+S%E1%BB%B9+S%C3%A1ch%2C+Qu%E1%BA%ADn+T%C3%A2n+B%C3%ACnh%2C+H%E1%BB%93+Ch%C3%AD+Minh&format=json&limit=1 (Caused by ReadTimeoutError(\"HTTPSConnectionPool(host='nominatim.openstreetmap.org', port=443): Read timed out. (read timeout=1)\"))",
      "\nDuring handling of the above exception, another exception occurred:\n",
      "\u001B[0;31mConnectionError\u001B[0m                           Traceback (most recent call last)",
      "File \u001B[0;32m/opt/anaconda3/lib/python3.12/site-packages/geopy/adapters.py:482\u001B[0m, in \u001B[0;36mRequestsAdapter._request\u001B[0;34m(self, url, timeout, headers)\u001B[0m\n\u001B[1;32m    481\u001B[0m \u001B[38;5;28;01mtry\u001B[39;00m:\n\u001B[0;32m--> 482\u001B[0m     resp \u001B[38;5;241m=\u001B[39m \u001B[38;5;28mself\u001B[39m\u001B[38;5;241m.\u001B[39msession\u001B[38;5;241m.\u001B[39mget(url, timeout\u001B[38;5;241m=\u001B[39mtimeout, headers\u001B[38;5;241m=\u001B[39mheaders)\n\u001B[1;32m    483\u001B[0m \u001B[38;5;28;01mexcept\u001B[39;00m \u001B[38;5;167;01mException\u001B[39;00m \u001B[38;5;28;01mas\u001B[39;00m error:\n",
      "File \u001B[0;32m/opt/anaconda3/lib/python3.12/site-packages/requests/sessions.py:602\u001B[0m, in \u001B[0;36mSession.get\u001B[0;34m(self, url, **kwargs)\u001B[0m\n\u001B[1;32m    601\u001B[0m kwargs\u001B[38;5;241m.\u001B[39msetdefault(\u001B[38;5;124m\"\u001B[39m\u001B[38;5;124mallow_redirects\u001B[39m\u001B[38;5;124m\"\u001B[39m, \u001B[38;5;28;01mTrue\u001B[39;00m)\n\u001B[0;32m--> 602\u001B[0m \u001B[38;5;28;01mreturn\u001B[39;00m \u001B[38;5;28mself\u001B[39m\u001B[38;5;241m.\u001B[39mrequest(\u001B[38;5;124m\"\u001B[39m\u001B[38;5;124mGET\u001B[39m\u001B[38;5;124m\"\u001B[39m, url, \u001B[38;5;241m*\u001B[39m\u001B[38;5;241m*\u001B[39mkwargs)\n",
      "File \u001B[0;32m/opt/anaconda3/lib/python3.12/site-packages/requests/sessions.py:589\u001B[0m, in \u001B[0;36mSession.request\u001B[0;34m(self, method, url, params, data, headers, cookies, files, auth, timeout, allow_redirects, proxies, hooks, stream, verify, cert, json)\u001B[0m\n\u001B[1;32m    588\u001B[0m send_kwargs\u001B[38;5;241m.\u001B[39mupdate(settings)\n\u001B[0;32m--> 589\u001B[0m resp \u001B[38;5;241m=\u001B[39m \u001B[38;5;28mself\u001B[39m\u001B[38;5;241m.\u001B[39msend(prep, \u001B[38;5;241m*\u001B[39m\u001B[38;5;241m*\u001B[39msend_kwargs)\n\u001B[1;32m    591\u001B[0m \u001B[38;5;28;01mreturn\u001B[39;00m resp\n",
      "File \u001B[0;32m/opt/anaconda3/lib/python3.12/site-packages/requests/sessions.py:703\u001B[0m, in \u001B[0;36mSession.send\u001B[0;34m(self, request, **kwargs)\u001B[0m\n\u001B[1;32m    702\u001B[0m \u001B[38;5;66;03m# Send the request\u001B[39;00m\n\u001B[0;32m--> 703\u001B[0m r \u001B[38;5;241m=\u001B[39m adapter\u001B[38;5;241m.\u001B[39msend(request, \u001B[38;5;241m*\u001B[39m\u001B[38;5;241m*\u001B[39mkwargs)\n\u001B[1;32m    705\u001B[0m \u001B[38;5;66;03m# Total elapsed time of the request (approximately)\u001B[39;00m\n",
      "File \u001B[0;32m/opt/anaconda3/lib/python3.12/site-packages/requests/adapters.py:700\u001B[0m, in \u001B[0;36mHTTPAdapter.send\u001B[0;34m(self, request, stream, timeout, verify, cert, proxies)\u001B[0m\n\u001B[1;32m    698\u001B[0m         \u001B[38;5;28;01mraise\u001B[39;00m SSLError(e, request\u001B[38;5;241m=\u001B[39mrequest)\n\u001B[0;32m--> 700\u001B[0m     \u001B[38;5;28;01mraise\u001B[39;00m \u001B[38;5;167;01mConnectionError\u001B[39;00m(e, request\u001B[38;5;241m=\u001B[39mrequest)\n\u001B[1;32m    702\u001B[0m \u001B[38;5;28;01mexcept\u001B[39;00m ClosedPoolError \u001B[38;5;28;01mas\u001B[39;00m e:\n",
      "\u001B[0;31mConnectionError\u001B[0m: HTTPSConnectionPool(host='nominatim.openstreetmap.org', port=443): Max retries exceeded with url: /search?q=Nguy%E1%BB%85n+S%E1%BB%B9+S%C3%A1ch%2C+Qu%E1%BA%ADn+T%C3%A2n+B%C3%ACnh%2C+H%E1%BB%93+Ch%C3%AD+Minh&format=json&limit=1 (Caused by ReadTimeoutError(\"HTTPSConnectionPool(host='nominatim.openstreetmap.org', port=443): Read timed out. (read timeout=1)\"))",
      "\nDuring handling of the above exception, another exception occurred:\n",
      "\u001B[0;31mGeocoderUnavailable\u001B[0m                       Traceback (most recent call last)",
      "Cell \u001B[0;32mIn[13], line 1\u001B[0m\n\u001B[0;32m----> 1\u001B[0m location1 \u001B[38;5;241m=\u001B[39m geolocator1\u001B[38;5;241m.\u001B[39mgeocode(\u001B[38;5;124m\"\u001B[39m\u001B[38;5;124mNguyễn Sỹ Sách, Quận Tân Bình, Hồ Chí Minh\u001B[39m\u001B[38;5;124m\"\u001B[39m)\n",
      "File \u001B[0;32m/opt/anaconda3/lib/python3.12/site-packages/geopy/geocoders/nominatim.py:297\u001B[0m, in \u001B[0;36mNominatim.geocode\u001B[0;34m(self, query, exactly_one, timeout, limit, addressdetails, language, geometry, extratags, country_codes, viewbox, bounded, featuretype, namedetails)\u001B[0m\n\u001B[1;32m    295\u001B[0m logger\u001B[38;5;241m.\u001B[39mdebug(\u001B[38;5;124m\"\u001B[39m\u001B[38;5;132;01m%s\u001B[39;00m\u001B[38;5;124m.geocode: \u001B[39m\u001B[38;5;132;01m%s\u001B[39;00m\u001B[38;5;124m\"\u001B[39m, \u001B[38;5;28mself\u001B[39m\u001B[38;5;241m.\u001B[39m\u001B[38;5;18m__class__\u001B[39m\u001B[38;5;241m.\u001B[39m\u001B[38;5;18m__name__\u001B[39m, url)\n\u001B[1;32m    296\u001B[0m callback \u001B[38;5;241m=\u001B[39m partial(\u001B[38;5;28mself\u001B[39m\u001B[38;5;241m.\u001B[39m_parse_json, exactly_one\u001B[38;5;241m=\u001B[39mexactly_one)\n\u001B[0;32m--> 297\u001B[0m \u001B[38;5;28;01mreturn\u001B[39;00m \u001B[38;5;28mself\u001B[39m\u001B[38;5;241m.\u001B[39m_call_geocoder(url, callback, timeout\u001B[38;5;241m=\u001B[39mtimeout)\n",
      "File \u001B[0;32m/opt/anaconda3/lib/python3.12/site-packages/geopy/geocoders/base.py:368\u001B[0m, in \u001B[0;36mGeocoder._call_geocoder\u001B[0;34m(self, url, callback, timeout, is_json, headers)\u001B[0m\n\u001B[1;32m    366\u001B[0m \u001B[38;5;28;01mtry\u001B[39;00m:\n\u001B[1;32m    367\u001B[0m     \u001B[38;5;28;01mif\u001B[39;00m is_json:\n\u001B[0;32m--> 368\u001B[0m         result \u001B[38;5;241m=\u001B[39m \u001B[38;5;28mself\u001B[39m\u001B[38;5;241m.\u001B[39madapter\u001B[38;5;241m.\u001B[39mget_json(url, timeout\u001B[38;5;241m=\u001B[39mtimeout, headers\u001B[38;5;241m=\u001B[39mreq_headers)\n\u001B[1;32m    369\u001B[0m     \u001B[38;5;28;01melse\u001B[39;00m:\n\u001B[1;32m    370\u001B[0m         result \u001B[38;5;241m=\u001B[39m \u001B[38;5;28mself\u001B[39m\u001B[38;5;241m.\u001B[39madapter\u001B[38;5;241m.\u001B[39mget_text(url, timeout\u001B[38;5;241m=\u001B[39mtimeout, headers\u001B[38;5;241m=\u001B[39mreq_headers)\n",
      "File \u001B[0;32m/opt/anaconda3/lib/python3.12/site-packages/geopy/adapters.py:472\u001B[0m, in \u001B[0;36mRequestsAdapter.get_json\u001B[0;34m(self, url, timeout, headers)\u001B[0m\n\u001B[1;32m    471\u001B[0m \u001B[38;5;28;01mdef\u001B[39;00m\u001B[38;5;250m \u001B[39m\u001B[38;5;21mget_json\u001B[39m(\u001B[38;5;28mself\u001B[39m, url, \u001B[38;5;241m*\u001B[39m, timeout, headers):\n\u001B[0;32m--> 472\u001B[0m     resp \u001B[38;5;241m=\u001B[39m \u001B[38;5;28mself\u001B[39m\u001B[38;5;241m.\u001B[39m_request(url, timeout\u001B[38;5;241m=\u001B[39mtimeout, headers\u001B[38;5;241m=\u001B[39mheaders)\n\u001B[1;32m    473\u001B[0m     \u001B[38;5;28;01mtry\u001B[39;00m:\n\u001B[1;32m    474\u001B[0m         \u001B[38;5;28;01mreturn\u001B[39;00m resp\u001B[38;5;241m.\u001B[39mjson()\n",
      "File \u001B[0;32m/opt/anaconda3/lib/python3.12/site-packages/geopy/adapters.py:494\u001B[0m, in \u001B[0;36mRequestsAdapter._request\u001B[0;34m(self, url, timeout, headers)\u001B[0m\n\u001B[1;32m    492\u001B[0m         \u001B[38;5;28;01mraise\u001B[39;00m GeocoderServiceError(message)\n\u001B[1;32m    493\u001B[0m     \u001B[38;5;28;01melse\u001B[39;00m:\n\u001B[0;32m--> 494\u001B[0m         \u001B[38;5;28;01mraise\u001B[39;00m GeocoderUnavailable(message)\n\u001B[1;32m    495\u001B[0m \u001B[38;5;28;01melif\u001B[39;00m \u001B[38;5;28misinstance\u001B[39m(error, requests\u001B[38;5;241m.\u001B[39mTimeout):\n\u001B[1;32m    496\u001B[0m     \u001B[38;5;28;01mraise\u001B[39;00m GeocoderTimedOut(\u001B[38;5;124m\"\u001B[39m\u001B[38;5;124mService timed out\u001B[39m\u001B[38;5;124m\"\u001B[39m)\n",
      "\u001B[0;31mGeocoderUnavailable\u001B[0m: HTTPSConnectionPool(host='nominatim.openstreetmap.org', port=443): Max retries exceeded with url: /search?q=Nguy%E1%BB%85n+S%E1%BB%B9+S%C3%A1ch%2C+Qu%E1%BA%ADn+T%C3%A2n+B%C3%ACnh%2C+H%E1%BB%93+Ch%C3%AD+Minh&format=json&limit=1 (Caused by ReadTimeoutError(\"HTTPSConnectionPool(host='nominatim.openstreetmap.org', port=443): Read timed out. (read timeout=1)\"))"
     ]
    }
   ],
   "execution_count": 13
  },
  {
   "metadata": {
    "ExecuteTime": {
     "end_time": "2025-07-21T13:45:32.822430Z",
     "start_time": "2025-07-21T13:45:32.484485Z"
    }
   },
   "cell_type": "code",
   "source": "location2 = geolocator2.geocode(\"Nguyễn Văn Trỗi, Quận Tân Bình, Hồ Chí Minh\")",
   "id": "edd765874d4e5b89",
   "outputs": [],
   "execution_count": 29
  },
  {
   "metadata": {
    "ExecuteTime": {
     "end_time": "2025-07-21T13:45:33.521973Z",
     "start_time": "2025-07-21T13:45:33.519802Z"
    }
   },
   "cell_type": "code",
   "source": "location2",
   "id": "e0e05e37d3fa3ad6",
   "outputs": [
    {
     "data": {
      "text/plain": [
       "Location(Đường Nguyễn Văn Trỗi, Phường 1, Quận Tân Bình, Hồ Chí Minh, 72107, (10.799609822123, 106.668623752854, 0.0))"
      ]
     },
     "execution_count": 30,
     "metadata": {},
     "output_type": "execute_result"
    }
   ],
   "execution_count": 30
  },
  {
   "metadata": {},
   "cell_type": "code",
   "outputs": [],
   "execution_count": null,
   "source": "",
   "id": "1ef143fe1650bdff"
  }
 ],
 "metadata": {
  "kernelspec": {
   "display_name": "Python [conda env:base] *",
   "language": "python",
   "name": "conda-base-py"
  },
  "language_info": {
   "codemirror_mode": {
    "name": "ipython",
    "version": 2
   },
   "file_extension": ".py",
   "mimetype": "text/x-python",
   "name": "python",
   "nbconvert_exporter": "python",
   "pygments_lexer": "ipython2",
   "version": "2.7.6"
  }
 },
 "nbformat": 4,
 "nbformat_minor": 5
}
