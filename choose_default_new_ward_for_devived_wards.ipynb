{
 "cells": [
  {
   "cell_type": "code",
   "id": "initial_id",
   "metadata": {
    "collapsed": true,
    "ExecuteTime": {
     "end_time": "2025-07-21T17:03:30.612400Z",
     "start_time": "2025-07-21T17:03:30.609965Z"
    }
   },
   "source": [
    "import pandas as pd\n",
    "import numpy as np\n",
    "from urllib.parse import quote\n",
    "import webbrowser\n",
    "from tqdm import tqdm"
   ],
   "outputs": [],
   "execution_count": 103
  },
  {
   "metadata": {
    "ExecuteTime": {
     "end_time": "2025-07-21T17:03:30.832420Z",
     "start_time": "2025-07-21T17:03:30.788523Z"
    }
   },
   "cell_type": "code",
   "source": "df = pd.read_csv('data/danhmuc_and_sapnhap.csv')",
   "id": "e8ff98f4b43ec09f",
   "outputs": [],
   "execution_count": 104
  },
  {
   "metadata": {
    "ExecuteTime": {
     "end_time": "2025-07-21T17:03:30.926323Z",
     "start_time": "2025-07-21T17:03:30.924211Z"
    }
   },
   "cell_type": "code",
   "source": "df.shape",
   "id": "2334e46e022749ee",
   "outputs": [
    {
     "data": {
      "text/plain": [
       "(10826, 25)"
      ]
     },
     "execution_count": 105,
     "metadata": {},
     "output_type": "execute_result"
    }
   ],
   "execution_count": 105
  },
  {
   "metadata": {
    "ExecuteTime": {
     "end_time": "2025-07-21T17:03:31.104562Z",
     "start_time": "2025-07-21T17:03:31.086241Z"
    }
   },
   "cell_type": "code",
   "source": [
    "# Tính lại isDividedWard\n",
    "df.drop(columns=['isDividedWard'], inplace=True)\n",
    "count_unit = df.groupby(['province', 'district', 'ward']).size().reset_index(name='count_unit')\n",
    "count_unit['isDividedWard'] = np.where(count_unit['count_unit'] > 1, True, False)\n",
    "df = pd.merge(df, count_unit, on=['province', 'district', 'ward'], how='left')"
   ],
   "id": "42615f32072a44d3",
   "outputs": [],
   "execution_count": 106
  },
  {
   "metadata": {
    "ExecuteTime": {
     "end_time": "2025-07-21T17:03:31.249145Z",
     "start_time": "2025-07-21T17:03:31.243903Z"
    }
   },
   "cell_type": "code",
   "source": [
    "# Các ward bị chia\n",
    "df_divided = df[df['isDividedWard']==True].copy()\n",
    "df_divided.sort_values(by=['province', 'district', 'ward', 'newWardAreaKm2'], inplace=True)"
   ],
   "id": "a7238b7249a395de",
   "outputs": [],
   "execution_count": 107
  },
  {
   "metadata": {
    "ExecuteTime": {
     "end_time": "2025-07-21T17:03:31.409709Z",
     "start_time": "2025-07-21T17:03:31.406309Z"
    }
   },
   "cell_type": "code",
   "source": [
    "# Các district có ward bị chia\n",
    "df_divided_district = df_divided[['province', 'district']].drop_duplicates()"
   ],
   "id": "a9e7b7aee757bf52",
   "outputs": [],
   "execution_count": 108
  },
  {
   "metadata": {
    "ExecuteTime": {
     "end_time": "2025-07-21T17:03:31.607802Z",
     "start_time": "2025-07-21T17:03:31.606190Z"
    }
   },
   "cell_type": "code",
   "source": [
    "# # Tìm tên đường phố thủ công\n",
    "# for index, row in tqdm(df_divided_district.iterrows(), total=df_divided_district.shape[0]):\n",
    "#     keyword = row['district'] + ', ' + row['province'] + ' wikipedia'\n",
    "#     search_url = f\"https://www.google.com/search?q={quote(keyword)}\"\n",
    "#     webbrowser.open(search_url)\n",
    "#     wikipedia = input(\"wikipedia:\").upper()\n",
    "#     if wikipedia != 'NO':\n",
    "#         element = input(\"element:\")\n",
    "#     else:\n",
    "#         element = 'NO'\n",
    "#     df_divided_district.loc[index, 'wikipedia'] = wikipedia\n",
    "#     df_divided_district.loc[index, 'element'] = element\n",
    "# df_divided_district.to_csv('data/df_divided_district.csv', index=False)"
   ],
   "id": "c70074dbb67a2d46",
   "outputs": [],
   "execution_count": 109
  },
  {
   "metadata": {
    "ExecuteTime": {
     "end_time": "2025-07-21T17:03:53.136002Z",
     "start_time": "2025-07-21T17:03:53.131329Z"
    }
   },
   "cell_type": "code",
   "source": "df_divided_district = pd.read_csv('data/df_divided_district.csv')",
   "id": "e7d891d8c9ed4770",
   "outputs": [],
   "execution_count": 110
  },
  {
   "metadata": {},
   "cell_type": "code",
   "outputs": [],
   "execution_count": null,
   "source": "",
   "id": "fc03d9566a418f90"
  }
 ],
 "metadata": {
  "kernelspec": {
   "display_name": "Python [conda env:base] *",
   "language": "python",
   "name": "conda-base-py"
  },
  "language_info": {
   "codemirror_mode": {
    "name": "ipython",
    "version": 2
   },
   "file_extension": ".py",
   "mimetype": "text/x-python",
   "name": "python",
   "nbconvert_exporter": "python",
   "pygments_lexer": "ipython2",
   "version": "2.7.6"
  }
 },
 "nbformat": 4,
 "nbformat_minor": 5
}
