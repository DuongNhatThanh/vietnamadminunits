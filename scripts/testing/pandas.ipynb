{
 "cells": [
  {
   "cell_type": "code",
   "id": "initial_id",
   "metadata": {
    "collapsed": true,
    "ExecuteTime": {
     "end_time": "2025-08-01T08:40:07.227094Z",
     "start_time": "2025-08-01T08:40:06.495936Z"
    }
   },
   "source": [
    "from vietnamadminunits.database import get_data\n",
    "from vietnamadminunits.pandas import standardize_admin_unit_columns\n",
    "import pandas as pd"
   ],
   "outputs": [],
   "execution_count": 1
  },
  {
   "metadata": {},
   "cell_type": "code",
   "source": [
    "df = pd.DataFrame(get_data(fields=['province', 'ward']))\n",
    "df = standardize_admin_unit_columns(df=df, province='province', ward='ward', inplace=False, short_name=False)\n",
    "df"
   ],
   "id": "33720b30cc605da8",
   "outputs": [],
   "execution_count": null
  },
  {
   "metadata": {},
   "cell_type": "code",
   "source": [
    "df_2 = pd.DataFrame(get_data(fields=['province', 'district', 'ward'], table='admin_units_63'))\n",
    "df_2 = standardize_admin_unit_columns(df=df_2, province='province', district='district', ward='ward', mode=63, inplace=False, short_name=False)\n",
    "df_2"
   ],
   "id": "e033e07538d06741",
   "outputs": [],
   "execution_count": null
  },
  {
   "metadata": {},
   "cell_type": "code",
   "source": [
    "df_2 = pd.DataFrame(get_data(fields=['province', 'provinceShort', 'district', 'districtShort', 'ward', 'wardShort'], table='admin_units_63'))\n",
    "df_2 = standardize_admin_unit_columns(df=df_2, province='provinceShort', district='districtShort', ward='wardShort', mode=63, inplace=False, short_name=False)\n",
    "df_2"
   ],
   "id": "32d36f535eccaf9e",
   "outputs": [],
   "execution_count": null
  },
  {
   "metadata": {
    "ExecuteTime": {
     "end_time": "2025-08-01T08:40:07.955734Z",
     "start_time": "2025-08-01T08:40:07.923545Z"
    }
   },
   "cell_type": "code",
   "source": [
    "df_3 = pd.DataFrame(get_data(fields=['province', 'district', 'ward'], table='admin_units_63')).head()\n",
    "df_3"
   ],
   "id": "caa11c1f57e4557d",
   "outputs": [
    {
     "data": {
      "text/plain": [
       "           province      district              ward\n",
       "0  Thành phố Hà Nội  Quận Ba Đình    Phường Phúc Xá\n",
       "1  Thành phố Hà Nội  Quận Ba Đình  Phường Trúc Bạch\n",
       "2  Thành phố Hà Nội  Quận Ba Đình  Phường Vĩnh Phúc\n",
       "3  Thành phố Hà Nội  Quận Ba Đình    Phường Cống Vị\n",
       "4  Thành phố Hà Nội  Quận Ba Đình  Phường Liễu Giai"
      ],
      "text/html": [
       "<div>\n",
       "<style scoped>\n",
       "    .dataframe tbody tr th:only-of-type {\n",
       "        vertical-align: middle;\n",
       "    }\n",
       "\n",
       "    .dataframe tbody tr th {\n",
       "        vertical-align: top;\n",
       "    }\n",
       "\n",
       "    .dataframe thead th {\n",
       "        text-align: right;\n",
       "    }\n",
       "</style>\n",
       "<table border=\"1\" class=\"dataframe\">\n",
       "  <thead>\n",
       "    <tr style=\"text-align: right;\">\n",
       "      <th></th>\n",
       "      <th>province</th>\n",
       "      <th>district</th>\n",
       "      <th>ward</th>\n",
       "    </tr>\n",
       "  </thead>\n",
       "  <tbody>\n",
       "    <tr>\n",
       "      <th>0</th>\n",
       "      <td>Thành phố Hà Nội</td>\n",
       "      <td>Quận Ba Đình</td>\n",
       "      <td>Phường Phúc Xá</td>\n",
       "    </tr>\n",
       "    <tr>\n",
       "      <th>1</th>\n",
       "      <td>Thành phố Hà Nội</td>\n",
       "      <td>Quận Ba Đình</td>\n",
       "      <td>Phường Trúc Bạch</td>\n",
       "    </tr>\n",
       "    <tr>\n",
       "      <th>2</th>\n",
       "      <td>Thành phố Hà Nội</td>\n",
       "      <td>Quận Ba Đình</td>\n",
       "      <td>Phường Vĩnh Phúc</td>\n",
       "    </tr>\n",
       "    <tr>\n",
       "      <th>3</th>\n",
       "      <td>Thành phố Hà Nội</td>\n",
       "      <td>Quận Ba Đình</td>\n",
       "      <td>Phường Cống Vị</td>\n",
       "    </tr>\n",
       "    <tr>\n",
       "      <th>4</th>\n",
       "      <td>Thành phố Hà Nội</td>\n",
       "      <td>Quận Ba Đình</td>\n",
       "      <td>Phường Liễu Giai</td>\n",
       "    </tr>\n",
       "  </tbody>\n",
       "</table>\n",
       "</div>"
      ]
     },
     "execution_count": 2,
     "metadata": {},
     "output_type": "execute_result"
    }
   ],
   "execution_count": 2
  },
  {
   "metadata": {
    "ExecuteTime": {
     "end_time": "2025-08-01T08:41:22.579948Z",
     "start_time": "2025-08-01T08:41:22.324549Z"
    }
   },
   "cell_type": "code",
   "source": "standardize_admin_unit_columns(df=df_3, province='province', mode=34, inplace=False, short_name=False, convert_to_latest=True)",
   "id": "bce83b39afbe786a",
   "outputs": [
    {
     "ename": "ValueError",
     "evalue": "At present, only mode 63 is supported for the conversion to the latest version.",
     "output_type": "error",
     "traceback": [
      "\u001B[0;31m---------------------------------------------------------------------------\u001B[0m",
      "\u001B[0;31mValueError\u001B[0m                                Traceback (most recent call last)",
      "Cell \u001B[0;32mIn[4], line 1\u001B[0m\n\u001B[0;32m----> 1\u001B[0m standardize_admin_unit_columns(df\u001B[38;5;241m=\u001B[39mdf_3, province\u001B[38;5;241m=\u001B[39m\u001B[38;5;124m'\u001B[39m\u001B[38;5;124mprovince\u001B[39m\u001B[38;5;124m'\u001B[39m, mode\u001B[38;5;241m=\u001B[39m\u001B[38;5;241m34\u001B[39m, inplace\u001B[38;5;241m=\u001B[39m\u001B[38;5;28;01mFalse\u001B[39;00m, short_name\u001B[38;5;241m=\u001B[39m\u001B[38;5;28;01mFalse\u001B[39;00m, convert_to_latest\u001B[38;5;241m=\u001B[39m\u001B[38;5;28;01mTrue\u001B[39;00m)\n",
      "File \u001B[0;32m~/Documents/GitHub/personal/sapnhap/vietnamadminunits/pandas/main.py:33\u001B[0m, in \u001B[0;36mstandardize_admin_unit_columns\u001B[0;34m(df, province, district, ward, mode, inplace, prefix, suffix, short_name, convert_to_latest)\u001B[0m\n\u001B[1;32m     31\u001B[0m \u001B[38;5;28;01mif\u001B[39;00m convert_to_latest:\n\u001B[1;32m     32\u001B[0m     \u001B[38;5;28;01mif\u001B[39;00m mode \u001B[38;5;241m!=\u001B[39m \u001B[38;5;241m63\u001B[39m:\n\u001B[0;32m---> 33\u001B[0m         \u001B[38;5;28;01mraise\u001B[39;00m \u001B[38;5;167;01mValueError\u001B[39;00m(\u001B[38;5;124m'\u001B[39m\u001B[38;5;124mAt present, only mode 63 is supported for the conversion to the latest version.\u001B[39m\u001B[38;5;124m'\u001B[39m)\n\u001B[1;32m     34\u001B[0m     \u001B[38;5;28;01mif\u001B[39;00m \u001B[38;5;129;01mnot\u001B[39;00m district \u001B[38;5;129;01mor\u001B[39;00m \u001B[38;5;129;01mnot\u001B[39;00m ward:\n\u001B[1;32m     35\u001B[0m         warnings\u001B[38;5;241m.\u001B[39mwarn(\u001B[38;5;124m'\u001B[39m\u001B[38;5;124mThe names of the District or Ward columns are not provided. Therefore, only the Province level will be converted.\u001B[39m\u001B[38;5;124m'\u001B[39m, \u001B[38;5;167;01mUserWarning\u001B[39;00m)\n",
      "\u001B[0;31mValueError\u001B[0m: At present, only mode 63 is supported for the conversion to the latest version."
     ]
    }
   ],
   "execution_count": 4
  },
  {
   "metadata": {},
   "cell_type": "code",
   "source": "",
   "id": "bf75b98f1bc5d8ee",
   "outputs": [],
   "execution_count": null
  }
 ],
 "metadata": {
  "kernelspec": {
   "display_name": "Python [conda env:base] *",
   "language": "python",
   "name": "conda-base-py"
  },
  "language_info": {
   "codemirror_mode": {
    "name": "ipython",
    "version": 2
   },
   "file_extension": ".py",
   "mimetype": "text/x-python",
   "name": "python",
   "nbconvert_exporter": "python",
   "pygments_lexer": "ipython2",
   "version": "2.7.6"
  }
 },
 "nbformat": 4,
 "nbformat_minor": 5
}
