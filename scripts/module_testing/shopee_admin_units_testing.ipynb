{
 "cells": [
  {
   "cell_type": "code",
   "id": "initial_id",
   "metadata": {
    "collapsed": true,
    "ExecuteTime": {
     "end_time": "2025-08-04T08:41:17.215820Z",
     "start_time": "2025-08-04T08:41:17.213234Z"
    }
   },
   "source": [
    "from vietnamadminunits.pandas import standardize_admin_unit_columns\n",
    "import pandas as pd"
   ],
   "outputs": [],
   "execution_count": 3
  },
  {
   "metadata": {
    "ExecuteTime": {
     "end_time": "2025-08-04T08:41:34.099868Z",
     "start_time": "2025-08-04T08:41:33.553212Z"
    }
   },
   "cell_type": "code",
   "source": "df = pd.read_excel('data/shopee_admin_units.xlsx')",
   "id": "edbc07f91be239a6",
   "outputs": [],
   "execution_count": 4
  },
  {
   "metadata": {
    "ExecuteTime": {
     "end_time": "2025-08-04T08:41:52.511974Z",
     "start_time": "2025-08-04T08:41:52.509219Z"
    }
   },
   "cell_type": "code",
   "source": "df.drop(columns='vol', inplace=True)",
   "id": "6ddb0fe770962423",
   "outputs": [],
   "execution_count": 6
  },
  {
   "metadata": {
    "ExecuteTime": {
     "end_time": "2025-08-04T08:42:07.367188Z",
     "start_time": "2025-08-04T08:42:07.352036Z"
    }
   },
   "cell_type": "code",
   "source": "df.to_csv('data/shopee_admin_units.csv', index=False)",
   "id": "1202c1406cbfa0e6",
   "outputs": [],
   "execution_count": 7
  },
  {
   "metadata": {},
   "cell_type": "code",
   "outputs": [],
   "execution_count": null,
   "source": "",
   "id": "1a5d2e425289077e"
  }
 ],
 "metadata": {
  "kernelspec": {
   "display_name": "Python [conda env:base] *",
   "language": "python",
   "name": "conda-base-py"
  },
  "language_info": {
   "codemirror_mode": {
    "name": "ipython",
    "version": 2
   },
   "file_extension": ".py",
   "mimetype": "text/x-python",
   "name": "python",
   "nbconvert_exporter": "python",
   "pygments_lexer": "ipython2",
   "version": "2.7.6"
  }
 },
 "nbformat": 4,
 "nbformat_minor": 5
}
