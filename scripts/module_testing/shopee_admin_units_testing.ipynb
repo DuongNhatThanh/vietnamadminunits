{
 "cells": [
  {
   "cell_type": "code",
   "id": "initial_id",
   "metadata": {
    "collapsed": true,
    "ExecuteTime": {
     "end_time": "2025-08-04T16:03:39.171530Z",
     "start_time": "2025-08-04T16:03:38.669901Z"
    }
   },
   "source": [
    "from vietnamadminunits.pandas import standardize_admin_unit_columns\n",
    "from vietnamadminunits.database import get_data\n",
    "import pandas as pd"
   ],
   "outputs": [],
   "execution_count": 1
  },
  {
   "metadata": {
    "ExecuteTime": {
     "end_time": "2025-08-04T16:03:40.263622Z",
     "start_time": "2025-08-04T16:03:40.249432Z"
    }
   },
   "cell_type": "code",
   "source": "df = pd.read_csv('data/shopee_admin_units.csv')",
   "id": "edbc07f91be239a6",
   "outputs": [],
   "execution_count": 2
  },
  {
   "metadata": {
    "ExecuteTime": {
     "end_time": "2025-08-04T16:03:42.032301Z",
     "start_time": "2025-08-04T16:03:40.735106Z"
    }
   },
   "cell_type": "code",
   "source": "standardized_df = standardize_admin_unit_columns(df, province='province', district='district', ward='ward', parse_mode='LEGACY')",
   "id": "510831871d5fa8ef",
   "outputs": [
    {
     "name": "stderr",
     "output_type": "stream",
     "text": [
      "Standardizing unique administrative units: 100%|██████████| 10690/10690 [00:01<00:00, 8426.77it/s]\n"
     ]
    }
   ],
   "execution_count": 3
  },
  {
   "metadata": {
    "ExecuteTime": {
     "end_time": "2025-08-04T16:03:42.928838Z",
     "start_time": "2025-08-04T16:03:42.921077Z"
    }
   },
   "cell_type": "code",
   "source": "standardized_df",
   "id": "f10aa08c775d8367",
   "outputs": [
    {
     "data": {
      "text/plain": [
       "                    ward          district         province  \\\n",
       "0             Xã An Hiệp  Huyện Châu Thành        Đồng Tháp   \n",
       "1                Xã Laêê   Huyện Nam Giang        Quảng Nam   \n",
       "2           Xã Kiến Quốc  Huyện Ninh Giang        Hải Dương   \n",
       "3         Xã Quảng Phong      Huyện Hải Hà       Quảng Ninh   \n",
       "4      Xã Điện Thắng Nam   Thị Xã Điện Bàn        Quảng Nam   \n",
       "...                  ...               ...              ...   \n",
       "10685          Phường 12       Quận Gò Vấp  TP. Hồ Chí Minh   \n",
       "10686      Xã Linh Thông    Huyện Định Hóa      Thái Nguyên   \n",
       "10687       Xã Bằng Luân   Huyện Đoan Hùng          Phú Thọ   \n",
       "10688         Xã Cẩm Yên  Huyện Thạch Thất           Hà Nội   \n",
       "10689       Xã Quỳnh Tam   Huyện Quỳnh Lưu          Nghệ An   \n",
       "\n",
       "      standardized_province standardized_district standardized_ward  \n",
       "0                 Đồng Tháp            Châu Thành           An Hiệp  \n",
       "1                 Quảng Nam             Nam Giang             La Êê  \n",
       "2                 Hải Dương            Ninh Giang              None  \n",
       "3                Quảng Ninh                Hải Hà       Quảng Phong  \n",
       "4                 Quảng Nam              Điện Bàn    Điện Thắng Nam  \n",
       "...                     ...                   ...               ...  \n",
       "10685           Hồ Chí Minh                Gò Vấp         Phường 12  \n",
       "10686           Thái Nguyên              Định Hóa        Linh Thông  \n",
       "10687               Phú Thọ             Đoan Hùng         Bằng Luân  \n",
       "10688                Hà Nội            Thạch Thất           Cẩm Yên  \n",
       "10689               Nghệ An             Quỳnh Lưu         Quỳnh Tam  \n",
       "\n",
       "[10690 rows x 6 columns]"
      ],
      "text/html": [
       "<div>\n",
       "<style scoped>\n",
       "    .dataframe tbody tr th:only-of-type {\n",
       "        vertical-align: middle;\n",
       "    }\n",
       "\n",
       "    .dataframe tbody tr th {\n",
       "        vertical-align: top;\n",
       "    }\n",
       "\n",
       "    .dataframe thead th {\n",
       "        text-align: right;\n",
       "    }\n",
       "</style>\n",
       "<table border=\"1\" class=\"dataframe\">\n",
       "  <thead>\n",
       "    <tr style=\"text-align: right;\">\n",
       "      <th></th>\n",
       "      <th>ward</th>\n",
       "      <th>district</th>\n",
       "      <th>province</th>\n",
       "      <th>standardized_province</th>\n",
       "      <th>standardized_district</th>\n",
       "      <th>standardized_ward</th>\n",
       "    </tr>\n",
       "  </thead>\n",
       "  <tbody>\n",
       "    <tr>\n",
       "      <th>0</th>\n",
       "      <td>Xã An Hiệp</td>\n",
       "      <td>Huyện Châu Thành</td>\n",
       "      <td>Đồng Tháp</td>\n",
       "      <td>Đồng Tháp</td>\n",
       "      <td>Châu Thành</td>\n",
       "      <td>An Hiệp</td>\n",
       "    </tr>\n",
       "    <tr>\n",
       "      <th>1</th>\n",
       "      <td>Xã Laêê</td>\n",
       "      <td>Huyện Nam Giang</td>\n",
       "      <td>Quảng Nam</td>\n",
       "      <td>Quảng Nam</td>\n",
       "      <td>Nam Giang</td>\n",
       "      <td>La Êê</td>\n",
       "    </tr>\n",
       "    <tr>\n",
       "      <th>2</th>\n",
       "      <td>Xã Kiến Quốc</td>\n",
       "      <td>Huyện Ninh Giang</td>\n",
       "      <td>Hải Dương</td>\n",
       "      <td>Hải Dương</td>\n",
       "      <td>Ninh Giang</td>\n",
       "      <td>None</td>\n",
       "    </tr>\n",
       "    <tr>\n",
       "      <th>3</th>\n",
       "      <td>Xã Quảng Phong</td>\n",
       "      <td>Huyện Hải Hà</td>\n",
       "      <td>Quảng Ninh</td>\n",
       "      <td>Quảng Ninh</td>\n",
       "      <td>Hải Hà</td>\n",
       "      <td>Quảng Phong</td>\n",
       "    </tr>\n",
       "    <tr>\n",
       "      <th>4</th>\n",
       "      <td>Xã Điện Thắng Nam</td>\n",
       "      <td>Thị Xã Điện Bàn</td>\n",
       "      <td>Quảng Nam</td>\n",
       "      <td>Quảng Nam</td>\n",
       "      <td>Điện Bàn</td>\n",
       "      <td>Điện Thắng Nam</td>\n",
       "    </tr>\n",
       "    <tr>\n",
       "      <th>...</th>\n",
       "      <td>...</td>\n",
       "      <td>...</td>\n",
       "      <td>...</td>\n",
       "      <td>...</td>\n",
       "      <td>...</td>\n",
       "      <td>...</td>\n",
       "    </tr>\n",
       "    <tr>\n",
       "      <th>10685</th>\n",
       "      <td>Phường 12</td>\n",
       "      <td>Quận Gò Vấp</td>\n",
       "      <td>TP. Hồ Chí Minh</td>\n",
       "      <td>Hồ Chí Minh</td>\n",
       "      <td>Gò Vấp</td>\n",
       "      <td>Phường 12</td>\n",
       "    </tr>\n",
       "    <tr>\n",
       "      <th>10686</th>\n",
       "      <td>Xã Linh Thông</td>\n",
       "      <td>Huyện Định Hóa</td>\n",
       "      <td>Thái Nguyên</td>\n",
       "      <td>Thái Nguyên</td>\n",
       "      <td>Định Hóa</td>\n",
       "      <td>Linh Thông</td>\n",
       "    </tr>\n",
       "    <tr>\n",
       "      <th>10687</th>\n",
       "      <td>Xã Bằng Luân</td>\n",
       "      <td>Huyện Đoan Hùng</td>\n",
       "      <td>Phú Thọ</td>\n",
       "      <td>Phú Thọ</td>\n",
       "      <td>Đoan Hùng</td>\n",
       "      <td>Bằng Luân</td>\n",
       "    </tr>\n",
       "    <tr>\n",
       "      <th>10688</th>\n",
       "      <td>Xã Cẩm Yên</td>\n",
       "      <td>Huyện Thạch Thất</td>\n",
       "      <td>Hà Nội</td>\n",
       "      <td>Hà Nội</td>\n",
       "      <td>Thạch Thất</td>\n",
       "      <td>Cẩm Yên</td>\n",
       "    </tr>\n",
       "    <tr>\n",
       "      <th>10689</th>\n",
       "      <td>Xã Quỳnh Tam</td>\n",
       "      <td>Huyện Quỳnh Lưu</td>\n",
       "      <td>Nghệ An</td>\n",
       "      <td>Nghệ An</td>\n",
       "      <td>Quỳnh Lưu</td>\n",
       "      <td>Quỳnh Tam</td>\n",
       "    </tr>\n",
       "  </tbody>\n",
       "</table>\n",
       "<p>10690 rows × 6 columns</p>\n",
       "</div>"
      ]
     },
     "execution_count": 4,
     "metadata": {},
     "output_type": "execute_result"
    }
   ],
   "execution_count": 4
  },
  {
   "metadata": {
    "ExecuteTime": {
     "end_time": "2025-08-04T16:03:55.872027Z",
     "start_time": "2025-08-04T16:03:55.433667Z"
    }
   },
   "cell_type": "code",
   "source": "standardized_df.to_excel('tmp/shopee_admin_units.xlsx', index=False)",
   "id": "9a0ab049d0794df2",
   "outputs": [],
   "execution_count": 5
  },
  {
   "metadata": {},
   "cell_type": "code",
   "source": "df = pd.DataFrame(get_data(table='admin_units_legacy'))",
   "id": "55dd47ad1b468742",
   "outputs": [],
   "execution_count": null
  },
  {
   "metadata": {},
   "cell_type": "code",
   "source": "df[(df['provinceKey'].str.contains('hanam')) & (df['districtKey'].str.contains('phuly'))][['province', 'district', 'districtShort', 'provinceKey', 'districtKey', 'ward', 'wardKey', 'wardKeywords']].drop_duplicates()",
   "id": "c0bd28e1ee7a4939",
   "outputs": [],
   "execution_count": null
  },
  {
   "metadata": {},
   "cell_type": "code",
   "source": "df[df['wardKey'].fillna('').str.contains('chang')]",
   "id": "41d22f5a7e4b3cb6",
   "outputs": [],
   "execution_count": null
  },
  {
   "metadata": {},
   "cell_type": "code",
   "source": "",
   "id": "52bf019c0ad08c87",
   "outputs": [],
   "execution_count": null
  }
 ],
 "metadata": {
  "kernelspec": {
   "display_name": "Python [conda env:base] *",
   "language": "python",
   "name": "conda-base-py"
  },
  "language_info": {
   "codemirror_mode": {
    "name": "ipython",
    "version": 2
   },
   "file_extension": ".py",
   "mimetype": "text/x-python",
   "name": "python",
   "nbconvert_exporter": "python",
   "pygments_lexer": "ipython2",
   "version": "2.7.6"
  }
 },
 "nbformat": 4,
 "nbformat_minor": 5
}
