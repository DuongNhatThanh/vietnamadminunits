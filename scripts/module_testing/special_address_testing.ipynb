{
 "cells": [
  {
   "cell_type": "code",
   "id": "initial_id",
   "metadata": {
    "collapsed": true,
    "ExecuteTime": {
     "end_time": "2025-08-04T07:59:00.201943Z",
     "start_time": "2025-08-04T07:58:59.489796Z"
    }
   },
   "source": [
    "from vietnamadminunits import parse_address, convert_address\n",
    "from vietnamadminunits.database import get_data\n",
    "import pandas as pd"
   ],
   "outputs": [],
   "execution_count": 1
  },
  {
   "metadata": {
    "ExecuteTime": {
     "end_time": "2025-08-04T07:59:00.412540Z",
     "start_time": "2025-08-04T07:59:00.219223Z"
    }
   },
   "cell_type": "code",
   "source": "df_63 = pd.DataFrame(get_data(table='admin_units_legacy'))",
   "id": "458e14498266a878",
   "outputs": [],
   "execution_count": 2
  },
  {
   "metadata": {
    "ExecuteTime": {
     "end_time": "2025-08-04T07:59:01.942503Z",
     "start_time": "2025-08-04T07:59:01.934782Z"
    }
   },
   "cell_type": "code",
   "source": [
    "address = 'Văn phòng bán hàng, Dự Án Vinhomes Royal Island Đảo Vũ Yên, Xã Thủy Triều, Huyện Thủy Nguyên, Hải Phòng'\n",
    "\n",
    "print(parse_address(address, mode='LEGACY'))"
   ],
   "id": "382f5aa76ebd7189",
   "outputs": [
    {
     "name": "stdout",
     "output_type": "stream",
     "text": [
      "Admin Unit: Văn Phòng Bán Hàng, Phường Thủy Hà, Thành phố Thủy Nguyên, Thành phố Hải Phòng\n",
      "Attribute       | Value                    \n",
      "----------------------------------------\n",
      "province        | Thành phố Hải Phòng      \n",
      "district        | Thành phố Thủy Nguyên    \n",
      "ward            | Phường Thủy Hà           \n",
      "street          | Văn Phòng Bán Hàng       \n",
      "short_province  | Hải Phòng                \n",
      "short_district  | Thủy Nguyên              \n",
      "short_ward      | Thủy Hà                  \n",
      "district_type   | Thành phố                \n",
      "ward_type       | Phường                   \n",
      "latitude        | 20.914459                \n",
      "longitude       | 106.714618               \n"
     ]
    }
   ],
   "execution_count": 3
  },
  {
   "metadata": {},
   "cell_type": "code",
   "source": "parse_address('Văn Phòng Bán Hàng, Thành phố Thủy Nguyên, Thành phố Hải Phòng')",
   "id": "ed8ccc3d24a6dada",
   "outputs": [],
   "execution_count": null
  },
  {
   "metadata": {},
   "cell_type": "code",
   "source": "convert_address('Văn Phòng Bán Hàng, Thành phố Thủy Nguyên, Thành phố Hải Phòng')",
   "id": "f427746ffaad4391",
   "outputs": [],
   "execution_count": null
  },
  {
   "metadata": {},
   "cell_type": "code",
   "source": "df_63[(df_63['provinceKey'].str.contains('haiphong')) & (df_63['districtKey'].str.contains('kienan'))][['province', 'district', 'districtShort', 'provinceKey', 'districtKey', 'ward', 'wardKey', 'wardKeywords']].drop_duplicates()",
   "id": "6392e262bc5c96e5",
   "outputs": [],
   "execution_count": null
  },
  {
   "metadata": {},
   "cell_type": "code",
   "source": "",
   "id": "2a2cb6b184047d28",
   "outputs": [],
   "execution_count": null
  }
 ],
 "metadata": {
  "kernelspec": {
   "display_name": "Python [conda env:base] *",
   "language": "python",
   "name": "conda-base-py"
  },
  "language_info": {
   "codemirror_mode": {
    "name": "ipython",
    "version": 2
   },
   "file_extension": ".py",
   "mimetype": "text/x-python",
   "name": "python",
   "nbconvert_exporter": "python",
   "pygments_lexer": "ipython2",
   "version": "2.7.6"
  }
 },
 "nbformat": 4,
 "nbformat_minor": 5
}
