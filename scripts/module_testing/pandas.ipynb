{
 "cells": [
  {
   "cell_type": "code",
   "id": "initial_id",
   "metadata": {
    "collapsed": true
   },
   "source": [
    "from vietnamadminunits.database import get_data\n",
    "from vietnamadminunits.pandas import standardize_admin_unit_columns\n",
    "import pandas as pd"
   ],
   "outputs": [],
   "execution_count": null
  },
  {
   "metadata": {},
   "cell_type": "code",
   "source": [
    "df = pd.DataFrame(get_data(fields=['province', 'ward']))\n",
    "df = standardize_admin_unit_columns(df=df, province='province', ward='ward', inplace=False, short_name=False)\n",
    "df"
   ],
   "id": "33720b30cc605da8",
   "outputs": [],
   "execution_count": null
  },
  {
   "metadata": {},
   "cell_type": "code",
   "source": [
    "df_2 = pd.DataFrame(get_data(fields=['province', 'district', 'ward'], table='admin_units_63'))\n",
    "df_2 = standardize_admin_unit_columns(df=df_2, province='province', district='district', ward='ward', mode=63, inplace=False, short_name=False)\n",
    "df_2"
   ],
   "id": "e033e07538d06741",
   "outputs": [],
   "execution_count": null
  },
  {
   "metadata": {},
   "cell_type": "code",
   "source": [
    "df_2 = pd.DataFrame(get_data(fields=['province', 'provinceShort', 'district', 'districtShort', 'ward', 'wardShort'], table='admin_units_63'))\n",
    "df_2 = standardize_admin_unit_columns(df=df_2, province='provinceShort', district='districtShort', ward='wardShort', mode=63, inplace=False, short_name=False)\n",
    "df_2"
   ],
   "id": "32d36f535eccaf9e",
   "outputs": [],
   "execution_count": null
  },
  {
   "metadata": {},
   "cell_type": "code",
   "source": [
    "df_3 = pd.DataFrame(get_data(fields=['province', 'district', 'ward'], table='admin_units_63')).head()\n",
    "df_3"
   ],
   "id": "caa11c1f57e4557d",
   "outputs": [],
   "execution_count": null
  },
  {
   "metadata": {},
   "cell_type": "code",
   "source": "standardize_admin_unit_columns(df=df_3, province='province', mode=34, inplace=False, short_name=False, convert_to_latest=True)",
   "id": "bce83b39afbe786a",
   "outputs": [],
   "execution_count": null
  },
  {
   "metadata": {},
   "cell_type": "code",
   "source": [
    "import re\n",
    "\n",
    "DICT_PROVINCE = {\n",
    "    'thanhphohochiminh': {'provinceKeywords': ['thanhphohochiminh', 'hochiminh', 'hcm']},\n",
    "    'hanoi': {'provinceKeywords': ['hanoi', 'hn']},\n",
    "}\n",
    "\n",
    "# Step 1: Create keywords list, sorted by length desc\n",
    "province_keywords = sorted(sum([DICT_PROVINCE[k]['provinceKeywords'] for k in DICT_PROVINCE], []), key=len, reverse=True)\n",
    "\n",
    "# Step 2: Create regex pattern\n",
    "PATTERN_PROVINCE = re.compile('|'.join(province_keywords), flags=re.IGNORECASE)\n",
    "\n",
    "# Step 3: Find keyword in address\n",
    "address_key = 'quan5,hcm'\n",
    "\n",
    "province_keyword = next((m.group() for m in reversed(list(PATTERN_PROVINCE.finditer(address_key)))), None)\n",
    "\n",
    "# Step 4: Translate keyword to key\n",
    "province_key = next((k for k, v in DICT_PROVINCE.items() if province_keyword and province_keyword in [kw for kw in v['provinceKeywords']]), None)\n",
    "\n",
    "print(province_key) # thanhphohochiminh"
   ],
   "id": "bf75b98f1bc5d8ee",
   "outputs": [],
   "execution_count": null
  },
  {
   "metadata": {},
   "cell_type": "code",
   "source": [
    "from vietnamadminunits import parse_address\n",
    "\n",
    "address = '70 Nguyễn Sỹ Sách, Tan Son, tp.HCM'\n",
    "\n",
    "admin_unit = parse_address(address=address, mode=34, keep_street=True, level=2)\n",
    "\n",
    "print(admin_unit)"
   ],
   "id": "2cdc7282f4d357",
   "outputs": [],
   "execution_count": null
  },
  {
   "metadata": {},
   "cell_type": "code",
   "source": "print(admin_unit.get_address())",
   "id": "de87f3c920920e94",
   "outputs": [],
   "execution_count": null
  },
  {
   "metadata": {},
   "cell_type": "code",
   "source": "print(admin_unit.province)",
   "id": "b8b644b6022c200a",
   "outputs": [],
   "execution_count": null
  },
  {
   "metadata": {},
   "cell_type": "code",
   "source": "from vietnamadminunits import convert_address",
   "id": "731cd6a6652343df",
   "outputs": [],
   "execution_count": null
  },
  {
   "metadata": {},
   "cell_type": "code",
   "source": [
    "address = '70 nguyễn sỹ sách, p.15, Tân Bình, Tp.HCM' # Old admin unit address structure\n",
    "\n",
    "admin_unit = convert_address(address)\n",
    "\n",
    "print(admin_unit)"
   ],
   "id": "760f07a7e9a76f7",
   "outputs": [],
   "execution_count": null
  },
  {
   "metadata": {
    "ExecuteTime": {
     "end_time": "2025-08-02T04:57:35.601325Z",
     "start_time": "2025-08-02T04:57:35.598455Z"
    }
   },
   "cell_type": "code",
   "source": [
    "from vietnamadminunits.database import get_data, query\n",
    "from vietnamadminunits.pandas import standardize_admin_unit_columns\n",
    "import pandas as pd"
   ],
   "id": "1198364ed59c7e13",
   "outputs": [],
   "execution_count": 30
  },
  {
   "metadata": {
    "ExecuteTime": {
     "end_time": "2025-08-02T05:24:41.855938Z",
     "start_time": "2025-08-02T05:24:41.853820Z"
    }
   },
   "cell_type": "code",
   "source": [
    "data = get_data(fields=['province', 'ward'], limit=5)\n",
    "print(data)"
   ],
   "id": "7363bd55599dc892",
   "outputs": [
    {
     "name": "stdout",
     "output_type": "stream",
     "text": [
      "[{'province': 'Thủ đô Hà Nội', 'ward': 'Phường Hồng Hà'}, {'province': 'Thủ đô Hà Nội', 'ward': 'Phường Ba Đình'}, {'province': 'Thủ đô Hà Nội', 'ward': 'Phường Ngọc Hà'}, {'province': 'Thủ đô Hà Nội', 'ward': 'Phường Giảng Võ'}, {'province': 'Thủ đô Hà Nội', 'ward': 'Phường Hoàn Kiếm'}]\n"
     ]
    }
   ],
   "execution_count": 38
  },
  {
   "metadata": {
    "ExecuteTime": {
     "end_time": "2025-08-02T05:33:48.611093Z",
     "start_time": "2025-08-02T05:33:48.607770Z"
    }
   },
   "cell_type": "code",
   "source": [
    "same_date = query(\"SELECT province, ward FROM admin_units LIMIT 5\")\n",
    "print(same_date)"
   ],
   "id": "fb9a60cb38fc0c45",
   "outputs": [
    {
     "name": "stdout",
     "output_type": "stream",
     "text": [
      "[{'province': 'Thủ đô Hà Nội', 'ward': 'Phường Hồng Hà'}, {'province': 'Thủ đô Hà Nội', 'ward': 'Phường Ba Đình'}, {'province': 'Thủ đô Hà Nội', 'ward': 'Phường Ngọc Hà'}, {'province': 'Thủ đô Hà Nội', 'ward': 'Phường Giảng Võ'}, {'province': 'Thủ đô Hà Nội', 'ward': 'Phường Hoàn Kiếm'}]\n"
     ]
    }
   ],
   "execution_count": 40
  },
  {
   "metadata": {
    "ExecuteTime": {
     "end_time": "2025-08-02T05:19:03.024008Z",
     "start_time": "2025-08-02T05:19:03.020347Z"
    }
   },
   "cell_type": "code",
   "source": "df.to_dict(\"records\")",
   "id": "77f6bfd41a8fbc91",
   "outputs": [
    {
     "data": {
      "text/plain": [
       "[{'province': 'Thủ đô Hà Nội', 'ward': 'Phường Hồng Hà'},\n",
       " {'province': 'Thủ đô Hà Nội', 'ward': 'Phường Ba Đình'},\n",
       " {'province': 'Thủ đô Hà Nội', 'ward': 'Phường Ngọc Hà'},\n",
       " {'province': 'Thủ đô Hà Nội', 'ward': 'Phường Giảng Võ'},\n",
       " {'province': 'Thủ đô Hà Nội', 'ward': 'Phường Hoàn Kiếm'}]"
      ]
     },
     "execution_count": 35,
     "metadata": {},
     "output_type": "execute_result"
    }
   ],
   "execution_count": 35
  },
  {
   "metadata": {
    "ExecuteTime": {
     "end_time": "2025-08-02T04:45:22.539348Z",
     "start_time": "2025-08-02T04:45:22.536404Z"
    }
   },
   "cell_type": "code",
   "source": [
    "data = [\n",
    "    {'province': 'Thủ đô Hà Nội', 'ward': 'Phường Hồng Hà'},\n",
    "    {'province': 'Thủ đô Hà Nội', 'ward': 'Phường Ba Đình'},\n",
    "    {'province': 'Thủ đô Hà Nội', 'ward': 'Phường Ngọc Hà'},\n",
    "    {'province': 'Thủ đô Hà Nội', 'ward': 'Phường Giảng Võ'},\n",
    "    {'province': 'Thủ đô Hà Nội', 'ward': 'Phường Hoàn Kiếm'},\n",
    "]"
   ],
   "id": "bc860b05895757f9",
   "outputs": [],
   "execution_count": 9
  },
  {
   "metadata": {
    "ExecuteTime": {
     "end_time": "2025-08-02T04:45:24.618569Z",
     "start_time": "2025-08-02T04:45:24.616959Z"
    }
   },
   "cell_type": "code",
   "source": "df = pd.DataFrame(data)",
   "id": "680bd8b0a1afdaec",
   "outputs": [],
   "execution_count": 10
  },
  {
   "metadata": {
    "ExecuteTime": {
     "end_time": "2025-08-02T04:47:13.988032Z",
     "start_time": "2025-08-02T04:47:13.986166Z"
    }
   },
   "cell_type": "code",
   "source": "print(df.to_markdown(index=False))",
   "id": "c20705531fdddb91",
   "outputs": [
    {
     "name": "stdout",
     "output_type": "stream",
     "text": [
      "| province      | ward             |\n",
      "|:--------------|:-----------------|\n",
      "| Thủ đô Hà Nội | Phường Hồng Hà   |\n",
      "| Thủ đô Hà Nội | Phường Ba Đình   |\n",
      "| Thủ đô Hà Nội | Phường Ngọc Hà   |\n",
      "| Thủ đô Hà Nội | Phường Giảng Võ  |\n",
      "| Thủ đô Hà Nội | Phường Hoàn Kiếm |\n"
     ]
    }
   ],
   "execution_count": 17
  },
  {
   "metadata": {
    "ExecuteTime": {
     "end_time": "2025-08-02T04:46:08.065075Z",
     "start_time": "2025-08-02T04:46:08.053761Z"
    }
   },
   "cell_type": "code",
   "source": "standardized_df = standardize_admin_unit_columns(df=df, province='province', ward='ward', inplace=False, short_name=True)",
   "id": "191bd2910f9d4b95",
   "outputs": [],
   "execution_count": 14
  },
  {
   "metadata": {
    "ExecuteTime": {
     "end_time": "2025-08-02T04:48:49.062614Z",
     "start_time": "2025-08-02T04:48:49.059953Z"
    }
   },
   "cell_type": "code",
   "source": "print(standardized_df.to_markdown(index=False))",
   "id": "82d7d0f593fd6e58",
   "outputs": [
    {
     "name": "stdout",
     "output_type": "stream",
     "text": [
      "| province      | ward             | standardized_province   | standardized_ward   |\n",
      "|:--------------|:-----------------|:------------------------|:--------------------|\n",
      "| Thủ đô Hà Nội | Phường Hồng Hà   | Hà Nội                  | Hồng Hà             |\n",
      "| Thủ đô Hà Nội | Phường Ba Đình   | Hà Nội                  | Ba Đình             |\n",
      "| Thủ đô Hà Nội | Phường Ngọc Hà   | Hà Nội                  | Ngọc Hà             |\n",
      "| Thủ đô Hà Nội | Phường Giảng Võ  | Hà Nội                  | Giảng Võ            |\n",
      "| Thủ đô Hà Nội | Phường Hoàn Kiếm | Hà Nội                  | Hoàn Kiếm           |\n"
     ]
    }
   ],
   "execution_count": 18
  },
  {
   "metadata": {
    "ExecuteTime": {
     "end_time": "2025-08-02T04:58:28.581214Z",
     "start_time": "2025-08-02T04:58:28.563429Z"
    }
   },
   "cell_type": "code",
   "source": "query('''SELECT province, district, ward FROM admin_units_63 WHERE province = 'Thành phố Hồ Chí Minh' LIMIT 5 ''')",
   "id": "87f27b09a555cb99",
   "outputs": [
    {
     "data": {
      "text/plain": [
       "[{'province': 'Thành phố Hồ Chí Minh',\n",
       "  'district': 'Quận 1',\n",
       "  'ward': 'Phường Tân Định'},\n",
       " {'province': 'Thành phố Hồ Chí Minh',\n",
       "  'district': 'Quận 1',\n",
       "  'ward': 'Phường Đa Kao'},\n",
       " {'province': 'Thành phố Hồ Chí Minh',\n",
       "  'district': 'Quận 1',\n",
       "  'ward': 'Phường Bến Nghé'},\n",
       " {'province': 'Thành phố Hồ Chí Minh',\n",
       "  'district': 'Quận 1',\n",
       "  'ward': 'Phường Bến Thành'},\n",
       " {'province': 'Thành phố Hồ Chí Minh',\n",
       "  'district': 'Quận 1',\n",
       "  'ward': 'Phường Nguyễn Thái Bình'}]"
      ]
     },
     "execution_count": 31,
     "metadata": {},
     "output_type": "execute_result"
    }
   ],
   "execution_count": 31
  },
  {
   "metadata": {
    "ExecuteTime": {
     "end_time": "2025-08-02T04:54:11.536464Z",
     "start_time": "2025-08-02T04:54:11.534525Z"
    }
   },
   "cell_type": "code",
   "source": "df = pd.DataFrame(get_data(fields=['province', 'district', 'ward'], table='admin_units_63', limit=5))",
   "id": "ceb614e3c27c3409",
   "outputs": [],
   "execution_count": 21
  },
  {
   "metadata": {
    "ExecuteTime": {
     "end_time": "2025-08-02T04:54:23.286337Z",
     "start_time": "2025-08-02T04:54:23.283934Z"
    }
   },
   "cell_type": "code",
   "source": "df.to_dict('records')",
   "id": "f6296868e7851583",
   "outputs": [
    {
     "data": {
      "text/plain": [
       "[{'province': 'Thành phố Hà Nội',\n",
       "  'district': 'Quận Ba Đình',\n",
       "  'ward': 'Phường Phúc Xá'},\n",
       " {'province': 'Thành phố Hà Nội',\n",
       "  'district': 'Quận Ba Đình',\n",
       "  'ward': 'Phường Trúc Bạch'},\n",
       " {'province': 'Thành phố Hà Nội',\n",
       "  'district': 'Quận Ba Đình',\n",
       "  'ward': 'Phường Vĩnh Phúc'},\n",
       " {'province': 'Thành phố Hà Nội',\n",
       "  'district': 'Quận Ba Đình',\n",
       "  'ward': 'Phường Cống Vị'},\n",
       " {'province': 'Thành phố Hà Nội',\n",
       "  'district': 'Quận Ba Đình',\n",
       "  'ward': 'Phường Liễu Giai'}]"
      ]
     },
     "execution_count": 23,
     "metadata": {},
     "output_type": "execute_result"
    }
   ],
   "execution_count": 23
  },
  {
   "metadata": {
    "ExecuteTime": {
     "end_time": "2025-08-02T04:59:24.773729Z",
     "start_time": "2025-08-02T04:59:24.770085Z"
    }
   },
   "cell_type": "code",
   "source": [
    "data = [\n",
    "{'province': 'Thành phố Hồ Chí Minh', 'district': 'Quận 1', 'ward': 'Phường Tân Định'},\n",
    "{'province': 'Thành phố Hồ Chí Minh', 'district': 'Quận 1', 'ward': 'Phường Đa Kao'},\n",
    "{'province': 'Thành phố Hồ Chí Minh', 'district': 'Quận 1', 'ward': 'Phường Bến Nghé'},\n",
    "{'province': 'Thành phố Hồ Chí Minh', 'district': 'Quận 1', 'ward': 'Phường Bến Thành'},\n",
    "{'province': 'Thành phố Hồ Chí Minh', 'district': 'Quận 1', 'ward': 'Phường Nguyễn Thái Bình'}\n",
    "]\n",
    "\n",
    "df = pd.DataFrame(data)\n",
    "\n",
    "print(df.to_markdown(index=False))"
   ],
   "id": "1f30fdf901d5f0ed",
   "outputs": [
    {
     "name": "stdout",
     "output_type": "stream",
     "text": [
      "| province              | district   | ward                    |\n",
      "|:----------------------|:-----------|:------------------------|\n",
      "| Thành phố Hồ Chí Minh | Quận 1     | Phường Tân Định         |\n",
      "| Thành phố Hồ Chí Minh | Quận 1     | Phường Đa Kao           |\n",
      "| Thành phố Hồ Chí Minh | Quận 1     | Phường Bến Nghé         |\n",
      "| Thành phố Hồ Chí Minh | Quận 1     | Phường Bến Thành        |\n",
      "| Thành phố Hồ Chí Minh | Quận 1     | Phường Nguyễn Thái Bình |\n"
     ]
    }
   ],
   "execution_count": 32
  },
  {
   "metadata": {
    "ExecuteTime": {
     "end_time": "2025-08-02T04:59:26.291766Z",
     "start_time": "2025-08-02T04:59:26.277831Z"
    }
   },
   "cell_type": "code",
   "source": [
    "standardized_df = standardize_admin_unit_columns(df=df, province='province', district='district', ward='ward', mode=63, inplace=True, short_name=True, convert_to_latest=True)\n",
    "print(standardized_df.to_markdown(index=False))"
   ],
   "id": "4278b7fc77ee9279",
   "outputs": [
    {
     "name": "stdout",
     "output_type": "stream",
     "text": [
      "| province    | ward      |\n",
      "|:------------|:----------|\n",
      "| Hồ Chí Minh | Tân Định  |\n",
      "| Hồ Chí Minh | Sài Gòn   |\n",
      "| Hồ Chí Minh | Sài Gòn   |\n",
      "| Hồ Chí Minh | Bến Thành |\n",
      "| Hồ Chí Minh | Bến Thành |\n"
     ]
    }
   ],
   "execution_count": 33
  },
  {
   "metadata": {},
   "cell_type": "code",
   "outputs": [],
   "execution_count": null,
   "source": "",
   "id": "f9e0834c0040aabc"
  }
 ],
 "metadata": {
  "kernelspec": {
   "display_name": "Python [conda env:base] *",
   "language": "python",
   "name": "conda-base-py"
  },
  "language_info": {
   "codemirror_mode": {
    "name": "ipython",
    "version": 2
   },
   "file_extension": ".py",
   "mimetype": "text/x-python",
   "name": "python",
   "nbconvert_exporter": "python",
   "pygments_lexer": "ipython2",
   "version": "2.7.6"
  }
 },
 "nbformat": 4,
 "nbformat_minor": 5
}
