{
 "cells": [
  {
   "cell_type": "code",
   "id": "initial_id",
   "metadata": {
    "collapsed": true
   },
   "source": [
    "from vietnamadminunits.database import get_data\n",
    "from vietnamadminunits.pandas import standardize_admin_unit_columns\n",
    "import pandas as pd"
   ],
   "outputs": [],
   "execution_count": null
  },
  {
   "metadata": {},
   "cell_type": "code",
   "source": [
    "df = pd.DataFrame(get_data(fields=['province', 'ward']))\n",
    "df = standardize_admin_unit_columns(df=df, province='province', ward='ward', inplace=False, short_name=False)\n",
    "df"
   ],
   "id": "33720b30cc605da8",
   "outputs": [],
   "execution_count": null
  },
  {
   "metadata": {},
   "cell_type": "code",
   "source": [
    "df_2 = pd.DataFrame(get_data(fields=['province', 'district', 'ward'], table='admin_units_63'))\n",
    "df_2 = standardize_admin_unit_columns(df=df_2, province='province', district='district', ward='ward', mode=63, inplace=False, short_name=False)\n",
    "df_2"
   ],
   "id": "e033e07538d06741",
   "outputs": [],
   "execution_count": null
  },
  {
   "metadata": {},
   "cell_type": "code",
   "source": [
    "df_2 = pd.DataFrame(get_data(fields=['province', 'provinceShort', 'district', 'districtShort', 'ward', 'wardShort'], table='admin_units_63'))\n",
    "df_2 = standardize_admin_unit_columns(df=df_2, province='provinceShort', district='districtShort', ward='wardShort', mode=63, inplace=False, short_name=False)\n",
    "df_2"
   ],
   "id": "32d36f535eccaf9e",
   "outputs": [],
   "execution_count": null
  },
  {
   "metadata": {},
   "cell_type": "code",
   "source": [
    "df_3 = pd.DataFrame(get_data(fields=['province', 'district', 'ward'], table='admin_units_63')).head()\n",
    "df_3"
   ],
   "id": "caa11c1f57e4557d",
   "outputs": [],
   "execution_count": null
  },
  {
   "metadata": {},
   "cell_type": "code",
   "source": "standardize_admin_unit_columns(df=df_3, province='province', mode=34, inplace=False, short_name=False, convert_to_latest=True)",
   "id": "bce83b39afbe786a",
   "outputs": [],
   "execution_count": null
  },
  {
   "metadata": {},
   "cell_type": "code",
   "source": [
    "import re\n",
    "\n",
    "DICT_PROVINCE = {\n",
    "    'thanhphohochiminh': {'provinceKeywords': ['thanhphohochiminh', 'hochiminh', 'hcm']},\n",
    "    'hanoi': {'provinceKeywords': ['hanoi', 'hn']},\n",
    "}\n",
    "\n",
    "# Step 1: Create keywords list, sorted by length desc\n",
    "province_keywords = sorted(sum([DICT_PROVINCE[k]['provinceKeywords'] for k in DICT_PROVINCE], []), key=len, reverse=True)\n",
    "\n",
    "# Step 2: Create regex pattern\n",
    "PATTERN_PROVINCE = re.compile('|'.join(province_keywords), flags=re.IGNORECASE)\n",
    "\n",
    "# Step 3: Find keyword in address\n",
    "address_key = 'quan5,hcm'\n",
    "\n",
    "province_keyword = next((m.group() for m in reversed(list(PATTERN_PROVINCE.finditer(address_key)))), None)\n",
    "\n",
    "# Step 4: Translate keyword to key\n",
    "province_key = next((k for k, v in DICT_PROVINCE.items() if province_keyword and province_keyword in [kw for kw in v['provinceKeywords']]), None)\n",
    "\n",
    "print(province_key) # thanhphohochiminh"
   ],
   "id": "bf75b98f1bc5d8ee",
   "outputs": [],
   "execution_count": null
  },
  {
   "metadata": {},
   "cell_type": "code",
   "source": [
    "from vietnamadminunits import parse_address\n",
    "\n",
    "address = '70 Nguyễn Sỹ Sách, Tan Son, tp.HCM'\n",
    "\n",
    "admin_unit = parse_address(address=address, mode=34, keep_street=True, level=2)\n",
    "\n",
    "print(admin_unit)"
   ],
   "id": "2cdc7282f4d357",
   "outputs": [],
   "execution_count": null
  },
  {
   "metadata": {},
   "cell_type": "code",
   "source": "print(admin_unit.get_address())",
   "id": "de87f3c920920e94",
   "outputs": [],
   "execution_count": null
  },
  {
   "metadata": {},
   "cell_type": "code",
   "source": "print(admin_unit.province)",
   "id": "b8b644b6022c200a",
   "outputs": [],
   "execution_count": null
  },
  {
   "metadata": {},
   "cell_type": "code",
   "source": "from vietnamadminunits import convert_address",
   "id": "731cd6a6652343df",
   "outputs": [],
   "execution_count": null
  },
  {
   "metadata": {},
   "cell_type": "code",
   "source": [
    "address = '70 nguyễn sỹ sách, p.15, Tân Bình, Tp.HCM' # Old admin unit address structure\n",
    "\n",
    "admin_unit = convert_address(address)\n",
    "\n",
    "print(admin_unit)"
   ],
   "id": "760f07a7e9a76f7",
   "outputs": [],
   "execution_count": null
  },
  {
   "metadata": {
    "ExecuteTime": {
     "end_time": "2025-08-02T04:57:35.601325Z",
     "start_time": "2025-08-02T04:57:35.598455Z"
    }
   },
   "cell_type": "code",
   "source": [
    "from vietnamadminunits.database import get_data, query\n",
    "from vietnamadminunits.pandas import standardize_admin_unit_columns\n",
    "import pandas as pd"
   ],
   "id": "1198364ed59c7e13",
   "outputs": [],
   "execution_count": 30
  },
  {
   "metadata": {
    "ExecuteTime": {
     "end_time": "2025-08-02T05:24:41.855938Z",
     "start_time": "2025-08-02T05:24:41.853820Z"
    }
   },
   "cell_type": "code",
   "source": [
    "data = get_data(fields=['province', 'ward'], limit=5)\n",
    "print(data)"
   ],
   "id": "7363bd55599dc892",
   "outputs": [
    {
     "name": "stdout",
     "output_type": "stream",
     "text": [
      "[{'province': 'Thủ đô Hà Nội', 'ward': 'Phường Hồng Hà'}, {'province': 'Thủ đô Hà Nội', 'ward': 'Phường Ba Đình'}, {'province': 'Thủ đô Hà Nội', 'ward': 'Phường Ngọc Hà'}, {'province': 'Thủ đô Hà Nội', 'ward': 'Phường Giảng Võ'}, {'province': 'Thủ đô Hà Nội', 'ward': 'Phường Hoàn Kiếm'}]\n"
     ]
    }
   ],
   "execution_count": 38
  },
  {
   "metadata": {
    "ExecuteTime": {
     "end_time": "2025-08-02T05:33:48.611093Z",
     "start_time": "2025-08-02T05:33:48.607770Z"
    }
   },
   "cell_type": "code",
   "source": [
    "same_date = query(\"SELECT province, ward FROM admin_units LIMIT 5\")\n",
    "print(same_date)"
   ],
   "id": "fb9a60cb38fc0c45",
   "outputs": [
    {
     "name": "stdout",
     "output_type": "stream",
     "text": [
      "[{'province': 'Thủ đô Hà Nội', 'ward': 'Phường Hồng Hà'}, {'province': 'Thủ đô Hà Nội', 'ward': 'Phường Ba Đình'}, {'province': 'Thủ đô Hà Nội', 'ward': 'Phường Ngọc Hà'}, {'province': 'Thủ đô Hà Nội', 'ward': 'Phường Giảng Võ'}, {'province': 'Thủ đô Hà Nội', 'ward': 'Phường Hoàn Kiếm'}]\n"
     ]
    }
   ],
   "execution_count": 40
  },
  {
   "metadata": {
    "ExecuteTime": {
     "end_time": "2025-08-02T05:19:03.024008Z",
     "start_time": "2025-08-02T05:19:03.020347Z"
    }
   },
   "cell_type": "code",
   "source": "df.to_dict(\"records\")",
   "id": "77f6bfd41a8fbc91",
   "outputs": [
    {
     "data": {
      "text/plain": [
       "[{'province': 'Thủ đô Hà Nội', 'ward': 'Phường Hồng Hà'},\n",
       " {'province': 'Thủ đô Hà Nội', 'ward': 'Phường Ba Đình'},\n",
       " {'province': 'Thủ đô Hà Nội', 'ward': 'Phường Ngọc Hà'},\n",
       " {'province': 'Thủ đô Hà Nội', 'ward': 'Phường Giảng Võ'},\n",
       " {'province': 'Thủ đô Hà Nội', 'ward': 'Phường Hoàn Kiếm'}]"
      ]
     },
     "execution_count": 35,
     "metadata": {},
     "output_type": "execute_result"
    }
   ],
   "execution_count": 35
  },
  {
   "metadata": {
    "ExecuteTime": {
     "end_time": "2025-08-02T04:45:22.539348Z",
     "start_time": "2025-08-02T04:45:22.536404Z"
    }
   },
   "cell_type": "code",
   "source": [
    "data = [\n",
    "    {'province': 'Thủ đô Hà Nội', 'ward': 'Phường Hồng Hà'},\n",
    "    {'province': 'Thủ đô Hà Nội', 'ward': 'Phường Ba Đình'},\n",
    "    {'province': 'Thủ đô Hà Nội', 'ward': 'Phường Ngọc Hà'},\n",
    "    {'province': 'Thủ đô Hà Nội', 'ward': 'Phường Giảng Võ'},\n",
    "    {'province': 'Thủ đô Hà Nội', 'ward': 'Phường Hoàn Kiếm'},\n",
    "]"
   ],
   "id": "bc860b05895757f9",
   "outputs": [],
   "execution_count": 9
  },
  {
   "metadata": {
    "ExecuteTime": {
     "end_time": "2025-08-02T04:45:24.618569Z",
     "start_time": "2025-08-02T04:45:24.616959Z"
    }
   },
   "cell_type": "code",
   "source": "df = pd.DataFrame(data)",
   "id": "680bd8b0a1afdaec",
   "outputs": [],
   "execution_count": 10
  },
  {
   "metadata": {
    "ExecuteTime": {
     "end_time": "2025-08-02T04:47:13.988032Z",
     "start_time": "2025-08-02T04:47:13.986166Z"
    }
   },
   "cell_type": "code",
   "source": "print(df.to_markdown(index=False))",
   "id": "c20705531fdddb91",
   "outputs": [
    {
     "name": "stdout",
     "output_type": "stream",
     "text": [
      "| province      | ward             |\n",
      "|:--------------|:-----------------|\n",
      "| Thủ đô Hà Nội | Phường Hồng Hà   |\n",
      "| Thủ đô Hà Nội | Phường Ba Đình   |\n",
      "| Thủ đô Hà Nội | Phường Ngọc Hà   |\n",
      "| Thủ đô Hà Nội | Phường Giảng Võ  |\n",
      "| Thủ đô Hà Nội | Phường Hoàn Kiếm |\n"
     ]
    }
   ],
   "execution_count": 17
  },
  {
   "metadata": {
    "ExecuteTime": {
     "end_time": "2025-08-02T04:46:08.065075Z",
     "start_time": "2025-08-02T04:46:08.053761Z"
    }
   },
   "cell_type": "code",
   "source": "standardized_df = standardize_admin_unit_columns(df=df, province='province', ward='ward', inplace=False, short_name=True)",
   "id": "191bd2910f9d4b95",
   "outputs": [],
   "execution_count": 14
  },
  {
   "metadata": {
    "ExecuteTime": {
     "end_time": "2025-08-02T04:48:49.062614Z",
     "start_time": "2025-08-02T04:48:49.059953Z"
    }
   },
   "cell_type": "code",
   "source": "print(standardized_df.to_markdown(index=False))",
   "id": "82d7d0f593fd6e58",
   "outputs": [
    {
     "name": "stdout",
     "output_type": "stream",
     "text": [
      "| province      | ward             | standardized_province   | standardized_ward   |\n",
      "|:--------------|:-----------------|:------------------------|:--------------------|\n",
      "| Thủ đô Hà Nội | Phường Hồng Hà   | Hà Nội                  | Hồng Hà             |\n",
      "| Thủ đô Hà Nội | Phường Ba Đình   | Hà Nội                  | Ba Đình             |\n",
      "| Thủ đô Hà Nội | Phường Ngọc Hà   | Hà Nội                  | Ngọc Hà             |\n",
      "| Thủ đô Hà Nội | Phường Giảng Võ  | Hà Nội                  | Giảng Võ            |\n",
      "| Thủ đô Hà Nội | Phường Hoàn Kiếm | Hà Nội                  | Hoàn Kiếm           |\n"
     ]
    }
   ],
   "execution_count": 18
  },
  {
   "metadata": {
    "ExecuteTime": {
     "end_time": "2025-08-02T04:58:28.581214Z",
     "start_time": "2025-08-02T04:58:28.563429Z"
    }
   },
   "cell_type": "code",
   "source": "query('''SELECT province, district, ward FROM admin_units_63 WHERE province = 'Thành phố Hồ Chí Minh' LIMIT 5 ''')",
   "id": "87f27b09a555cb99",
   "outputs": [
    {
     "data": {
      "text/plain": [
       "[{'province': 'Thành phố Hồ Chí Minh',\n",
       "  'district': 'Quận 1',\n",
       "  'ward': 'Phường Tân Định'},\n",
       " {'province': 'Thành phố Hồ Chí Minh',\n",
       "  'district': 'Quận 1',\n",
       "  'ward': 'Phường Đa Kao'},\n",
       " {'province': 'Thành phố Hồ Chí Minh',\n",
       "  'district': 'Quận 1',\n",
       "  'ward': 'Phường Bến Nghé'},\n",
       " {'province': 'Thành phố Hồ Chí Minh',\n",
       "  'district': 'Quận 1',\n",
       "  'ward': 'Phường Bến Thành'},\n",
       " {'province': 'Thành phố Hồ Chí Minh',\n",
       "  'district': 'Quận 1',\n",
       "  'ward': 'Phường Nguyễn Thái Bình'}]"
      ]
     },
     "execution_count": 31,
     "metadata": {},
     "output_type": "execute_result"
    }
   ],
   "execution_count": 31
  },
  {
   "metadata": {
    "ExecuteTime": {
     "end_time": "2025-08-02T04:54:11.536464Z",
     "start_time": "2025-08-02T04:54:11.534525Z"
    }
   },
   "cell_type": "code",
   "source": "df = pd.DataFrame(get_data(fields=['province', 'district', 'ward'], table='admin_units_63', limit=5))",
   "id": "ceb614e3c27c3409",
   "outputs": [],
   "execution_count": 21
  },
  {
   "metadata": {
    "ExecuteTime": {
     "end_time": "2025-08-02T04:54:23.286337Z",
     "start_time": "2025-08-02T04:54:23.283934Z"
    }
   },
   "cell_type": "code",
   "source": "df.to_dict('records')",
   "id": "f6296868e7851583",
   "outputs": [
    {
     "data": {
      "text/plain": [
       "[{'province': 'Thành phố Hà Nội',\n",
       "  'district': 'Quận Ba Đình',\n",
       "  'ward': 'Phường Phúc Xá'},\n",
       " {'province': 'Thành phố Hà Nội',\n",
       "  'district': 'Quận Ba Đình',\n",
       "  'ward': 'Phường Trúc Bạch'},\n",
       " {'province': 'Thành phố Hà Nội',\n",
       "  'district': 'Quận Ba Đình',\n",
       "  'ward': 'Phường Vĩnh Phúc'},\n",
       " {'province': 'Thành phố Hà Nội',\n",
       "  'district': 'Quận Ba Đình',\n",
       "  'ward': 'Phường Cống Vị'},\n",
       " {'province': 'Thành phố Hà Nội',\n",
       "  'district': 'Quận Ba Đình',\n",
       "  'ward': 'Phường Liễu Giai'}]"
      ]
     },
     "execution_count": 23,
     "metadata": {},
     "output_type": "execute_result"
    }
   ],
   "execution_count": 23
  },
  {
   "metadata": {
    "ExecuteTime": {
     "end_time": "2025-08-02T04:59:24.773729Z",
     "start_time": "2025-08-02T04:59:24.770085Z"
    }
   },
   "cell_type": "code",
   "source": [
    "data = [\n",
    "{'province': 'Thành phố Hồ Chí Minh', 'district': 'Quận 1', 'ward': 'Phường Tân Định'},\n",
    "{'province': 'Thành phố Hồ Chí Minh', 'district': 'Quận 1', 'ward': 'Phường Đa Kao'},\n",
    "{'province': 'Thành phố Hồ Chí Minh', 'district': 'Quận 1', 'ward': 'Phường Bến Nghé'},\n",
    "{'province': 'Thành phố Hồ Chí Minh', 'district': 'Quận 1', 'ward': 'Phường Bến Thành'},\n",
    "{'province': 'Thành phố Hồ Chí Minh', 'district': 'Quận 1', 'ward': 'Phường Nguyễn Thái Bình'}\n",
    "]\n",
    "\n",
    "df = pd.DataFrame(data)\n",
    "\n",
    "print(df.to_markdown(index=False))"
   ],
   "id": "1f30fdf901d5f0ed",
   "outputs": [
    {
     "name": "stdout",
     "output_type": "stream",
     "text": [
      "| province              | district   | ward                    |\n",
      "|:----------------------|:-----------|:------------------------|\n",
      "| Thành phố Hồ Chí Minh | Quận 1     | Phường Tân Định         |\n",
      "| Thành phố Hồ Chí Minh | Quận 1     | Phường Đa Kao           |\n",
      "| Thành phố Hồ Chí Minh | Quận 1     | Phường Bến Nghé         |\n",
      "| Thành phố Hồ Chí Minh | Quận 1     | Phường Bến Thành        |\n",
      "| Thành phố Hồ Chí Minh | Quận 1     | Phường Nguyễn Thái Bình |\n"
     ]
    }
   ],
   "execution_count": 32
  },
  {
   "metadata": {
    "ExecuteTime": {
     "end_time": "2025-08-02T04:59:26.291766Z",
     "start_time": "2025-08-02T04:59:26.277831Z"
    }
   },
   "cell_type": "code",
   "source": [
    "standardized_df = standardize_admin_unit_columns(df=df, province='province', district='district', ward='ward', mode=63, inplace=True, short_name=True, convert_to_latest=True)\n",
    "print(standardized_df.to_markdown(index=False))"
   ],
   "id": "4278b7fc77ee9279",
   "outputs": [
    {
     "name": "stdout",
     "output_type": "stream",
     "text": [
      "| province    | ward      |\n",
      "|:------------|:----------|\n",
      "| Hồ Chí Minh | Tân Định  |\n",
      "| Hồ Chí Minh | Sài Gòn   |\n",
      "| Hồ Chí Minh | Sài Gòn   |\n",
      "| Hồ Chí Minh | Bến Thành |\n",
      "| Hồ Chí Minh | Bến Thành |\n"
     ]
    }
   ],
   "execution_count": 33
  },
  {
   "metadata": {
    "ExecuteTime": {
     "end_time": "2025-08-02T07:43:52.092296Z",
     "start_time": "2025-08-02T07:43:52.090720Z"
    }
   },
   "cell_type": "code",
   "source": "from vietnamadminunits.parser.parser_34 import PATTERN_PROVINCE, DICT_PROVINCE",
   "id": "f9e0834c0040aabc",
   "outputs": [],
   "execution_count": 42
  },
  {
   "metadata": {
    "ExecuteTime": {
     "end_time": "2025-08-02T07:44:13.731420Z",
     "start_time": "2025-08-02T07:44:13.729554Z"
    }
   },
   "cell_type": "code",
   "source": "from pprint import pprint",
   "id": "44d849dcdaa21e72",
   "outputs": [],
   "execution_count": 44
  },
  {
   "metadata": {
    "ExecuteTime": {
     "end_time": "2025-08-02T07:43:53.495576Z",
     "start_time": "2025-08-02T07:43:53.491866Z"
    }
   },
   "cell_type": "code",
   "source": "DICT_PROVINCE",
   "id": "8126e1a1a30d9d92",
   "outputs": [
    {
     "data": {
      "text/plain": [
       "{'thudohanoi': {'provinceKeywords': ['thudohanoi', 'hanoi', 'hn'],\n",
       "  'province': 'Thủ đô Hà Nội',\n",
       "  'provinceShort': 'Hà Nội',\n",
       "  'provinceLat': 21.0001,\n",
       "  'provinceLon': 105.698},\n",
       " 'tinhtuyenquang': {'provinceKeywords': ['tinhtuyenquang', 'tuyenquang'],\n",
       "  'province': 'Tỉnh Tuyên Quang',\n",
       "  'provinceShort': 'Tuyên Quang',\n",
       "  'provinceLat': 22.4897,\n",
       "  'provinceLon': 105.099},\n",
       " 'tinhcaobang': {'provinceKeywords': ['tinhcaobang', 'caobang'],\n",
       "  'province': 'Tỉnh Cao Bằng',\n",
       "  'provinceShort': 'Cao Bằng',\n",
       "  'provinceLat': 22.7456,\n",
       "  'provinceLon': 106.083},\n",
       " 'tinhthainguyen': {'provinceKeywords': ['tinhthainguyen', 'thainguyen'],\n",
       "  'province': 'Tỉnh Thái Nguyên',\n",
       "  'provinceShort': 'Thái Nguyên',\n",
       "  'provinceLat': 22.0239,\n",
       "  'provinceLon': 105.824},\n",
       " 'tinhlaocai': {'provinceKeywords': ['tinhlaocai', 'laocai'],\n",
       "  'province': 'Tỉnh Lào Cai',\n",
       "  'provinceShort': 'Lào Cai',\n",
       "  'provinceLat': 22.0605,\n",
       "  'provinceLon': 104.347},\n",
       " 'tinhdienbien': {'provinceKeywords': ['tinhdienbien', 'dienbien'],\n",
       "  'province': 'Tỉnh Điện Biên',\n",
       "  'provinceShort': 'Điện Biên',\n",
       "  'provinceLat': 21.4766,\n",
       "  'provinceLon': 103.232},\n",
       " 'tinhlaichau': {'provinceKeywords': ['tinhlaichau', 'laichau'],\n",
       "  'province': 'Tỉnh Lai Châu',\n",
       "  'provinceShort': 'Lai Châu',\n",
       "  'provinceLat': 22.3181,\n",
       "  'provinceLon': 103.185},\n",
       " 'tinhsonla': {'provinceKeywords': ['tinhsonla', 'sonla'],\n",
       "  'province': 'Tỉnh Sơn La',\n",
       "  'provinceShort': 'Sơn La',\n",
       "  'provinceLat': 21.1947,\n",
       "  'provinceLon': 104.069},\n",
       " 'tinhphutho': {'provinceKeywords': ['tinhphutho', 'phutho'],\n",
       "  'province': 'Tỉnh Phú Thọ',\n",
       "  'provinceShort': 'Phú Thọ',\n",
       "  'provinceLat': 20.7065,\n",
       "  'provinceLon': 105.333},\n",
       " 'tinhlangson': {'provinceKeywords': ['tinhlangson', 'langson'],\n",
       "  'province': 'Tỉnh Lạng Sơn',\n",
       "  'provinceShort': 'Lạng Sơn',\n",
       "  'provinceLat': 21.7736,\n",
       "  'provinceLon': 106.728},\n",
       " 'tinhquangninh': {'provinceKeywords': ['tinhquangninh', 'quangninh'],\n",
       "  'province': 'Tỉnh Quảng Ninh',\n",
       "  'provinceShort': 'Quảng Ninh',\n",
       "  'provinceLat': 21.2642,\n",
       "  'provinceLon': 107.223},\n",
       " 'tinhbacninh': {'provinceKeywords': ['tinhbacninh', 'bacninh'],\n",
       "  'province': 'Tỉnh Bắc Ninh',\n",
       "  'provinceShort': 'Bắc Ninh',\n",
       "  'provinceLat': 21.2428,\n",
       "  'provinceLon': 106.167},\n",
       " 'thanhphohaiphong': {'provinceKeywords': ['thanhphohaiphong', 'haiphong'],\n",
       "  'province': 'Thành phố Hải Phòng',\n",
       "  'provinceShort': 'Hải Phòng',\n",
       "  'provinceLat': 20.8759,\n",
       "  'provinceLon': 106.47},\n",
       " 'tinhhungyen': {'provinceKeywords': ['tinhhungyen', 'hungyen'],\n",
       "  'province': 'Tỉnh Hưng Yên',\n",
       "  'provinceShort': 'Hưng Yên',\n",
       "  'provinceLat': 20.4528,\n",
       "  'provinceLon': 106.463},\n",
       " 'tinhninhbinh': {'provinceKeywords': ['tinhninhbinh', 'ninhbinh'],\n",
       "  'province': 'Tỉnh Ninh Bình',\n",
       "  'provinceShort': 'Ninh Bình',\n",
       "  'provinceLat': 20.3122,\n",
       "  'provinceLon': 106.046},\n",
       " 'tinhthanhhoa': {'provinceKeywords': ['tinhthanhhoa', 'thanhhoa'],\n",
       "  'province': 'Tỉnh Thanh Hóa',\n",
       "  'provinceShort': 'Thanh Hóa',\n",
       "  'provinceLat': 20.0468,\n",
       "  'provinceLon': 105.317},\n",
       " 'tinhnghean': {'provinceKeywords': ['tinhnghean', 'nghean'],\n",
       "  'province': 'Tỉnh Nghệ An',\n",
       "  'provinceShort': 'Nghệ An',\n",
       "  'provinceLat': 19.2374,\n",
       "  'provinceLon': 104.944},\n",
       " 'tinhhatinh': {'provinceKeywords': ['tinhhatinh', 'hatinh'],\n",
       "  'province': 'Tỉnh Hà Tĩnh',\n",
       "  'provinceShort': 'Hà Tĩnh',\n",
       "  'provinceLat': 18.2912,\n",
       "  'provinceLon': 105.735},\n",
       " 'tinhquangtri': {'provinceKeywords': ['tinhquangtri', 'quangtri'],\n",
       "  'province': 'Tỉnh Quảng Trị',\n",
       "  'provinceShort': 'Quảng Trị',\n",
       "  'provinceLat': 17.2405,\n",
       "  'provinceLon': 106.527},\n",
       " 'thanhphohue': {'provinceKeywords': ['thanhphohue', 'hue'],\n",
       "  'province': 'Thành phố Huế',\n",
       "  'provinceShort': 'Huế',\n",
       "  'provinceLat': 16.3316,\n",
       "  'provinceLon': 107.517},\n",
       " 'thanhphodanang': {'provinceKeywords': ['thanhphodanang', 'danang'],\n",
       "  'province': 'Thành phố Đà Nẵng',\n",
       "  'provinceShort': 'Đà Nẵng',\n",
       "  'provinceLat': 15.631,\n",
       "  'provinceLon': 107.966},\n",
       " 'tinhquangngai': {'provinceKeywords': ['tinhquangngai', 'quangngai'],\n",
       "  'province': 'Tỉnh Quảng Ngãi',\n",
       "  'provinceShort': 'Quảng Ngãi',\n",
       "  'provinceLat': 14.7688,\n",
       "  'provinceLon': 108.143},\n",
       " 'tinhgialai': {'provinceKeywords': ['tinhgialai', 'gialai'],\n",
       "  'province': 'Tỉnh Gia Lai',\n",
       "  'provinceShort': 'Gia Lai',\n",
       "  'provinceLat': 13.8902,\n",
       "  'provinceLon': 108.438},\n",
       " 'tinhdaklak': {'provinceKeywords': ['tinhdaklak', 'daklak'],\n",
       "  'province': 'Tỉnh Đắk Lắk',\n",
       "  'provinceShort': 'Đắk Lắk',\n",
       "  'provinceLat': 12.7067,\n",
       "  'provinceLon': 108.47},\n",
       " 'tinhkhanhhoa': {'provinceKeywords': ['tinhkhanhhoa', 'khanhhoa'],\n",
       "  'province': 'Tỉnh Khánh Hòa',\n",
       "  'provinceShort': 'Khánh Hòa',\n",
       "  'provinceLat': 12.069,\n",
       "  'provinceLon': 108.961},\n",
       " 'tinhlamdong': {'provinceKeywords': ['tinhlamdong', 'lamdong'],\n",
       "  'province': 'Tỉnh Lâm Đồng',\n",
       "  'provinceShort': 'Lâm Đồng',\n",
       "  'provinceLat': 11.6739,\n",
       "  'provinceLon': 107.968},\n",
       " 'tinhdongnai': {'provinceKeywords': ['tinhdongnai', 'dongnai'],\n",
       "  'province': 'Tỉnh Đồng Nai',\n",
       "  'provinceShort': 'Đồng Nai',\n",
       "  'provinceLat': 11.4369,\n",
       "  'provinceLon': 107.034},\n",
       " 'tinhtayninh': {'provinceKeywords': ['tinhtayninh', 'tayninh'],\n",
       "  'province': 'Tỉnh Tây Ninh',\n",
       "  'provinceShort': 'Tây Ninh',\n",
       "  'provinceLat': 10.6941,\n",
       "  'provinceLon': 106.123},\n",
       " 'thanhphohochiminh': {'provinceKeywords': ['thanhphohochiminh',\n",
       "   'hochiminh',\n",
       "   'hcm'],\n",
       "  'province': 'Thành phố Hồ Chí Minh',\n",
       "  'provinceShort': 'Hồ Chí Minh',\n",
       "  'provinceLat': 10.9926,\n",
       "  'provinceLon': 106.638},\n",
       " 'tinhdongthap': {'provinceKeywords': ['tinhdongthap', 'dongthap'],\n",
       "  'province': 'Tỉnh Đồng Tháp',\n",
       "  'provinceShort': 'Đồng Tháp',\n",
       "  'provinceLat': 10.4293,\n",
       "  'provinceLon': 105.999},\n",
       " 'tinhvinhlong': {'provinceKeywords': ['tinhvinhlong', 'vinhlong'],\n",
       "  'province': 'Tỉnh Vĩnh Long',\n",
       "  'provinceShort': 'Vĩnh Long',\n",
       "  'provinceLat': 9.99545,\n",
       "  'provinceLon': 106.292},\n",
       " 'tinhangiang': {'provinceKeywords': ['tinhangiang', 'angiang'],\n",
       "  'province': 'Tỉnh An Giang',\n",
       "  'provinceShort': 'An Giang',\n",
       "  'provinceLat': 10.1791,\n",
       "  'provinceLon': 105.096},\n",
       " 'thanhphocantho': {'provinceKeywords': ['thanhphocantho', 'cantho'],\n",
       "  'province': 'Thành phố Cần Thơ',\n",
       "  'provinceShort': 'Cần Thơ',\n",
       "  'provinceLat': 9.74372,\n",
       "  'provinceLon': 105.757},\n",
       " 'tinhcamau': {'provinceKeywords': ['tinhcamau', 'camau'],\n",
       "  'province': 'Tỉnh Cà Mau',\n",
       "  'provinceShort': 'Cà Mau',\n",
       "  'provinceLat': 9.1362,\n",
       "  'provinceLon': 105.182}}"
      ]
     },
     "execution_count": 43,
     "metadata": {},
     "output_type": "execute_result"
    }
   ],
   "execution_count": 43
  },
  {
   "metadata": {
    "ExecuteTime": {
     "end_time": "2025-08-02T07:48:11.941977Z",
     "start_time": "2025-08-02T07:48:11.939997Z"
    }
   },
   "cell_type": "code",
   "source": "",
   "id": "d5afafc4d7001d1b",
   "outputs": [],
   "execution_count": 52
  },
  {
   "metadata": {
    "ExecuteTime": {
     "end_time": "2025-08-02T07:48:34.691623Z",
     "start_time": "2025-08-02T07:48:34.688342Z"
    }
   },
   "cell_type": "code",
   "source": "",
   "id": "157479fe81d0415",
   "outputs": [],
   "execution_count": 56
  },
  {
   "metadata": {
    "ExecuteTime": {
     "end_time": "2025-08-02T07:52:02.592470Z",
     "start_time": "2025-08-02T07:52:02.588919Z"
    }
   },
   "cell_type": "code",
   "source": [
    "import re\n",
    "\n",
    "# Step 1: Prepare dictionary for each level (province/district/ward)\n",
    "DICT_PROVINCE = {\n",
    "    'thudohanoi': { # Key\n",
    "        'provinceKeywords': ['thudohanoi', 'hanoi', 'hn'], # Keywords (include key and aliases)\n",
    "        'province': 'Thủ đô Hà Nội',\n",
    "        'provinceShort': 'Hà Nội',\n",
    "        'provinceLat': 21.0001,\n",
    "        'provinceLon': 105.698\n",
    "    },\n",
    "    'tinhtuyenquang': {\n",
    "        'provinceKeywords': ['tinhtuyenquang', 'tuyenquang'],\n",
    "        'province': 'Tỉnh Tuyên Quang',\n",
    "        'provinceShort': 'Tuyên Quang',\n",
    "        'provinceLat': 22.4897,\n",
    "        'provinceLon': 105.099\n",
    "    }\n",
    "}\n",
    "\n",
    "# Step 2: Create keywords list, sorted by length desc\n",
    "province_keywords = sorted(sum([DICT_PROVINCE[k]['provinceKeywords'] for k in DICT_PROVINCE], []), key=len, reverse=True)\n",
    "\n",
    "# Step 3: Create regex pattern\n",
    "PATTERN_PROVINCE = re.compile('|'.join(province_keywords), flags=re.IGNORECASE)\n",
    "\n",
    "# Step 4: Find keyword in address that has been key-normalized\n",
    "address_key = 'hoangkiem,hanoi'\n",
    "province_keyword = next((m.group() for m in reversed(list(PATTERN_PROVINCE.finditer(address_key)))), None)\n",
    "\n",
    "# Step 5: Translate keyword to key\n",
    "province_key = next((k for k, v in DICT_PROVINCE.items() if province_keyword and province_keyword in [kw for kw in v['provinceKeywords']]), None)\n",
    "\n",
    "print(province_key) # thudohanoi\n",
    "print(DICT_PROVINCE[province_key]['province']) # Thủ đô Hà Nội"
   ],
   "id": "78cbe24519507aa7",
   "outputs": [
    {
     "name": "stdout",
     "output_type": "stream",
     "text": [
      "thudohanoi\n",
      "Thủ đô Hà Nội\n"
     ]
    }
   ],
   "execution_count": 61
  },
  {
   "metadata": {},
   "cell_type": "code",
   "outputs": [],
   "execution_count": null,
   "source": "",
   "id": "c4a61ae6b6eb2b10"
  }
 ],
 "metadata": {
  "kernelspec": {
   "display_name": "Python [conda env:base] *",
   "language": "python",
   "name": "conda-base-py"
  },
  "language_info": {
   "codemirror_mode": {
    "name": "ipython",
    "version": 2
   },
   "file_extension": ".py",
   "mimetype": "text/x-python",
   "name": "python",
   "nbconvert_exporter": "python",
   "pygments_lexer": "ipython2",
   "version": "2.7.6"
  }
 },
 "nbformat": 4,
 "nbformat_minor": 5
}
