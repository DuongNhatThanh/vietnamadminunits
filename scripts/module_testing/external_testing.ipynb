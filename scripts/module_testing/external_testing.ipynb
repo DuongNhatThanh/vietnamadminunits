{
 "cells": [
  {
   "cell_type": "code",
   "id": "initial_id",
   "metadata": {
    "collapsed": true,
    "ExecuteTime": {
     "end_time": "2025-08-03T16:17:08.810753Z",
     "start_time": "2025-08-03T16:17:07.570711Z"
    }
   },
   "source": [
    "import pandas as pd\n",
    "\n",
    "from vietnamadminunits.pandas import standardize_admin_unit_columns\n",
    "from vietnamadminunits import parse_address, ParseMode, convert_address\n",
    "from vietnamadminunits.database import get_data\n",
    "\n",
    "from vietadminunits import parse_address as parse_address_legacy"
   ],
   "outputs": [],
   "execution_count": 1
  },
  {
   "metadata": {},
   "cell_type": "code",
   "source": "df = pd.read_csv('TT VN - Ops KPI & SLA - 506K SLA Clean.csv')",
   "id": "609e2037406d9fd9",
   "outputs": [],
   "execution_count": null
  },
  {
   "metadata": {},
   "cell_type": "code",
   "source": "df",
   "id": "a77f7b9d3ef1024",
   "outputs": [],
   "execution_count": null
  },
  {
   "metadata": {},
   "cell_type": "code",
   "source": "s_df = standardize_admin_unit_columns(df, province='to_province', district='to_district', parse_mode=ParseMode.LEGACY)",
   "id": "c4a785e9637e842a",
   "outputs": [],
   "execution_count": null
  },
  {
   "metadata": {},
   "cell_type": "code",
   "source": "s_df",
   "id": "446db08dcb9cadc0",
   "outputs": [],
   "execution_count": null
  },
  {
   "metadata": {},
   "cell_type": "code",
   "source": "s_df[s_df['standardized_to_district'].isna()][['to_province', 'to_district']].drop_duplicates()",
   "id": "dbf5b26d63edfbb3",
   "outputs": [],
   "execution_count": null
  },
  {
   "metadata": {},
   "cell_type": "code",
   "source": "address = 'hue, thue thien hue'",
   "id": "c1883cd3c31a5569",
   "outputs": [],
   "execution_count": null
  },
  {
   "metadata": {},
   "cell_type": "code",
   "source": "parse_address(address, mode='LEGACY')",
   "id": "8763a21dd30bb7e0",
   "outputs": [],
   "execution_count": null
  },
  {
   "metadata": {},
   "cell_type": "code",
   "source": "parse_address_legacy(address)",
   "id": "900c842341eb20ac",
   "outputs": [],
   "execution_count": null
  },
  {
   "metadata": {
    "ExecuteTime": {
     "end_time": "2025-08-03T16:20:33.575338Z",
     "start_time": "2025-08-03T16:20:33.380913Z"
    }
   },
   "cell_type": "code",
   "source": "df_63 = pd.DataFrame(get_data(table='admin_units_legacy'))",
   "id": "584efc6b6b6bc51b",
   "outputs": [],
   "execution_count": 10
  },
  {
   "metadata": {},
   "cell_type": "code",
   "source": "df_63[(df_63['provinceKey'].str.contains('hochiminh'))][['province', 'district', 'districtShort', 'provinceKey', 'districtKey', 'districtShortKey', 'districtKeywords']].drop_duplicates()",
   "id": "c2d93143a683c7de",
   "outputs": [],
   "execution_count": null
  },
  {
   "metadata": {
    "ExecuteTime": {
     "end_time": "2025-08-03T16:39:02.099624Z",
     "start_time": "2025-08-03T16:39:02.088921Z"
    }
   },
   "cell_type": "code",
   "source": "df_63[(df_63['provinceKey'].str.contains('hochiminh')) & (df_63['districtKey'].str.contains('phunhuan'))][['province', 'district', 'districtShort', 'provinceKey', 'districtKey', 'ward', 'wardKey', 'wardKeywords']].drop_duplicates()",
   "id": "9e12d5d8f0e6ddb8",
   "outputs": [
    {
     "data": {
      "text/plain": [
       "                   province        district districtShort        provinceKey  \\\n",
       "8271  Thành phố Hồ Chí Minh  Quận Phú Nhuận     Phú Nhuận  thanhphohochiminh   \n",
       "8272  Thành phố Hồ Chí Minh  Quận Phú Nhuận     Phú Nhuận  thanhphohochiminh   \n",
       "8273  Thành phố Hồ Chí Minh  Quận Phú Nhuận     Phú Nhuận  thanhphohochiminh   \n",
       "8274  Thành phố Hồ Chí Minh  Quận Phú Nhuận     Phú Nhuận  thanhphohochiminh   \n",
       "8275  Thành phố Hồ Chí Minh  Quận Phú Nhuận     Phú Nhuận  thanhphohochiminh   \n",
       "8276  Thành phố Hồ Chí Minh  Quận Phú Nhuận     Phú Nhuận  thanhphohochiminh   \n",
       "8277  Thành phố Hồ Chí Minh  Quận Phú Nhuận     Phú Nhuận  thanhphohochiminh   \n",
       "8278  Thành phố Hồ Chí Minh  Quận Phú Nhuận     Phú Nhuận  thanhphohochiminh   \n",
       "8279  Thành phố Hồ Chí Minh  Quận Phú Nhuận     Phú Nhuận  thanhphohochiminh   \n",
       "8280  Thành phố Hồ Chí Minh  Quận Phú Nhuận     Phú Nhuận  thanhphohochiminh   \n",
       "8281  Thành phố Hồ Chí Minh  Quận Phú Nhuận     Phú Nhuận  thanhphohochiminh   \n",
       "\n",
       "       districtKey       ward   wardKey  \\\n",
       "8271  quanphunhuan   Phường 4   phuong4   \n",
       "8272  quanphunhuan   Phường 5   phuong5   \n",
       "8273  quanphunhuan   Phường 9   phuong9   \n",
       "8274  quanphunhuan   Phường 7   phuong7   \n",
       "8275  quanphunhuan   Phường 1   phuong1   \n",
       "8276  quanphunhuan   Phường 2   phuong2   \n",
       "8277  quanphunhuan   Phường 8   phuong8   \n",
       "8278  quanphunhuan  Phường 10  phuong10   \n",
       "8279  quanphunhuan  Phường 11  phuong11   \n",
       "8280  quanphunhuan  Phường 15  phuong15   \n",
       "8281  quanphunhuan  Phường 13  phuong13   \n",
       "\n",
       "                                           wardKeywords  \n",
       "8271  [\"phuong04\", \"phuong4\", \"ward04\", \"ward4\", \"f0...  \n",
       "8272  [\"phuong05\", \"phuong5\", \"ward05\", \"ward5\", \"p0...  \n",
       "8273  [\"phuong09\", \"phuong9\", \"ward09\", \"ward9\", \"p0...  \n",
       "8274  [\"phuong07\", \"phuong7\", \"ward07\", \"ward7\", \"f0...  \n",
       "8275  [\"phuong01\", \"phuong1\", \"ward01\", \"ward1\", \"p0...  \n",
       "8276  [\"phuong02\", \"phuong2\", \"ward02\", \"ward2\", \"f0...  \n",
       "8277  [\"phuong08\", \"phuong8\", \"ward08\", \"ward8\", \"p0...  \n",
       "8278               [\"phuong10\", \"ward10\", \"f10\", \"p10\"]  \n",
       "8279               [\"phuong11\", \"ward11\", \"f11\", \"p11\"]  \n",
       "8280               [\"phuong15\", \"ward15\", \"f15\", \"p15\"]  \n",
       "8281               [\"phuong13\", \"ward13\", \"f13\", \"p13\"]  "
      ],
      "text/html": [
       "<div>\n",
       "<style scoped>\n",
       "    .dataframe tbody tr th:only-of-type {\n",
       "        vertical-align: middle;\n",
       "    }\n",
       "\n",
       "    .dataframe tbody tr th {\n",
       "        vertical-align: top;\n",
       "    }\n",
       "\n",
       "    .dataframe thead th {\n",
       "        text-align: right;\n",
       "    }\n",
       "</style>\n",
       "<table border=\"1\" class=\"dataframe\">\n",
       "  <thead>\n",
       "    <tr style=\"text-align: right;\">\n",
       "      <th></th>\n",
       "      <th>province</th>\n",
       "      <th>district</th>\n",
       "      <th>districtShort</th>\n",
       "      <th>provinceKey</th>\n",
       "      <th>districtKey</th>\n",
       "      <th>ward</th>\n",
       "      <th>wardKey</th>\n",
       "      <th>wardKeywords</th>\n",
       "    </tr>\n",
       "  </thead>\n",
       "  <tbody>\n",
       "    <tr>\n",
       "      <th>8271</th>\n",
       "      <td>Thành phố Hồ Chí Minh</td>\n",
       "      <td>Quận Phú Nhuận</td>\n",
       "      <td>Phú Nhuận</td>\n",
       "      <td>thanhphohochiminh</td>\n",
       "      <td>quanphunhuan</td>\n",
       "      <td>Phường 4</td>\n",
       "      <td>phuong4</td>\n",
       "      <td>[\"phuong04\", \"phuong4\", \"ward04\", \"ward4\", \"f0...</td>\n",
       "    </tr>\n",
       "    <tr>\n",
       "      <th>8272</th>\n",
       "      <td>Thành phố Hồ Chí Minh</td>\n",
       "      <td>Quận Phú Nhuận</td>\n",
       "      <td>Phú Nhuận</td>\n",
       "      <td>thanhphohochiminh</td>\n",
       "      <td>quanphunhuan</td>\n",
       "      <td>Phường 5</td>\n",
       "      <td>phuong5</td>\n",
       "      <td>[\"phuong05\", \"phuong5\", \"ward05\", \"ward5\", \"p0...</td>\n",
       "    </tr>\n",
       "    <tr>\n",
       "      <th>8273</th>\n",
       "      <td>Thành phố Hồ Chí Minh</td>\n",
       "      <td>Quận Phú Nhuận</td>\n",
       "      <td>Phú Nhuận</td>\n",
       "      <td>thanhphohochiminh</td>\n",
       "      <td>quanphunhuan</td>\n",
       "      <td>Phường 9</td>\n",
       "      <td>phuong9</td>\n",
       "      <td>[\"phuong09\", \"phuong9\", \"ward09\", \"ward9\", \"p0...</td>\n",
       "    </tr>\n",
       "    <tr>\n",
       "      <th>8274</th>\n",
       "      <td>Thành phố Hồ Chí Minh</td>\n",
       "      <td>Quận Phú Nhuận</td>\n",
       "      <td>Phú Nhuận</td>\n",
       "      <td>thanhphohochiminh</td>\n",
       "      <td>quanphunhuan</td>\n",
       "      <td>Phường 7</td>\n",
       "      <td>phuong7</td>\n",
       "      <td>[\"phuong07\", \"phuong7\", \"ward07\", \"ward7\", \"f0...</td>\n",
       "    </tr>\n",
       "    <tr>\n",
       "      <th>8275</th>\n",
       "      <td>Thành phố Hồ Chí Minh</td>\n",
       "      <td>Quận Phú Nhuận</td>\n",
       "      <td>Phú Nhuận</td>\n",
       "      <td>thanhphohochiminh</td>\n",
       "      <td>quanphunhuan</td>\n",
       "      <td>Phường 1</td>\n",
       "      <td>phuong1</td>\n",
       "      <td>[\"phuong01\", \"phuong1\", \"ward01\", \"ward1\", \"p0...</td>\n",
       "    </tr>\n",
       "    <tr>\n",
       "      <th>8276</th>\n",
       "      <td>Thành phố Hồ Chí Minh</td>\n",
       "      <td>Quận Phú Nhuận</td>\n",
       "      <td>Phú Nhuận</td>\n",
       "      <td>thanhphohochiminh</td>\n",
       "      <td>quanphunhuan</td>\n",
       "      <td>Phường 2</td>\n",
       "      <td>phuong2</td>\n",
       "      <td>[\"phuong02\", \"phuong2\", \"ward02\", \"ward2\", \"f0...</td>\n",
       "    </tr>\n",
       "    <tr>\n",
       "      <th>8277</th>\n",
       "      <td>Thành phố Hồ Chí Minh</td>\n",
       "      <td>Quận Phú Nhuận</td>\n",
       "      <td>Phú Nhuận</td>\n",
       "      <td>thanhphohochiminh</td>\n",
       "      <td>quanphunhuan</td>\n",
       "      <td>Phường 8</td>\n",
       "      <td>phuong8</td>\n",
       "      <td>[\"phuong08\", \"phuong8\", \"ward08\", \"ward8\", \"p0...</td>\n",
       "    </tr>\n",
       "    <tr>\n",
       "      <th>8278</th>\n",
       "      <td>Thành phố Hồ Chí Minh</td>\n",
       "      <td>Quận Phú Nhuận</td>\n",
       "      <td>Phú Nhuận</td>\n",
       "      <td>thanhphohochiminh</td>\n",
       "      <td>quanphunhuan</td>\n",
       "      <td>Phường 10</td>\n",
       "      <td>phuong10</td>\n",
       "      <td>[\"phuong10\", \"ward10\", \"f10\", \"p10\"]</td>\n",
       "    </tr>\n",
       "    <tr>\n",
       "      <th>8279</th>\n",
       "      <td>Thành phố Hồ Chí Minh</td>\n",
       "      <td>Quận Phú Nhuận</td>\n",
       "      <td>Phú Nhuận</td>\n",
       "      <td>thanhphohochiminh</td>\n",
       "      <td>quanphunhuan</td>\n",
       "      <td>Phường 11</td>\n",
       "      <td>phuong11</td>\n",
       "      <td>[\"phuong11\", \"ward11\", \"f11\", \"p11\"]</td>\n",
       "    </tr>\n",
       "    <tr>\n",
       "      <th>8280</th>\n",
       "      <td>Thành phố Hồ Chí Minh</td>\n",
       "      <td>Quận Phú Nhuận</td>\n",
       "      <td>Phú Nhuận</td>\n",
       "      <td>thanhphohochiminh</td>\n",
       "      <td>quanphunhuan</td>\n",
       "      <td>Phường 15</td>\n",
       "      <td>phuong15</td>\n",
       "      <td>[\"phuong15\", \"ward15\", \"f15\", \"p15\"]</td>\n",
       "    </tr>\n",
       "    <tr>\n",
       "      <th>8281</th>\n",
       "      <td>Thành phố Hồ Chí Minh</td>\n",
       "      <td>Quận Phú Nhuận</td>\n",
       "      <td>Phú Nhuận</td>\n",
       "      <td>thanhphohochiminh</td>\n",
       "      <td>quanphunhuan</td>\n",
       "      <td>Phường 13</td>\n",
       "      <td>phuong13</td>\n",
       "      <td>[\"phuong13\", \"ward13\", \"f13\", \"p13\"]</td>\n",
       "    </tr>\n",
       "  </tbody>\n",
       "</table>\n",
       "</div>"
      ]
     },
     "execution_count": 16,
     "metadata": {},
     "output_type": "execute_result"
    }
   ],
   "execution_count": 16
  },
  {
   "metadata": {
    "ExecuteTime": {
     "end_time": "2025-08-03T16:46:43.249042Z",
     "start_time": "2025-08-03T16:46:43.247149Z"
    }
   },
   "cell_type": "code",
   "source": "address = 'số 2 đường 13, An Lợi Đông, Phường Thủ Thiêm, Quận 02 ,Thành Phố Hồ Chí Minh'",
   "id": "574abd970be5acbd",
   "outputs": [],
   "execution_count": 72
  },
  {
   "metadata": {
    "ExecuteTime": {
     "end_time": "2025-08-03T16:46:43.494090Z",
     "start_time": "2025-08-03T16:46:43.491111Z"
    }
   },
   "cell_type": "code",
   "source": "parse_address(address, mode='LEGACY', level=3)",
   "id": "504c3c7a3e845b87",
   "outputs": [
    {
     "data": {
      "text/plain": [
       "Admin Unit: Số 2 Đường 13, Phường Thủ Thiêm, Thành phố Thủ Đức, Thành phố Hồ Chí Minh\n",
       "Attribute       | Value                    \n",
       "----------------------------------------\n",
       "province        | Thành phố Hồ Chí Minh    \n",
       "district        | Thành phố Thủ Đức        \n",
       "ward            | Phường Thủ Thiêm         \n",
       "street          | Số 2 Đường 13            \n",
       "short_province  | Hồ Chí Minh              \n",
       "short_district  | Thủ Đức                  \n",
       "short_ward      | Thủ Thiêm                \n",
       "district_type   | Thành phố                \n",
       "ward_type       | Phường                   \n",
       "latitude        | 10.778831                \n",
       "longitude       | 106.71505                "
      ]
     },
     "execution_count": 73,
     "metadata": {},
     "output_type": "execute_result"
    }
   ],
   "execution_count": 73
  },
  {
   "metadata": {
    "ExecuteTime": {
     "end_time": "2025-08-03T16:45:04.843332Z",
     "start_time": "2025-08-03T16:45:04.535028Z"
    }
   },
   "cell_type": "code",
   "source": "convert_address(address)",
   "id": "3c0fcbc2eb85f988",
   "outputs": [
    {
     "data": {
      "text/plain": [
       "Admin Unit: 272 - 274 Lý Thường Kiệt, Phường Diên Hồng, Thành phố Hồ Chí Minh\n",
       "Attribute       | Value                    \n",
       "----------------------------------------\n",
       "province        | Thành phố Hồ Chí Minh    \n",
       "ward            | Phường Diên Hồng         \n",
       "street          | 272 - 274 Lý Thường Kiệt \n",
       "short_province  | Hồ Chí Minh              \n",
       "short_ward      | Diên Hồng                \n",
       "ward_type       | Phường                   \n",
       "latitude        | 10.7691                  \n",
       "longitude       | 106.662                  "
      ]
     },
     "execution_count": 71,
     "metadata": {},
     "output_type": "execute_result"
    }
   ],
   "execution_count": 71
  },
  {
   "metadata": {
    "ExecuteTime": {
     "end_time": "2025-08-03T16:44:28.201473Z",
     "start_time": "2025-08-03T16:44:28.196814Z"
    }
   },
   "cell_type": "code",
   "source": "parse_address_legacy(address)",
   "id": "ede48ea452ebdacf",
   "outputs": [
    {
     "data": {
      "text/plain": [
       "AdministrativeUnit:\n",
       "Attribute                 | Value                    \n",
       "----------------------------------------------------\n",
       "province                  | Hồ Chí Minh              \n",
       "district                  | Quận 8                   \n",
       "ward                      | Phường 5                 \n",
       "----------------------------------------------------\n",
       "long_province             | Thành phố Hồ Chí Minh    \n",
       "long_district             | Quận 8                   \n",
       "long_ward                 | Phường 5                 \n",
       "----------------------------------------------------\n",
       "short_district            | Quận 8                   \n",
       "short_ward                | Phường 5                 \n",
       "----------------------------------------------------\n",
       "province_english          | Ho Chi Minh              \n",
       "district_english          | District 8               \n",
       "ward_english              | Ward 5                   \n",
       "----------------------------------------------------\n",
       "long_province_english     | Ho Chi Minh City         \n",
       "long_district_english     | District 8               \n",
       "long_ward_english         | Ward 5                   \n",
       "----------------------------------------------------\n",
       "short_district_english    | District 8               \n",
       "short_ward_english        | Ward 5                   \n",
       "----------------------------------------------------\n",
       "district_level            | Quận                     \n",
       "ward_level                | Phường                   \n",
       "----------------------------------------------------\n",
       "district_level_english    | District                 \n",
       "ward_level_english        | Ward                     "
      ]
     },
     "execution_count": 65,
     "metadata": {},
     "output_type": "execute_result"
    }
   ],
   "execution_count": 65
  },
  {
   "metadata": {},
   "cell_type": "code",
   "source": "",
   "id": "e2a95e5baec559d8",
   "outputs": [],
   "execution_count": null
  }
 ],
 "metadata": {
  "kernelspec": {
   "display_name": "Python [conda env:base] *",
   "language": "python",
   "name": "conda-base-py"
  },
  "language_info": {
   "codemirror_mode": {
    "name": "ipython",
    "version": 2
   },
   "file_extension": ".py",
   "mimetype": "text/x-python",
   "name": "python",
   "nbconvert_exporter": "python",
   "pygments_lexer": "ipython2",
   "version": "2.7.6"
  }
 },
 "nbformat": 4,
 "nbformat_minor": 5
}
