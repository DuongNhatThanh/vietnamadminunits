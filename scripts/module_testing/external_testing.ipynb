{
 "cells": [
  {
   "cell_type": "code",
   "id": "initial_id",
   "metadata": {
    "collapsed": true,
    "ExecuteTime": {
     "end_time": "2025-08-03T18:17:17.512647Z",
     "start_time": "2025-08-03T18:17:16.270266Z"
    }
   },
   "source": [
    "import pandas as pd\n",
    "\n",
    "from vietnamadminunits.pandas import standardize_admin_unit_columns\n",
    "from vietnamadminunits import parse_address, ParseMode, convert_address\n",
    "from vietnamadminunits.database import get_data\n",
    "\n",
    "from vietadminunits import parse_address as parse_address_legacy"
   ],
   "outputs": [],
   "execution_count": 2
  },
  {
   "metadata": {},
   "cell_type": "code",
   "source": "df = pd.read_csv('TT VN - Ops KPI & SLA - 506K SLA Clean.csv')",
   "id": "609e2037406d9fd9",
   "outputs": [],
   "execution_count": null
  },
  {
   "metadata": {},
   "cell_type": "code",
   "source": "df",
   "id": "a77f7b9d3ef1024",
   "outputs": [],
   "execution_count": null
  },
  {
   "metadata": {},
   "cell_type": "code",
   "source": "s_df = standardize_admin_unit_columns(df, province='to_province', district='to_district', parse_mode=ParseMode.LEGACY)",
   "id": "c4a785e9637e842a",
   "outputs": [],
   "execution_count": null
  },
  {
   "metadata": {},
   "cell_type": "code",
   "source": "s_df",
   "id": "446db08dcb9cadc0",
   "outputs": [],
   "execution_count": null
  },
  {
   "metadata": {},
   "cell_type": "code",
   "source": "s_df[s_df['standardized_to_district'].isna()][['to_province', 'to_district']].drop_duplicates()",
   "id": "dbf5b26d63edfbb3",
   "outputs": [],
   "execution_count": null
  },
  {
   "metadata": {},
   "cell_type": "code",
   "source": "address = 'hue, thue thien hue'",
   "id": "c1883cd3c31a5569",
   "outputs": [],
   "execution_count": null
  },
  {
   "metadata": {},
   "cell_type": "code",
   "source": "parse_address(address, mode='LEGACY')",
   "id": "8763a21dd30bb7e0",
   "outputs": [],
   "execution_count": null
  },
  {
   "metadata": {},
   "cell_type": "code",
   "source": "parse_address_legacy(address)",
   "id": "900c842341eb20ac",
   "outputs": [],
   "execution_count": null
  },
  {
   "metadata": {
    "ExecuteTime": {
     "end_time": "2025-08-03T18:17:19.365379Z",
     "start_time": "2025-08-03T18:17:19.174187Z"
    }
   },
   "cell_type": "code",
   "source": "df_63 = pd.DataFrame(get_data(table='admin_units_legacy'))",
   "id": "584efc6b6b6bc51b",
   "outputs": [],
   "execution_count": 3
  },
  {
   "metadata": {},
   "cell_type": "code",
   "source": "df_63[(df_63['provinceKey'].str.contains('hochiminh'))][['province', 'district', 'districtShort', 'provinceKey', 'districtKey', 'districtShortKey', 'districtKeywords']].drop_duplicates()",
   "id": "c2d93143a683c7de",
   "outputs": [],
   "execution_count": null
  },
  {
   "metadata": {
    "ExecuteTime": {
     "end_time": "2025-08-03T18:17:21.168729Z",
     "start_time": "2025-08-03T18:17:21.154467Z"
    }
   },
   "cell_type": "code",
   "source": "df_63[(df_63['provinceKey'].str.contains('hochiminh')) & (df_63['districtKey'].str.contains('tanbinh'))][['province', 'district', 'districtShort', 'provinceKey', 'districtKey', 'ward', 'wardKey', 'wardKeywords']].drop_duplicates()",
   "id": "9e12d5d8f0e6ddb8",
   "outputs": [
    {
     "data": {
      "text/plain": [
       "                   province       district districtShort        provinceKey  \\\n",
       "8245  Thành phố Hồ Chí Minh  Quận Tân Bình      Tân Bình  thanhphohochiminh   \n",
       "8246  Thành phố Hồ Chí Minh  Quận Tân Bình      Tân Bình  thanhphohochiminh   \n",
       "8247  Thành phố Hồ Chí Minh  Quận Tân Bình      Tân Bình  thanhphohochiminh   \n",
       "8248  Thành phố Hồ Chí Minh  Quận Tân Bình      Tân Bình  thanhphohochiminh   \n",
       "8249  Thành phố Hồ Chí Minh  Quận Tân Bình      Tân Bình  thanhphohochiminh   \n",
       "8250  Thành phố Hồ Chí Minh  Quận Tân Bình      Tân Bình  thanhphohochiminh   \n",
       "8251  Thành phố Hồ Chí Minh  Quận Tân Bình      Tân Bình  thanhphohochiminh   \n",
       "8252  Thành phố Hồ Chí Minh  Quận Tân Bình      Tân Bình  thanhphohochiminh   \n",
       "8253  Thành phố Hồ Chí Minh  Quận Tân Bình      Tân Bình  thanhphohochiminh   \n",
       "8254  Thành phố Hồ Chí Minh  Quận Tân Bình      Tân Bình  thanhphohochiminh   \n",
       "8255  Thành phố Hồ Chí Minh  Quận Tân Bình      Tân Bình  thanhphohochiminh   \n",
       "8256  Thành phố Hồ Chí Minh  Quận Tân Bình      Tân Bình  thanhphohochiminh   \n",
       "8257  Thành phố Hồ Chí Minh  Quận Tân Bình      Tân Bình  thanhphohochiminh   \n",
       "8258  Thành phố Hồ Chí Minh  Quận Tân Bình      Tân Bình  thanhphohochiminh   \n",
       "8259  Thành phố Hồ Chí Minh  Quận Tân Bình      Tân Bình  thanhphohochiminh   \n",
       "\n",
       "      districtKey       ward   wardKey  \\\n",
       "8245  quantanbinh   Phường 2   phuong2   \n",
       "8246  quantanbinh   Phường 4   phuong4   \n",
       "8247  quantanbinh  Phường 12  phuong12   \n",
       "8248  quantanbinh  Phường 13  phuong13   \n",
       "8249  quantanbinh   Phường 1   phuong1   \n",
       "8250  quantanbinh   Phường 3   phuong3   \n",
       "8251  quantanbinh  Phường 11  phuong11   \n",
       "8252  quantanbinh   Phường 7   phuong7   \n",
       "8253  quantanbinh   Phường 5   phuong5   \n",
       "8254  quantanbinh  Phường 10  phuong10   \n",
       "8255  quantanbinh   Phường 6   phuong6   \n",
       "8256  quantanbinh   Phường 8   phuong8   \n",
       "8257  quantanbinh   Phường 9   phuong9   \n",
       "8258  quantanbinh  Phường 14  phuong14   \n",
       "8259  quantanbinh  Phường 15  phuong15   \n",
       "\n",
       "                                           wardKeywords  \n",
       "8245  [\"phuong02\", \"phuong2\", \"ward02\", \"ward2\", \"f0...  \n",
       "8246  [\"phuong04\", \"phuong4\", \"ward04\", \"ward4\", \"f0...  \n",
       "8247               [\"phuong12\", \"ward12\", \"p12\", \"f12\"]  \n",
       "8248               [\"phuong13\", \"ward13\", \"f13\", \"p13\"]  \n",
       "8249  [\"phuong01\", \"phuong1\", \"ward01\", \"ward1\", \"f0...  \n",
       "8250  [\"phuong03\", \"phuong3\", \"ward03\", \"ward3\", \"p0...  \n",
       "8251               [\"phuong11\", \"ward11\", \"p11\", \"f11\"]  \n",
       "8252  [\"phuong07\", \"phuong7\", \"ward07\", \"ward7\", \"f0...  \n",
       "8253  [\"phuong05\", \"phuong5\", \"ward05\", \"ward5\", \"f0...  \n",
       "8254               [\"phuong10\", \"ward10\", \"p10\", \"f10\"]  \n",
       "8255  [\"phuong06\", \"phuong6\", \"ward06\", \"ward6\", \"p0...  \n",
       "8256  [\"phuong08\", \"phuong8\", \"ward08\", \"ward8\", \"p0...  \n",
       "8257  [\"phuong09\", \"phuong9\", \"ward09\", \"ward9\", \"f0...  \n",
       "8258               [\"phuong14\", \"ward14\", \"f14\", \"p14\"]  \n",
       "8259               [\"phuong15\", \"ward15\", \"f15\", \"p15\"]  "
      ],
      "text/html": [
       "<div>\n",
       "<style scoped>\n",
       "    .dataframe tbody tr th:only-of-type {\n",
       "        vertical-align: middle;\n",
       "    }\n",
       "\n",
       "    .dataframe tbody tr th {\n",
       "        vertical-align: top;\n",
       "    }\n",
       "\n",
       "    .dataframe thead th {\n",
       "        text-align: right;\n",
       "    }\n",
       "</style>\n",
       "<table border=\"1\" class=\"dataframe\">\n",
       "  <thead>\n",
       "    <tr style=\"text-align: right;\">\n",
       "      <th></th>\n",
       "      <th>province</th>\n",
       "      <th>district</th>\n",
       "      <th>districtShort</th>\n",
       "      <th>provinceKey</th>\n",
       "      <th>districtKey</th>\n",
       "      <th>ward</th>\n",
       "      <th>wardKey</th>\n",
       "      <th>wardKeywords</th>\n",
       "    </tr>\n",
       "  </thead>\n",
       "  <tbody>\n",
       "    <tr>\n",
       "      <th>8245</th>\n",
       "      <td>Thành phố Hồ Chí Minh</td>\n",
       "      <td>Quận Tân Bình</td>\n",
       "      <td>Tân Bình</td>\n",
       "      <td>thanhphohochiminh</td>\n",
       "      <td>quantanbinh</td>\n",
       "      <td>Phường 2</td>\n",
       "      <td>phuong2</td>\n",
       "      <td>[\"phuong02\", \"phuong2\", \"ward02\", \"ward2\", \"f0...</td>\n",
       "    </tr>\n",
       "    <tr>\n",
       "      <th>8246</th>\n",
       "      <td>Thành phố Hồ Chí Minh</td>\n",
       "      <td>Quận Tân Bình</td>\n",
       "      <td>Tân Bình</td>\n",
       "      <td>thanhphohochiminh</td>\n",
       "      <td>quantanbinh</td>\n",
       "      <td>Phường 4</td>\n",
       "      <td>phuong4</td>\n",
       "      <td>[\"phuong04\", \"phuong4\", \"ward04\", \"ward4\", \"f0...</td>\n",
       "    </tr>\n",
       "    <tr>\n",
       "      <th>8247</th>\n",
       "      <td>Thành phố Hồ Chí Minh</td>\n",
       "      <td>Quận Tân Bình</td>\n",
       "      <td>Tân Bình</td>\n",
       "      <td>thanhphohochiminh</td>\n",
       "      <td>quantanbinh</td>\n",
       "      <td>Phường 12</td>\n",
       "      <td>phuong12</td>\n",
       "      <td>[\"phuong12\", \"ward12\", \"p12\", \"f12\"]</td>\n",
       "    </tr>\n",
       "    <tr>\n",
       "      <th>8248</th>\n",
       "      <td>Thành phố Hồ Chí Minh</td>\n",
       "      <td>Quận Tân Bình</td>\n",
       "      <td>Tân Bình</td>\n",
       "      <td>thanhphohochiminh</td>\n",
       "      <td>quantanbinh</td>\n",
       "      <td>Phường 13</td>\n",
       "      <td>phuong13</td>\n",
       "      <td>[\"phuong13\", \"ward13\", \"f13\", \"p13\"]</td>\n",
       "    </tr>\n",
       "    <tr>\n",
       "      <th>8249</th>\n",
       "      <td>Thành phố Hồ Chí Minh</td>\n",
       "      <td>Quận Tân Bình</td>\n",
       "      <td>Tân Bình</td>\n",
       "      <td>thanhphohochiminh</td>\n",
       "      <td>quantanbinh</td>\n",
       "      <td>Phường 1</td>\n",
       "      <td>phuong1</td>\n",
       "      <td>[\"phuong01\", \"phuong1\", \"ward01\", \"ward1\", \"f0...</td>\n",
       "    </tr>\n",
       "    <tr>\n",
       "      <th>8250</th>\n",
       "      <td>Thành phố Hồ Chí Minh</td>\n",
       "      <td>Quận Tân Bình</td>\n",
       "      <td>Tân Bình</td>\n",
       "      <td>thanhphohochiminh</td>\n",
       "      <td>quantanbinh</td>\n",
       "      <td>Phường 3</td>\n",
       "      <td>phuong3</td>\n",
       "      <td>[\"phuong03\", \"phuong3\", \"ward03\", \"ward3\", \"p0...</td>\n",
       "    </tr>\n",
       "    <tr>\n",
       "      <th>8251</th>\n",
       "      <td>Thành phố Hồ Chí Minh</td>\n",
       "      <td>Quận Tân Bình</td>\n",
       "      <td>Tân Bình</td>\n",
       "      <td>thanhphohochiminh</td>\n",
       "      <td>quantanbinh</td>\n",
       "      <td>Phường 11</td>\n",
       "      <td>phuong11</td>\n",
       "      <td>[\"phuong11\", \"ward11\", \"p11\", \"f11\"]</td>\n",
       "    </tr>\n",
       "    <tr>\n",
       "      <th>8252</th>\n",
       "      <td>Thành phố Hồ Chí Minh</td>\n",
       "      <td>Quận Tân Bình</td>\n",
       "      <td>Tân Bình</td>\n",
       "      <td>thanhphohochiminh</td>\n",
       "      <td>quantanbinh</td>\n",
       "      <td>Phường 7</td>\n",
       "      <td>phuong7</td>\n",
       "      <td>[\"phuong07\", \"phuong7\", \"ward07\", \"ward7\", \"f0...</td>\n",
       "    </tr>\n",
       "    <tr>\n",
       "      <th>8253</th>\n",
       "      <td>Thành phố Hồ Chí Minh</td>\n",
       "      <td>Quận Tân Bình</td>\n",
       "      <td>Tân Bình</td>\n",
       "      <td>thanhphohochiminh</td>\n",
       "      <td>quantanbinh</td>\n",
       "      <td>Phường 5</td>\n",
       "      <td>phuong5</td>\n",
       "      <td>[\"phuong05\", \"phuong5\", \"ward05\", \"ward5\", \"f0...</td>\n",
       "    </tr>\n",
       "    <tr>\n",
       "      <th>8254</th>\n",
       "      <td>Thành phố Hồ Chí Minh</td>\n",
       "      <td>Quận Tân Bình</td>\n",
       "      <td>Tân Bình</td>\n",
       "      <td>thanhphohochiminh</td>\n",
       "      <td>quantanbinh</td>\n",
       "      <td>Phường 10</td>\n",
       "      <td>phuong10</td>\n",
       "      <td>[\"phuong10\", \"ward10\", \"p10\", \"f10\"]</td>\n",
       "    </tr>\n",
       "    <tr>\n",
       "      <th>8255</th>\n",
       "      <td>Thành phố Hồ Chí Minh</td>\n",
       "      <td>Quận Tân Bình</td>\n",
       "      <td>Tân Bình</td>\n",
       "      <td>thanhphohochiminh</td>\n",
       "      <td>quantanbinh</td>\n",
       "      <td>Phường 6</td>\n",
       "      <td>phuong6</td>\n",
       "      <td>[\"phuong06\", \"phuong6\", \"ward06\", \"ward6\", \"p0...</td>\n",
       "    </tr>\n",
       "    <tr>\n",
       "      <th>8256</th>\n",
       "      <td>Thành phố Hồ Chí Minh</td>\n",
       "      <td>Quận Tân Bình</td>\n",
       "      <td>Tân Bình</td>\n",
       "      <td>thanhphohochiminh</td>\n",
       "      <td>quantanbinh</td>\n",
       "      <td>Phường 8</td>\n",
       "      <td>phuong8</td>\n",
       "      <td>[\"phuong08\", \"phuong8\", \"ward08\", \"ward8\", \"p0...</td>\n",
       "    </tr>\n",
       "    <tr>\n",
       "      <th>8257</th>\n",
       "      <td>Thành phố Hồ Chí Minh</td>\n",
       "      <td>Quận Tân Bình</td>\n",
       "      <td>Tân Bình</td>\n",
       "      <td>thanhphohochiminh</td>\n",
       "      <td>quantanbinh</td>\n",
       "      <td>Phường 9</td>\n",
       "      <td>phuong9</td>\n",
       "      <td>[\"phuong09\", \"phuong9\", \"ward09\", \"ward9\", \"f0...</td>\n",
       "    </tr>\n",
       "    <tr>\n",
       "      <th>8258</th>\n",
       "      <td>Thành phố Hồ Chí Minh</td>\n",
       "      <td>Quận Tân Bình</td>\n",
       "      <td>Tân Bình</td>\n",
       "      <td>thanhphohochiminh</td>\n",
       "      <td>quantanbinh</td>\n",
       "      <td>Phường 14</td>\n",
       "      <td>phuong14</td>\n",
       "      <td>[\"phuong14\", \"ward14\", \"f14\", \"p14\"]</td>\n",
       "    </tr>\n",
       "    <tr>\n",
       "      <th>8259</th>\n",
       "      <td>Thành phố Hồ Chí Minh</td>\n",
       "      <td>Quận Tân Bình</td>\n",
       "      <td>Tân Bình</td>\n",
       "      <td>thanhphohochiminh</td>\n",
       "      <td>quantanbinh</td>\n",
       "      <td>Phường 15</td>\n",
       "      <td>phuong15</td>\n",
       "      <td>[\"phuong15\", \"ward15\", \"f15\", \"p15\"]</td>\n",
       "    </tr>\n",
       "  </tbody>\n",
       "</table>\n",
       "</div>"
      ]
     },
     "execution_count": 4,
     "metadata": {},
     "output_type": "execute_result"
    }
   ],
   "execution_count": 4
  },
  {
   "metadata": {
    "ExecuteTime": {
     "end_time": "2025-08-03T18:18:06.069798Z",
     "start_time": "2025-08-03T18:18:06.067178Z"
    }
   },
   "cell_type": "code",
   "source": "address = '307/21 Nguyễn Văn Trỗi, phường 1, Tân Bình, HCM'",
   "id": "574abd970be5acbd",
   "outputs": [],
   "execution_count": 9
  },
  {
   "metadata": {
    "ExecuteTime": {
     "end_time": "2025-08-03T18:17:58.215841Z",
     "start_time": "2025-08-03T18:17:58.212118Z"
    }
   },
   "cell_type": "code",
   "source": "parse_address(address, mode='LEGACY', level=3)",
   "id": "504c3c7a3e845b87",
   "outputs": [
    {
     "data": {
      "text/plain": [
       "Admin Unit: Phường 1, Quận Tân Bình, Thành phố Hồ Chí Minh\n",
       "Attribute       | Value                    \n",
       "----------------------------------------\n",
       "province        | Thành phố Hồ Chí Minh    \n",
       "district        | Quận Tân Bình            \n",
       "ward            | Phường 1                 \n",
       "street          |                          \n",
       "short_province  | Hồ Chí Minh              \n",
       "short_district  | Tân Bình                 \n",
       "short_ward      | Phường 1                 \n",
       "district_type   | Quận                     \n",
       "ward_type       | Phường                   \n",
       "latitude        | 10.800727                \n",
       "longitude       | 106.668569               "
      ]
     },
     "execution_count": 8,
     "metadata": {},
     "output_type": "execute_result"
    }
   ],
   "execution_count": 8
  },
  {
   "metadata": {
    "ExecuteTime": {
     "end_time": "2025-08-03T16:45:04.843332Z",
     "start_time": "2025-08-03T16:45:04.535028Z"
    }
   },
   "cell_type": "code",
   "source": "convert_address(address)",
   "id": "3c0fcbc2eb85f988",
   "outputs": [
    {
     "data": {
      "text/plain": [
       "Admin Unit: 272 - 274 Lý Thường Kiệt, Phường Diên Hồng, Thành phố Hồ Chí Minh\n",
       "Attribute       | Value                    \n",
       "----------------------------------------\n",
       "province        | Thành phố Hồ Chí Minh    \n",
       "ward            | Phường Diên Hồng         \n",
       "street          | 272 - 274 Lý Thường Kiệt \n",
       "short_province  | Hồ Chí Minh              \n",
       "short_ward      | Diên Hồng                \n",
       "ward_type       | Phường                   \n",
       "latitude        | 10.7691                  \n",
       "longitude       | 106.662                  "
      ]
     },
     "execution_count": 71,
     "metadata": {},
     "output_type": "execute_result"
    }
   ],
   "execution_count": 71
  },
  {
   "metadata": {
    "ExecuteTime": {
     "end_time": "2025-08-03T16:44:28.201473Z",
     "start_time": "2025-08-03T16:44:28.196814Z"
    }
   },
   "cell_type": "code",
   "source": "parse_address_legacy(address)",
   "id": "ede48ea452ebdacf",
   "outputs": [
    {
     "data": {
      "text/plain": [
       "AdministrativeUnit:\n",
       "Attribute                 | Value                    \n",
       "----------------------------------------------------\n",
       "province                  | Hồ Chí Minh              \n",
       "district                  | Quận 8                   \n",
       "ward                      | Phường 5                 \n",
       "----------------------------------------------------\n",
       "long_province             | Thành phố Hồ Chí Minh    \n",
       "long_district             | Quận 8                   \n",
       "long_ward                 | Phường 5                 \n",
       "----------------------------------------------------\n",
       "short_district            | Quận 8                   \n",
       "short_ward                | Phường 5                 \n",
       "----------------------------------------------------\n",
       "province_english          | Ho Chi Minh              \n",
       "district_english          | District 8               \n",
       "ward_english              | Ward 5                   \n",
       "----------------------------------------------------\n",
       "long_province_english     | Ho Chi Minh City         \n",
       "long_district_english     | District 8               \n",
       "long_ward_english         | Ward 5                   \n",
       "----------------------------------------------------\n",
       "short_district_english    | District 8               \n",
       "short_ward_english        | Ward 5                   \n",
       "----------------------------------------------------\n",
       "district_level            | Quận                     \n",
       "ward_level                | Phường                   \n",
       "----------------------------------------------------\n",
       "district_level_english    | District                 \n",
       "ward_level_english        | Ward                     "
      ]
     },
     "execution_count": 65,
     "metadata": {},
     "output_type": "execute_result"
    }
   ],
   "execution_count": 65
  },
  {
   "metadata": {},
   "cell_type": "code",
   "source": "",
   "id": "e2a95e5baec559d8",
   "outputs": [],
   "execution_count": null
  }
 ],
 "metadata": {
  "kernelspec": {
   "display_name": "Python [conda env:base] *",
   "language": "python",
   "name": "conda-base-py"
  },
  "language_info": {
   "codemirror_mode": {
    "name": "ipython",
    "version": 2
   },
   "file_extension": ".py",
   "mimetype": "text/x-python",
   "name": "python",
   "nbconvert_exporter": "python",
   "pygments_lexer": "ipython2",
   "version": "2.7.6"
  }
 },
 "nbformat": 4,
 "nbformat_minor": 5
}
