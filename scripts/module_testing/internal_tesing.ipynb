{
 "cells": [
  {
   "cell_type": "code",
   "id": "initial_id",
   "metadata": {
    "collapsed": true,
    "ExecuteTime": {
     "end_time": "2025-08-03T17:49:07.766763Z",
     "start_time": "2025-08-03T17:49:06.991671Z"
    }
   },
   "source": [
    "from vietnamadminunits.database import get_data\n",
    "from vietnamadminunits.pandas import standardize_admin_unit_columns, convert_address_column\n",
    "from vietnamadminunits import parse_address, ParseMode, convert_address, ConvertMode\n",
    "import pandas as pd"
   ],
   "outputs": [],
   "execution_count": 1
  },
  {
   "cell_type": "markdown",
   "id": "edb39b45aa49c023",
   "metadata": {},
   "source": [
    "## Testing core functions"
   ]
  },
  {
   "cell_type": "code",
   "id": "5e919e5f4034722",
   "metadata": {},
   "source": [
    "# Parse a new administrative unit address\n",
    "address = '70 Nguyễn Sỹ Sách, Tan Son, tp.HCM'\n",
    "\n",
    "admin_unit = parse_address(address)\n",
    "\n",
    "print(admin_unit)"
   ],
   "outputs": [],
   "execution_count": null
  },
  {
   "cell_type": "code",
   "id": "cb0018e4e6ca4ce8",
   "metadata": {},
   "source": [
    "# Parse an old administrative unit address\n",
    "address = '70 nguyễn sỹ sách, p.15, Tân Bình, Tp.HCM' # Old administrative unit address structure\n",
    "\n",
    "admin_unit = parse_address(address, mode='LEGACY', level=3) # Use 'LEGACY' or ParseMode.LEGACY for mode\n",
    "\n",
    "print(admin_unit)"
   ],
   "outputs": [],
   "execution_count": null
  },
  {
   "cell_type": "code",
   "id": "ac25307b32f1f0ed",
   "metadata": {},
   "source": [
    "# Convert address\n",
    "address = '70 nguyễn sỹ sách, p.15, Tân Bình, Tp.HCM' # Old administrative unit address structure\n",
    "\n",
    "admin_unit = convert_address(address)\n",
    "\n",
    "print(admin_unit)"
   ],
   "outputs": [],
   "execution_count": null
  },
  {
   "cell_type": "code",
   "id": "f16989c4a2bcd06f",
   "metadata": {},
   "source": [
    "# Get data\n",
    "print(get_data(limit=2))\n",
    "print('-'*50)\n",
    "print(get_data(table='admin_units_legacy', limit=2))"
   ],
   "outputs": [],
   "execution_count": null
  },
  {
   "cell_type": "markdown",
   "id": "8597099d11d745f1",
   "metadata": {},
   "source": [
    "## Testing multiple functions with DataFrame"
   ]
  },
  {
   "cell_type": "code",
   "id": "33720b30cc605da8",
   "metadata": {},
   "source": [
    "# Standardize new administrative unit columns\n",
    "df = pd.DataFrame(get_data(fields=['province', 'ward']))\n",
    "df = standardize_admin_unit_columns(df, province='province', ward='ward', short_name=False)\n",
    "df"
   ],
   "outputs": [],
   "execution_count": null
  },
  {
   "cell_type": "code",
   "id": "1d613a8cf351fb70",
   "metadata": {},
   "source": [
    "df.describe()"
   ],
   "outputs": [],
   "execution_count": null
  },
  {
   "cell_type": "code",
   "id": "595bc342bde99787",
   "metadata": {},
   "source": [
    "# Standardize new administrative unit columns\n",
    "df = pd.DataFrame(get_data(fields=['provinceShort', 'wardShort']))\n",
    "df = standardize_admin_unit_columns(df, province='provinceShort', ward='wardShort', short_name=True)\n",
    "df"
   ],
   "outputs": [],
   "execution_count": null
  },
  {
   "cell_type": "code",
   "id": "26040c93badeaf59",
   "metadata": {},
   "source": [
    "df.describe()"
   ],
   "outputs": [],
   "execution_count": null
  },
  {
   "cell_type": "code",
   "id": "e033e07538d06741",
   "metadata": {},
   "source": [
    "# Standardize old administrative unit columns\n",
    "df = pd.DataFrame(get_data(fields=['province', 'district', 'ward'], table='admin_units_legacy'))\n",
    "df = standardize_admin_unit_columns(df, province='province', district='district', ward='ward', parse_mode='LEGACY', short_name=False)\n",
    "df"
   ],
   "outputs": [],
   "execution_count": null
  },
  {
   "cell_type": "code",
   "id": "74d117e6aef0be5d",
   "metadata": {},
   "source": [
    "df.describe()"
   ],
   "outputs": [],
   "execution_count": null
  },
  {
   "cell_type": "code",
   "id": "523efbbbe558ce5",
   "metadata": {},
   "source": [
    "# Standardize old administrative unit columns\n",
    "df = pd.DataFrame(get_data(fields=['provinceShort', 'districtShort', 'wardShort'], table='admin_units_legacy'))\n",
    "df = standardize_admin_unit_columns(df, province='provinceShort', district='districtShort', ward='wardShort', parse_mode='LEGACY', short_name=True)\n",
    "df"
   ],
   "outputs": [],
   "execution_count": null
  },
  {
   "cell_type": "code",
   "id": "9c68961da9630ebd",
   "metadata": {},
   "source": [
    "df.describe()"
   ],
   "outputs": [],
   "execution_count": null
  },
  {
   "cell_type": "code",
   "id": "32d36f535eccaf9e",
   "metadata": {},
   "source": [
    "# Convert old administrative unit columns to new administrative unit columns\n",
    "df = pd.DataFrame(get_data(fields=['province', 'district', 'ward'], table='admin_units_legacy'))\n",
    "df = standardize_admin_unit_columns(df, province='province', district='district', ward='ward', convert_mode='CONVERT_2025', short_name=False)\n",
    "df"
   ],
   "outputs": [],
   "execution_count": null
  },
  {
   "cell_type": "code",
   "id": "988f256d46bc7517",
   "metadata": {},
   "source": [
    "df.describe()"
   ],
   "outputs": [],
   "execution_count": null
  },
  {
   "metadata": {
    "ExecuteTime": {
     "end_time": "2025-08-03T17:56:34.039801Z",
     "start_time": "2025-08-03T17:56:32.023192Z"
    }
   },
   "cell_type": "code",
   "source": [
    "data = {\n",
    "    'address': [\n",
    "        'Ngã 4 xóm ao dài, thôn Tự Khoát, Xã Ngũ Hiệp, Huyện Thanh Trì, Hà Nội',\n",
    "        '50 ngõ 133 thái hà, hà nội, Phường Trung Liệt, Quận Đống Đa, Hà Nội',\n",
    "        'P402 CT9A KĐT VIỆT HƯNG, Phường Đức Giang, Quận Long Biên, Hà Nội',\n",
    "        '169/8A, Thoại Ngọc Hầu, Phường Phú Thạnh, Quận Tân Phú, TP. Hồ Chí Minh',\n",
    "        '02 lê đại hành, phường 15, quận 11, tp.hcm, Phường 15, Quận 11, TP. Hồ Chí Minh'\n",
    "    ]\n",
    "}\n",
    "\n",
    "df = pd.DataFrame(data)\n",
    "\n",
    "converted_df = convert_address_column(df, address='address', short_name=False)\n",
    "print(converted_df.to_markdown(index=False))"
   ],
   "id": "388386677f180204",
   "outputs": [
    {
     "name": "stdout",
     "output_type": "stream",
     "text": [
      "| address                                                                         | converted_address                                        |\n",
      "|:--------------------------------------------------------------------------------|:---------------------------------------------------------|\n",
      "| Ngã 4 xóm ao dài, thôn Tự Khoát, Xã Ngũ Hiệp, Huyện Thanh Trì, Hà Nội           | Ngã 4 Xóm Ao Dài, Xã Thanh Trì, Thủ đô Hà Nội            |\n",
      "| 50 ngõ 133 thái hà, hà nội, Phường Trung Liệt, Quận Đống Đa, Hà Nội             | 50 Ngõ 133 Thái Hà, Phường Đống Đa, Thủ đô Hà Nội        |\n",
      "| P402 CT9A KĐT VIỆT HƯNG, Phường Đức Giang, Quận Long Biên, Hà Nội               | P402 Ct9A Kđt Việt Hưng, Phường Việt Hưng, Thủ đô Hà Nội |\n",
      "| 169/8A, Thoại Ngọc Hầu, Phường Phú Thạnh, Quận Tân Phú, TP. Hồ Chí Minh         | 169/8A, Phường Phú Thạnh, Thành phố Hồ Chí Minh          |\n",
      "| 02 lê đại hành, phường 15, quận 11, tp.hcm, Phường 15, Quận 11, TP. Hồ Chí Minh | 02 Lê Đại Hành, Phường Phú Thọ, Thành phố Hồ Chí Minh    |\n"
     ]
    }
   ],
   "execution_count": 8
  },
  {
   "metadata": {
    "ExecuteTime": {
     "end_time": "2025-08-03T18:01:10.629562Z",
     "start_time": "2025-08-03T18:01:10.621003Z"
    }
   },
   "cell_type": "code",
   "source": [
    "data = [\n",
    "    {'province': 'Thành phố Hồ Chí Minh', 'district': 'Quận 1', 'ward': 'Phường Tân Định'},\n",
    "    {'province': 'Thành phố Hồ Chí Minh', 'district': 'Quận 1', 'ward': 'Phường Đa Kao'},\n",
    "    {'province': 'Thành phố Hồ Chí Minh', 'district': 'Quận 1', 'ward': 'Phường Bến Nghé'},\n",
    "    {'province': 'Thành phố Hồ Chí Minh', 'district': 'Quận 1', 'ward': 'Phường Bến Thành'},\n",
    "    {'province': 'Thành phố Hồ Chí Minh', 'district': 'Quận 1', 'ward': 'Phường Nguyễn Thái Bình'}\n",
    "]\n",
    "\n",
    "df = pd.DataFrame(data)\n",
    "\n",
    "standardized_df = standardize_admin_unit_columns(df, province='province', district='district', ward='ward', convert_mode='CONVERT_2025')\n",
    "\n",
    "print(standardized_df.to_markdown(index=False))"
   ],
   "id": "4236425180724d0f",
   "outputs": [
    {
     "name": "stdout",
     "output_type": "stream",
     "text": [
      "| province              | district   | ward                    | standardized_province   | standardized_ward   |\n",
      "|:----------------------|:-----------|:------------------------|:------------------------|:--------------------|\n",
      "| Thành phố Hồ Chí Minh | Quận 1     | Phường Tân Định         | Hồ Chí Minh             | Tân Định            |\n",
      "| Thành phố Hồ Chí Minh | Quận 1     | Phường Đa Kao           | Hồ Chí Minh             | Sài Gòn             |\n",
      "| Thành phố Hồ Chí Minh | Quận 1     | Phường Bến Nghé         | Hồ Chí Minh             | Sài Gòn             |\n",
      "| Thành phố Hồ Chí Minh | Quận 1     | Phường Bến Thành        | Hồ Chí Minh             | Bến Thành           |\n",
      "| Thành phố Hồ Chí Minh | Quận 1     | Phường Nguyễn Thái Bình | Hồ Chí Minh             | Bến Thành           |\n"
     ]
    }
   ],
   "execution_count": 9
  },
  {
   "metadata": {},
   "cell_type": "code",
   "outputs": [],
   "execution_count": null,
   "source": "",
   "id": "3bccb41e3fd03027"
  }
 ],
 "metadata": {
  "kernelspec": {
   "display_name": "Python [conda env:base] *",
   "language": "python",
   "name": "conda-base-py"
  },
  "language_info": {
   "codemirror_mode": {
    "name": "ipython",
    "version": 3
   },
   "file_extension": ".py",
   "mimetype": "text/x-python",
   "name": "python",
   "nbconvert_exporter": "python",
   "pygments_lexer": "ipython3",
   "version": "3.12.7"
  }
 },
 "nbformat": 4,
 "nbformat_minor": 5
}
